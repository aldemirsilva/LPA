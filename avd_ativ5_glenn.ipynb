{
  "cells": [
    {
      "cell_type": "markdown",
      "metadata": {
        "id": "view-in-github",
        "colab_type": "text"
      },
      "source": [
        "<a href=\"https://colab.research.google.com/github/aldemirsilva/LPA/blob/main/avd_ativ5_glenn.ipynb\" target=\"_parent\"><img src=\"https://colab.research.google.com/assets/colab-badge.svg\" alt=\"Open In Colab\"/></a>"
      ]
    },
    {
      "cell_type": "markdown",
      "metadata": {
        "id": "Sx6mCTbouRpy"
      },
      "source": [
        "# Avaliação de Desempenho - Atividade 4 (2022-1)"
      ]
    },
    {
      "cell_type": "markdown",
      "metadata": {
        "id": "b_bOma1UMUxJ"
      },
      "source": [
        "# Atividade e Resolução"
      ]
    },
    {
      "cell_type": "markdown",
      "metadata": {
        "id": "58nAMbBrM1lg"
      },
      "source": [
        "## Configuração do Notebook"
      ]
    },
    {
      "cell_type": "markdown",
      "metadata": {
        "id": "h4FyssXRuRp9"
      },
      "source": [
        "### Inclusão de Dependências"
      ]
    },
    {
      "cell_type": "code",
      "execution_count": null,
      "metadata": {
        "colab": {
          "base_uri": "https://localhost:8080/"
        },
        "id": "lmObaZ84uRp_",
        "outputId": "dbbfd413-1af9-4bf6-d7c9-078c7086b4b1"
      },
      "outputs": [
        {
          "output_type": "stream",
          "name": "stdout",
          "text": [
            "Looking in indexes: https://pypi.org/simple, https://us-python.pkg.dev/colab-wheels/public/simple/\n",
            "Requirement already satisfied: tqdm in /usr/local/lib/python3.8/dist-packages (4.64.1)\n",
            "Requirement already satisfied: scipy in /usr/local/lib/python3.8/dist-packages (1.7.3)\n",
            "Requirement already satisfied: statistics in /usr/local/lib/python3.8/dist-packages (1.0.3.5)\n",
            "Requirement already satisfied: matplotlib in /usr/local/lib/python3.8/dist-packages (3.2.2)\n",
            "Requirement already satisfied: pandas in /usr/local/lib/python3.8/dist-packages (1.3.5)\n",
            "Requirement already satisfied: numpy in /usr/local/lib/python3.8/dist-packages (1.21.6)\n",
            "Requirement already satisfied: docutils>=0.3 in /usr/local/lib/python3.8/dist-packages (from statistics) (0.16)\n",
            "Requirement already satisfied: kiwisolver>=1.0.1 in /usr/local/lib/python3.8/dist-packages (from matplotlib) (1.4.4)\n",
            "Requirement already satisfied: pyparsing!=2.0.4,!=2.1.2,!=2.1.6,>=2.0.1 in /usr/local/lib/python3.8/dist-packages (from matplotlib) (3.0.9)\n",
            "Requirement already satisfied: cycler>=0.10 in /usr/local/lib/python3.8/dist-packages (from matplotlib) (0.11.0)\n",
            "Requirement already satisfied: python-dateutil>=2.1 in /usr/local/lib/python3.8/dist-packages (from matplotlib) (2.8.2)\n",
            "Requirement already satisfied: pytz>=2017.3 in /usr/local/lib/python3.8/dist-packages (from pandas) (2022.7.1)\n",
            "Requirement already satisfied: six>=1.5 in /usr/local/lib/python3.8/dist-packages (from python-dateutil>=2.1->matplotlib) (1.15.0)\n"
          ]
        }
      ],
      "source": [
        "# !pip install tqdm scipy statistics matplotlib pandas numpy"
      ]
    },
    {
      "cell_type": "markdown",
      "metadata": {
        "id": "2Iv16npOuRqH"
      },
      "source": [
        "### Importar Bibliotecas"
      ]
    },
    {
      "cell_type": "code",
      "execution_count": null,
      "metadata": {
        "id": "PNEvxYjEuRqJ"
      },
      "outputs": [],
      "source": [
        "from random import random\n",
        "import numpy as np\n",
        "import pandas as pd\n",
        "import math\n",
        "from tqdm import tqdm\n",
        "from scipy.stats import t\n",
        "from statistics import stdev\n",
        "import matplotlib.pyplot as plt\n",
        "# import pandas as pd\n",
        "# from scipy.interpolate import make_interp_spline"
      ]
    },
    {
      "cell_type": "markdown",
      "metadata": {
        "id": "ejG5l1A-uRqN"
      },
      "source": [
        "### Definição de Classes, Funções e Utilitários"
      ]
    },
    {
      "cell_type": "markdown",
      "metadata": {
        "id": "klW9RfMLCm3r"
      },
      "source": [
        "#### Gerador de Variáveis Aleatórias"
      ]
    },
    {
      "cell_type": "code",
      "execution_count": null,
      "metadata": {
        "id": "KRH9KtrXuRqP"
      },
      "outputs": [],
      "source": [
        "def va_exp(beta):\n",
        "    return -beta * math.log(1 - random())"
      ]
    },
    {
      "cell_type": "markdown",
      "metadata": {
        "id": "vQeF4zqnuRqV"
      },
      "source": [
        "#### Simulador de Fila M/M/1"
      ]
    },
    {
      "cell_type": "code",
      "execution_count": null,
      "metadata": {
        "id": "E_Igy6R030dB"
      },
      "outputs": [],
      "source": [
        "class Simulador_Fila():\n",
        "    def __init__(self, n, tx_entrada, tx_servico, gerador):\n",
        "        self.tx_entrada = tx_entrada\n",
        "        self.tx_servico = tx_servico\n",
        "        self.gerador = gerador\n",
        "        self.n = n  #capacidade\n",
        "        self.n_atual = 0  #ocupação\n",
        "        # Métricas Fixas\n",
        "        self.roh = tx_entrada / tx_servico\n",
        "        self.valor_esperado = self.roh * (1 / tx_servico) / (1 - self.roh)\n",
        "        self.beta_entrada = 1 / tx_entrada\n",
        "        self.beta_servico = 1 / tx_servico\n",
        "        ## Temporários\n",
        "        self.ultimo_fim_servico_relogio = 0\n",
        "        self.ultima_chegada_relogio = 0\n",
        "        ## Séries\n",
        "        self.serie_tempo_na_fila = np.ndarray(shape=(self.n,), dtype=float)\n",
        "        ##### Execução inicial\n",
        "        self.executar()\n",
        "\n",
        "    def incrementar(self, qntd):\n",
        "        # Aumentar qntd de observacoes\n",
        "        self.n += qntd\n",
        "        self.serie_tempo_na_fila.resize(self.n)\n",
        "        # Executar\n",
        "        self.executar()\n",
        "\n",
        "    def redimensionar(self, novo_n):\n",
        "        if self.n >= novo_n:\n",
        "            return\n",
        "        self.n = novo_n\n",
        "        self.serie_tempo_na_fila.resize(self.n)\n",
        "        # Executar\n",
        "        self.executar()\n",
        "\n",
        "    def executar(self):\n",
        "        # Iniciar simulação a partir de onde parou (ou do inicio)\n",
        "        for i in tqdm(range(self.n_atual, self.n),\n",
        "                      f'N={self.n} Gerando {self.n - self.n_atual} [{self.n_atual},{self.n - 1}]'):\n",
        "            tempo_desde_ultima_chegada = self.gerador(self.beta_entrada)\n",
        "            tempo_do_servico = self.gerador(self.beta_servico)\n",
        "            tempo_chegada_relogio = self.ultima_chegada_relogio + tempo_desde_ultima_chegada\n",
        "            tempo_inicio_servico_relogio = max(self.ultimo_fim_servico_relogio, tempo_chegada_relogio)\n",
        "            self.serie_tempo_na_fila[i] = tempo_inicio_servico_relogio - tempo_chegada_relogio\n",
        "            tempo_fim_servico_relogio = tempo_inicio_servico_relogio + tempo_do_servico\n",
        "            #atualizar ultimo\n",
        "            self.ultimo_fim_servico_relogio = tempo_fim_servico_relogio\n",
        "            self.ultima_chegada_relogio = tempo_chegada_relogio\n",
        "        #atualizar n_atual\n",
        "        self.n_atual = self.n\n",
        "\n",
        "    def eliminar_transiente(self, ponto):\n",
        "        self.n -= ponto\n",
        "        self.n_atual = self.n\n",
        "        self.serie_tempo_na_fila = np.copy(self.serie_tempo_na_fila[ponto:])\n",
        "\n",
        "    def media_tempo_na_fila(self):\n",
        "        return np.mean(self.serie_tempo_na_fila)\n",
        "\n",
        "    def desvio_padrao_tempo_na_fila(self):\n",
        "        media = np.mean(self.serie_tempo_na_fila)\n",
        "        return stdev(self.serie_tempo_na_fila, media)\n",
        "\n",
        "    def metricas_tempo_na_fila(self, alfa=0.05):\n",
        "        media = np.mean(self.serie_tempo_na_fila)\n",
        "        desvio_padrao = stdev(self.serie_tempo_na_fila, media)\n",
        "        #calcular H\n",
        "        t_crit = t.ppf(1 - alfa / 2, self.n - 1)\n",
        "        H = t_crit * desvio_padrao / math.sqrt(self.n)\n",
        "        return media, H\n",
        "\n",
        "    def __len__(self):\n",
        "        return self.n\n",
        "\n",
        "    def __repr__(self):\n",
        "        return f\"\"\"<Simulador de Fila M/M/1\n",
        "  - Número de Observações: {self.n}\n",
        "  - Taxa de Entrada: {self.tx_entrada}/s\n",
        "  - Taxa de Serviço: {self.tx_servico}/s\n",
        "  - Última Entrada (Tempo Relógio): {self.ultima_chegada_relogio}\n",
        "  - Gerador: {self.gerador.__name__}\n",
        "  >\n",
        "  \"\"\""
      ]
    },
    {
      "cell_type": "markdown",
      "metadata": {
        "id": "4qjWK8G3FEmA"
      },
      "source": [
        "#### Heurística MSER-5Y"
      ]
    },
    {
      "cell_type": "code",
      "execution_count": null,
      "metadata": {
        "id": "Ni7OAgiQ_PII"
      },
      "outputs": [],
      "source": [
        "def mser_5y(fila, M=5):\n",
        "    obs = fila.serie_tempo_na_fila\n",
        "    N = fila.n\n",
        "    K = N // M\n",
        "    # Calcular Série Z\n",
        "    serie_Z = np.zeros((K,), dtype=float)\n",
        "    for j in range(K):\n",
        "        inicio = j * 5\n",
        "        serie_Z[j] = np.mean(obs[inicio: inicio + M])\n",
        "    # Calcular Série MSER5\n",
        "    serie_MSER5Y = np.zeros((K // 2,), dtype=float)\n",
        "    for d in tqdm(range(K // 2), \"Calcular MSER-5Y(k, d)\"):\n",
        "        zbar = round((1 / (K - d)) * sum(serie_Z, d), 6)\n",
        "        somatorio = 0\n",
        "        for j in range(d, K):\n",
        "            somatorio += (serie_Z[j] - zbar) ** 2\n",
        "        s2_z = (1 / (K - d)) * somatorio\n",
        "        serie_MSER5Y[d] = s2_z / math.sqrt(K - d)\n",
        "    # Salvar Mínimo MSER5 - Ponto de Truncagem\n",
        "    index_min = min(range(K // 2), key=serie_MSER5Y.__getitem__)\n",
        "    min_mser = serie_MSER5Y[index_min]\n",
        "    # Validar Igualdade\n",
        "    contem_igualdade = False\n",
        "    for i in tqdm(range(len(serie_MSER5Y) - 1), \"Validar MSER5Y-Igualdade Interna\"):\n",
        "        stat_i = round(serie_MSER5Y[i], 6)\n",
        "        for j in range(i + 1, len(serie_MSER5Y)):\n",
        "            stat_j = round(serie_MSER5Y[j], 6)\n",
        "            if stat_i == stat_j:\n",
        "                return False, -1\n",
        "    # Validade Segunda Metade (Verificar se há menores)\n",
        "    for d in tqdm(range(K // 2, K), \"Validar MSER5Y-Segunda Metade\"):\n",
        "        zbar = (1 / (K - d)) * sum(serie_Z, d)\n",
        "        somatorio = 0\n",
        "        for j in range(d, K):\n",
        "            somatorio += (serie_Z[j] - zbar) ** 2\n",
        "        s2_z = (1 / (K - d)) * somatorio\n",
        "        temp_mser = s2_z / math.sqrt(K - d)\n",
        "        if temp_mser < min_mser:\n",
        "            return False, -2\n",
        "    # Eliminar Transiente\n",
        "    ponto = (index_min + 1) * M\n",
        "    # Retornar validade e ponto de truncagem\n",
        "    return True, ponto\n"
      ]
    },
    {
      "cell_type": "markdown",
      "metadata": {
        "id": "UV7Wax42IBUB"
      },
      "source": [
        "#### Método Batch Means"
      ]
    },
    {
      "cell_type": "code",
      "execution_count": null,
      "metadata": {
        "id": "_5ZYmdoAIHkJ"
      },
      "outputs": [],
      "source": [
        "class NBM():\n",
        "    def __init__(self, fila, M, B):\n",
        "        self.fila = fila\n",
        "        self.M = M\n",
        "        self.B = B\n",
        "        self.serie_NBM = np.zeros((self.B,), dtype=float)\n",
        "        self.executar()\n",
        "\n",
        "    def executar(self):\n",
        "        self.fila.redimensionar(self.M * self.B)\n",
        "        for i in range(self.B):\n",
        "            j = i * self.M\n",
        "            self.serie_NBM[i] = sum(self.fila.serie_tempo_na_fila[j:j + self.M]) / self.M\n",
        "\n",
        "    def incrementar(self, M):\n",
        "        self.M += M\n",
        "        self.executar()\n",
        "\n",
        "    def metricas(self, alfa=0.05):\n",
        "        return self.fila.metricas_tempo_na_fila()\n",
        "\n",
        "    def agrupamento_obm(self, overlap=1):\n",
        "        overlap = 0 if overlap < 0 else 1 if overlap > 1 else overlap\n",
        "        self.overlap_qntd = min(math.ceil(overlap * self.M), self.M - 1)\n",
        "        self.B_linha = int((self.fila.n - self.M) / (self.M - self.overlap_qntd)) + 1\n",
        "        self.serie_OBM = np.zeros((self.B_linha), dtype=float)\n",
        "        for i in range(self.B_linha):\n",
        "            j = i * self.overlap_qntd\n",
        "            self.serie_OBM[i] = sum(self.fila.serie_tempo_na_fila[j:j + self.M]) / self.M\n",
        "\n",
        "    def agrupamento_sbm(self, s):\n",
        "        self.M_linha = self.M - s\n",
        "        self.serie_SBM = np.zeros((self.B), dtype=float)\n",
        "        for j in range(self.B):\n",
        "            for i in range(self.M_linha):\n",
        "                self.serie_SBM[j] = sum(self.fila.serie_tempo_na_fila[i+j:i + self.M_linha]) / self.M_linha\n",
        "\n",
        "    def metricas_obm(self, alfa=0.05):\n",
        "        media = np.mean(self.serie_OBM)\n",
        "        desvio_padrao = stdev(self.serie_OBM, media)\n",
        "        # calcular H\n",
        "        t_crit = t.ppf(1 - alfa / 2, 1.5 * (self.fila.n - 1))\n",
        "        H = t_crit * desvio_padrao / math.sqrt(self.B_linha)\n",
        "        return media, H\n",
        "\n",
        "    def metricas_sbm(self, alfa=0.05):\n",
        "        media = np.mean(self.serie_SBM)\n",
        "        desvio_padrao = stdev(self.serie_SBM, media)\n",
        "        # calcular H\n",
        "        t_crit = t.ppf(1 - alfa / 2, 1.5 * (self.fila.n - 1))\n",
        "        H = t_crit * desvio_padrao / math.sqrt(self.B)\n",
        "        return media, H\n",
        "\n",
        "    def __len__(self):\n",
        "        return self.B\n"
      ]
    },
    {
      "cell_type": "markdown",
      "metadata": {
        "id": "dTPiz17vTLZp"
      },
      "source": [
        "#### Teste de von Neuman"
      ]
    },
    {
      "cell_type": "code",
      "execution_count": null,
      "metadata": {
        "id": "ZaHarTCqJBsJ"
      },
      "outputs": [],
      "source": [
        "def von_neuman(cenario, valor_critico=1.29):\n",
        "    blocos = cenario.serie_NBM\n",
        "    B = len(blocos)\n",
        "    serie_R = [-1 for _ in range(B)]\n",
        "    for i, b in enumerate(blocos):\n",
        "        for tmp in blocos:\n",
        "            if tmp <= b:\n",
        "                serie_R[i] += 1\n",
        "    media_R = sum(serie_R) / B\n",
        "    RNV = sum([(serie_R[i] - serie_R[i + 1]) ** 2 for i in range(B - 1)]) / sum(\n",
        "        [(serie_R[i] - media_R) ** 2 for i in range(B)])\n",
        "\n",
        "    return RNV < valor_critico"
      ]
    },
    {
      "cell_type": "markdown",
      "metadata": {
        "id": "8zFJNVESqIM-"
      },
      "source": [
        "#### Plotter"
      ]
    },
    {
      "cell_type": "code",
      "execution_count": null,
      "metadata": {
        "id": "-xogixPhqMS7"
      },
      "outputs": [],
      "source": [
        "def plot_graph(results, expected_results, title=\"\"):\n",
        "    fig, ax = plt.subplots()\n",
        "\n",
        "    avgs, error_margin = zip(*results)\n",
        "    colors = ['red', 'blue', 'green', 'brown']\n",
        "    x = [1, 2, 3, 4]\n",
        "\n",
        "    for pos, y, err, color, expected in zip(x, avgs, error_margin, colors, expected_results):\n",
        "        ax.errorbar(pos, y, yerr=err, fmt='o', c=color, mec='black', ms=7, ecolor='black', capsize=5)\n",
        "        ax.axhline(y=expected, c=color, linestyle='--', label=f'Média esperada C-{pos}')\n",
        "\n",
        "    plt.xticks([1, 2, 3, 4], ['C-1', 'C-2', 'C-3', 'C-4'])\n",
        "    plt.margins(0.2)\n",
        "    plt.ylabel('Tempo médio de espera', fontsize=14)\n",
        "    plt.xlabel('Cenários', fontsize=14)\n",
        "    plt.legend(loc='center left', bbox_to_anchor=(1, 0.5))\n",
        "    plt.title(label=title)\n",
        "\n",
        "    plt.show()"
      ]
    },
    {
      "cell_type": "markdown",
      "metadata": {
        "id": "XlQGxSXpEveU"
      },
      "source": [
        "## Atividade 4 – Parte 1\n",
        "- Executar uma simulação de horizonte infinito da fila M/M/1.\n",
        "- Eliminar o transiente usando a heurística MSER-5Y.\n",
        "- Usar o método Batch Means para estimar o tempo médio de espera na fila e o\n",
        "respectivo intervalo de confiança de 95%.\n",
        "- A regra de parada é a precisão relativa de 5%.\n",
        "  - Cenário I: λ=7 clientes por segundo; μ=10 clientes por segundo.\n",
        "  - Cenário II: λ=8 clientes por segundo; μ=10 clientes por segundo.\n",
        "  - Cenário III: λ=9 clientes por segundo; μ=10 clientes por segundo.\n",
        "  - Cenário IV: λ=9,5 clientes por segundo; μ=10 clientes por segundo.\n",
        "- Plotar um gráfico comparativo dos quatro cenários.\n",
        "- Plotar uma linha horizontal para o valor teórico esperado em cada cenário."
      ]
    },
    {
      "cell_type": "markdown",
      "metadata": {
        "id": "_pg8ZzX-_abH"
      },
      "source": [
        "### Gerar Cenários e Eliminar Transiente"
      ]
    },
    {
      "cell_type": "code",
      "execution_count": null,
      "metadata": {
        "colab": {
          "base_uri": "https://localhost:8080/"
        },
        "id": "XeUe5zn__e-_",
        "outputId": "52ef4086-da3f-4936-acb5-8fac3ef716e8"
      },
      "outputs": [
        {
          "output_type": "stream",
          "name": "stderr",
          "text": [
            "N=1000 Gerando 1000 [0,999]: 100%|██████████| 1000/1000 [00:00<00:00, 109098.82it/s]\n",
            "N=1000 Gerando 1000 [0,999]: 100%|██████████| 1000/1000 [00:00<00:00, 242417.29it/s]\n",
            "N=1000 Gerando 1000 [0,999]: 100%|██████████| 1000/1000 [00:00<00:00, 256093.78it/s]\n",
            "N=1000 Gerando 1000 [0,999]: 100%|██████████| 1000/1000 [00:00<00:00, 250033.03it/s]\n"
          ]
        },
        {
          "output_type": "stream",
          "name": "stdout",
          "text": [
            "Cenário 1: Entrada 7 Servico 10\n"
          ]
        },
        {
          "output_type": "stream",
          "name": "stderr",
          "text": [
            "Calcular MSER-5Y(k, d): 100%|██████████| 100/100 [00:00<00:00, 4670.30it/s]\n",
            "Validar MSER5Y-Igualdade Interna: 100%|██████████| 99/99 [00:00<00:00, 3430.99it/s]\n",
            "Validar MSER5Y-Segunda Metade: 100%|██████████| 100/100 [00:00<00:00, 12132.08it/s]\n"
          ]
        },
        {
          "output_type": "stream",
          "name": "stdout",
          "text": [
            "MSER-5Y válido: ponto de truncagem=5\n",
            "\n",
            "Cenário 2: Entrada 8 Servico 10\n"
          ]
        },
        {
          "output_type": "stream",
          "name": "stderr",
          "text": [
            "Calcular MSER-5Y(k, d): 100%|██████████| 100/100 [00:00<00:00, 5878.24it/s]\n",
            "Validar MSER5Y-Igualdade Interna: 100%|██████████| 99/99 [00:00<00:00, 3550.91it/s]\n",
            "Validar MSER5Y-Segunda Metade: 100%|██████████| 100/100 [00:00<00:00, 11520.28it/s]\n"
          ]
        },
        {
          "output_type": "stream",
          "name": "stdout",
          "text": [
            "MSER-5Y válido: ponto de truncagem=5\n",
            "\n",
            "Cenário 3: Entrada 9 Servico 10\n"
          ]
        },
        {
          "output_type": "stream",
          "name": "stderr",
          "text": [
            "Calcular MSER-5Y(k, d): 100%|██████████| 100/100 [00:00<00:00, 6556.98it/s]\n",
            "Validar MSER5Y-Igualdade Interna: 100%|██████████| 99/99 [00:00<00:00, 3425.08it/s]\n",
            "Validar MSER5Y-Segunda Metade: 100%|██████████| 100/100 [00:00<00:00, 13446.30it/s]\n"
          ]
        },
        {
          "output_type": "stream",
          "name": "stdout",
          "text": [
            "MSER-5Y válido: ponto de truncagem=5\n",
            "\n",
            "Cenário 4: Entrada 9.5 Servico 10\n"
          ]
        },
        {
          "output_type": "stream",
          "name": "stderr",
          "text": [
            "Calcular MSER-5Y(k, d): 100%|██████████| 100/100 [00:00<00:00, 6769.59it/s]\n",
            "Validar MSER5Y-Igualdade Interna: 100%|██████████| 99/99 [00:00<00:00, 3256.75it/s]\n",
            "Validar MSER5Y-Segunda Metade: 100%|██████████| 100/100 [00:00<00:00, 16554.07it/s]"
          ]
        },
        {
          "output_type": "stream",
          "name": "stdout",
          "text": [
            "MSER-5Y válido: ponto de truncagem=60\n",
            "\n"
          ]
        },
        {
          "output_type": "stream",
          "name": "stderr",
          "text": [
            "\n"
          ]
        }
      ],
      "source": [
        "N = 1000\n",
        "cenarios = [\n",
        "    Simulador_Fila(n=N, tx_entrada=7, tx_servico=10, gerador=va_exp),\n",
        "    Simulador_Fila(n=N, tx_entrada=8, tx_servico=10, gerador=va_exp),\n",
        "    Simulador_Fila(n=N, tx_entrada=9, tx_servico=10, gerador=va_exp),\n",
        "    Simulador_Fila(n=N, tx_entrada=9.5, tx_servico=10, gerador=va_exp),\n",
        "]\n",
        "for i, c in enumerate(cenarios):\n",
        "    print(f\"Cenário {i + 1}: Entrada {c.tx_entrada} Servico {c.tx_servico}\")\n",
        "    valido, ponto = mser_5y(fila=c, M=5)\n",
        "    while not valido:\n",
        "        if ponto == -1:\n",
        "            print(f\"MSER-5Y inválido: Valores iguais encontrados na primeira metade da série.\")\n",
        "        if ponto == -2:\n",
        "            print(f\"MSER-5Y inválido: Estatística menor na segunda metade da série.\")\n",
        "        tmp = c.n\n",
        "        c.incrementar(c.n)\n",
        "        print(f'Coletar mais {tmp} observações. Total (n) = {c.n}')\n",
        "        valido, ponto = mser_5y(fila=c, M=5)\n",
        "    print(f\"MSER-5Y válido: ponto de truncagem={ponto}\")\n",
        "    c.eliminar_transiente(ponto)\n",
        "    print()"
      ]
    },
    {
      "cell_type": "markdown",
      "metadata": {
        "id": "fH77LfXNGpj4"
      },
      "source": [
        "### Definir Batch Means e Gerar Observações"
      ]
    },
    {
      "cell_type": "code",
      "execution_count": null,
      "metadata": {
        "colab": {
          "base_uri": "https://localhost:8080/"
        },
        "id": "UKwByMw2G-vl",
        "outputId": "d0870214-f9d8-4776-924f-dfddbb880e09"
      },
      "outputs": [
        {
          "output_type": "stream",
          "name": "stderr",
          "text": [
            "N=2000 Gerando 1005 [995,1999]: 100%|██████████| 1005/1005 [00:00<00:00, 319556.93it/s]\n",
            "N=2000 Gerando 1005 [995,1999]: 100%|██████████| 1005/1005 [00:00<00:00, 134957.92it/s]\n",
            "N=2000 Gerando 1005 [995,1999]: 100%|██████████| 1005/1005 [00:00<00:00, 347279.25it/s]\n",
            "N=2000 Gerando 1060 [940,1999]: 100%|██████████| 1060/1060 [00:00<00:00, 308940.47it/s]\n"
          ]
        }
      ],
      "source": [
        "M = 100  #Medias Inicial\n",
        "B = 20  #Batch Inicial\n",
        "\n",
        "# N = M*B -> Gerar observações até o necessário\n",
        "nbm_cenarios = [NBM(c, M, B) for c in cenarios]"
      ]
    },
    {
      "cell_type": "markdown",
      "metadata": {
        "id": "aLQ5z5Nwi2Qm"
      },
      "source": [
        "### Testar Correlação"
      ]
    },
    {
      "cell_type": "code",
      "execution_count": null,
      "metadata": {
        "colab": {
          "base_uri": "https://localhost:8080/"
        },
        "id": "YAbEHu7Yi49C",
        "outputId": "07d065b2-bfe0-4e54-97cf-6760432ec544"
      },
      "outputs": [
        {
          "output_type": "stream",
          "name": "stdout",
          "text": [
            "Teste Von Neuman - Cenário 1, Tentativa 1-> N=2000: Falha\n"
          ]
        },
        {
          "output_type": "stream",
          "name": "stderr",
          "text": [
            "N=4000 Gerando 2000 [2000,3999]: 100%|██████████| 2000/2000 [00:00<00:00, 314027.18it/s]\n"
          ]
        },
        {
          "output_type": "stream",
          "name": "stdout",
          "text": [
            "Teste Von Neuman - Cenário 1, Tentativa 2-> N=4000: Falha\n"
          ]
        },
        {
          "output_type": "stream",
          "name": "stderr",
          "text": [
            "N=6000 Gerando 2000 [4000,5999]: 100%|██████████| 2000/2000 [00:00<00:00, 304785.38it/s]\n"
          ]
        },
        {
          "output_type": "stream",
          "name": "stdout",
          "text": [
            "Teste Von Neuman - Cenário 1, Tentativa 3-> N=6000: Falha\n"
          ]
        },
        {
          "output_type": "stream",
          "name": "stderr",
          "text": [
            "N=8000 Gerando 2000 [6000,7999]: 100%|██████████| 2000/2000 [00:00<00:00, 197900.54it/s]\n"
          ]
        },
        {
          "output_type": "stream",
          "name": "stdout",
          "text": [
            "Teste Von Neuman - Cenário 1, Tentativa 4-> N=8000: Falha\n"
          ]
        },
        {
          "output_type": "stream",
          "name": "stderr",
          "text": [
            "N=10000 Gerando 2000 [8000,9999]: 100%|██████████| 2000/2000 [00:00<00:00, 189115.77it/s]\n"
          ]
        },
        {
          "output_type": "stream",
          "name": "stdout",
          "text": [
            "Teste Von Neuman - Cenário 1, Tentativa 5-> N=10000: Falha\n"
          ]
        },
        {
          "output_type": "stream",
          "name": "stderr",
          "text": [
            "N=12000 Gerando 2000 [10000,11999]: 100%|██████████| 2000/2000 [00:00<00:00, 159892.65it/s]\n"
          ]
        },
        {
          "output_type": "stream",
          "name": "stdout",
          "text": [
            "Teste Von Neuman - Cenário 1, Tentativa 6-> N=12000: Falha\n"
          ]
        },
        {
          "output_type": "stream",
          "name": "stderr",
          "text": [
            "N=14000 Gerando 2000 [12000,13999]: 100%|██████████| 2000/2000 [00:00<00:00, 323934.51it/s]\n"
          ]
        },
        {
          "output_type": "stream",
          "name": "stdout",
          "text": [
            "Teste Von Neuman - Cenário 1, Tentativa 7-> N=14000: Falha\n"
          ]
        },
        {
          "output_type": "stream",
          "name": "stderr",
          "text": [
            "N=16000 Gerando 2000 [14000,15999]: 100%|██████████| 2000/2000 [00:00<00:00, 329430.10it/s]\n"
          ]
        },
        {
          "output_type": "stream",
          "name": "stdout",
          "text": [
            "Teste Von Neuman - Cenário 1, Tentativa 8-> N=16000: Falha\n"
          ]
        },
        {
          "output_type": "stream",
          "name": "stderr",
          "text": [
            "N=18000 Gerando 2000 [16000,17999]: 100%|██████████| 2000/2000 [00:00<00:00, 328411.23it/s]\n"
          ]
        },
        {
          "output_type": "stream",
          "name": "stdout",
          "text": [
            "Teste Von Neuman - Cenário 1, Tentativa 9-> N=18000: Falha\n"
          ]
        },
        {
          "output_type": "stream",
          "name": "stderr",
          "text": [
            "N=20000 Gerando 2000 [18000,19999]: 100%|██████████| 2000/2000 [00:00<00:00, 250182.17it/s]\n"
          ]
        },
        {
          "output_type": "stream",
          "name": "stdout",
          "text": [
            "Teste Von Neuman - Cenário 1, Tentativa 10-> N=20000: Falha\n"
          ]
        },
        {
          "output_type": "stream",
          "name": "stderr",
          "text": [
            "N=22000 Gerando 2000 [20000,21999]: 100%|██████████| 2000/2000 [00:00<00:00, 210769.05it/s]"
          ]
        },
        {
          "output_type": "stream",
          "name": "stdout",
          "text": [
            "Teste Von Neuman - Cenário 1, Tentativa 11-> N=22000: Falha"
          ]
        },
        {
          "output_type": "stream",
          "name": "stderr",
          "text": [
            "\n"
          ]
        },
        {
          "output_type": "stream",
          "name": "stdout",
          "text": [
            "\n"
          ]
        },
        {
          "output_type": "stream",
          "name": "stderr",
          "text": [
            "N=24000 Gerando 2000 [22000,23999]: 100%|██████████| 2000/2000 [00:00<00:00, 214872.13it/s]\n"
          ]
        },
        {
          "output_type": "stream",
          "name": "stdout",
          "text": [
            "Teste Von Neuman - Cenário 1, Tentativa 12-> N=24000: Falha\n"
          ]
        },
        {
          "output_type": "stream",
          "name": "stderr",
          "text": [
            "N=26000 Gerando 2000 [24000,25999]: 100%|██████████| 2000/2000 [00:00<00:00, 234344.84it/s]\n"
          ]
        },
        {
          "output_type": "stream",
          "name": "stdout",
          "text": [
            "Teste Von Neuman - Cenário 1, Tentativa 13-> N=26000: Falha\n"
          ]
        },
        {
          "output_type": "stream",
          "name": "stderr",
          "text": [
            "N=28000 Gerando 2000 [26000,27999]: 100%|██████████| 2000/2000 [00:00<00:00, 338318.53it/s]\n"
          ]
        },
        {
          "output_type": "stream",
          "name": "stdout",
          "text": [
            "Teste Von Neuman - Cenário 1, Tentativa 14-> N=28000: Falha\n"
          ]
        },
        {
          "output_type": "stream",
          "name": "stderr",
          "text": [
            "N=30000 Gerando 2000 [28000,29999]: 100%|██████████| 2000/2000 [00:00<00:00, 267195.67it/s]\n"
          ]
        },
        {
          "output_type": "stream",
          "name": "stdout",
          "text": [
            "Teste Von Neuman - Cenário 1, Tentativa 15-> N=30000: Falha\n"
          ]
        },
        {
          "output_type": "stream",
          "name": "stderr",
          "text": [
            "N=32000 Gerando 2000 [30000,31999]: 100%|██████████| 2000/2000 [00:00<00:00, 279136.43it/s]\n"
          ]
        },
        {
          "output_type": "stream",
          "name": "stdout",
          "text": [
            "Teste Von Neuman - Cenário 1, Tentativa 16-> N=32000: Falha\n"
          ]
        },
        {
          "output_type": "stream",
          "name": "stderr",
          "text": [
            "N=34000 Gerando 2000 [32000,33999]: 100%|██████████| 2000/2000 [00:00<00:00, 264191.48it/s]\n"
          ]
        },
        {
          "output_type": "stream",
          "name": "stdout",
          "text": [
            "Teste Von Neuman - Cenário 1, Tentativa 17-> N=34000: Falha\n"
          ]
        },
        {
          "output_type": "stream",
          "name": "stderr",
          "text": [
            "N=36000 Gerando 2000 [34000,35999]: 100%|██████████| 2000/2000 [00:00<00:00, 187178.86it/s]\n"
          ]
        },
        {
          "output_type": "stream",
          "name": "stdout",
          "text": [
            "Teste Von Neuman - Cenário 1, Tentativa 18-> N=36000: Falha\n"
          ]
        },
        {
          "output_type": "stream",
          "name": "stderr",
          "text": [
            "N=38000 Gerando 2000 [36000,37999]: 100%|██████████| 2000/2000 [00:00<00:00, 281072.47it/s]\n"
          ]
        },
        {
          "output_type": "stream",
          "name": "stdout",
          "text": [
            "Teste Von Neuman - Cenário 1, Tentativa 19-> N=38000: Falha\n"
          ]
        },
        {
          "output_type": "stream",
          "name": "stderr",
          "text": [
            "N=40000 Gerando 2000 [38000,39999]: 100%|██████████| 2000/2000 [00:00<00:00, 288228.70it/s]\n"
          ]
        },
        {
          "output_type": "stream",
          "name": "stdout",
          "text": [
            "Teste Von Neuman - Cenário 1, Tentativa 20-> N=40000: Falha\n"
          ]
        },
        {
          "output_type": "stream",
          "name": "stderr",
          "text": [
            "N=42000 Gerando 2000 [40000,41999]: 100%|██████████| 2000/2000 [00:00<00:00, 276140.89it/s]\n"
          ]
        },
        {
          "output_type": "stream",
          "name": "stdout",
          "text": [
            "\n",
            "Teste Von Neuman - Cenário 1, Tentativa 21-> N=42000: Sucesso\n",
            "Teste Von Neuman - Cenário 2, Tentativa 1-> N=2000: Falha\n"
          ]
        },
        {
          "output_type": "stream",
          "name": "stderr",
          "text": [
            "N=4000 Gerando 2000 [2000,3999]: 100%|██████████| 2000/2000 [00:00<00:00, 246810.87it/s]\n"
          ]
        },
        {
          "output_type": "stream",
          "name": "stdout",
          "text": [
            "Teste Von Neuman - Cenário 2, Tentativa 2-> N=4000: Falha\n"
          ]
        },
        {
          "output_type": "stream",
          "name": "stderr",
          "text": [
            "N=6000 Gerando 2000 [4000,5999]: 100%|██████████| 2000/2000 [00:00<00:00, 255034.90it/s]\n"
          ]
        },
        {
          "output_type": "stream",
          "name": "stdout",
          "text": [
            "Teste Von Neuman - Cenário 2, Tentativa 3-> N=6000: Falha\n"
          ]
        },
        {
          "output_type": "stream",
          "name": "stderr",
          "text": [
            "N=8000 Gerando 2000 [6000,7999]: 100%|██████████| 2000/2000 [00:00<00:00, 240313.06it/s]\n"
          ]
        },
        {
          "output_type": "stream",
          "name": "stdout",
          "text": [
            "Teste Von Neuman - Cenário 2, Tentativa 4-> N=8000: Falha\n"
          ]
        },
        {
          "output_type": "stream",
          "name": "stderr",
          "text": [
            "N=10000 Gerando 2000 [8000,9999]: 100%|██████████| 2000/2000 [00:00<00:00, 242557.48it/s]"
          ]
        },
        {
          "output_type": "stream",
          "name": "stdout",
          "text": [
            "Teste Von Neuman - Cenário 2, Tentativa 5-> N=10000: Falha"
          ]
        },
        {
          "output_type": "stream",
          "name": "stderr",
          "text": [
            "\n"
          ]
        },
        {
          "output_type": "stream",
          "name": "stdout",
          "text": [
            "\n"
          ]
        },
        {
          "output_type": "stream",
          "name": "stderr",
          "text": [
            "N=12000 Gerando 2000 [10000,11999]: 100%|██████████| 2000/2000 [00:00<00:00, 159603.65it/s]"
          ]
        },
        {
          "output_type": "stream",
          "name": "stdout",
          "text": [
            "Teste Von Neuman - Cenário 2, Tentativa 6-> N=12000: Falha"
          ]
        },
        {
          "output_type": "stream",
          "name": "stderr",
          "text": [
            "\n"
          ]
        },
        {
          "output_type": "stream",
          "name": "stdout",
          "text": [
            "\n"
          ]
        },
        {
          "output_type": "stream",
          "name": "stderr",
          "text": [
            "N=14000 Gerando 2000 [12000,13999]: 100%|██████████| 2000/2000 [00:00<00:00, 151992.32it/s]\n"
          ]
        },
        {
          "output_type": "stream",
          "name": "stdout",
          "text": [
            "Teste Von Neuman - Cenário 2, Tentativa 7-> N=14000: Falha\n"
          ]
        },
        {
          "output_type": "stream",
          "name": "stderr",
          "text": [
            "N=16000 Gerando 2000 [14000,15999]: 100%|██████████| 2000/2000 [00:00<00:00, 164857.48it/s]\n"
          ]
        },
        {
          "output_type": "stream",
          "name": "stdout",
          "text": [
            "Teste Von Neuman - Cenário 2, Tentativa 8-> N=16000: Falha\n"
          ]
        },
        {
          "output_type": "stream",
          "name": "stderr",
          "text": [
            "N=18000 Gerando 2000 [16000,17999]: 100%|██████████| 2000/2000 [00:00<00:00, 175248.25it/s]\n"
          ]
        },
        {
          "output_type": "stream",
          "name": "stdout",
          "text": [
            "Teste Von Neuman - Cenário 2, Tentativa 9-> N=18000: Falha\n"
          ]
        },
        {
          "output_type": "stream",
          "name": "stderr",
          "text": [
            "N=20000 Gerando 2000 [18000,19999]: 100%|██████████| 2000/2000 [00:00<00:00, 166910.90it/s]\n"
          ]
        },
        {
          "output_type": "stream",
          "name": "stdout",
          "text": [
            "Teste Von Neuman - Cenário 2, Tentativa 10-> N=20000: Falha\n"
          ]
        },
        {
          "output_type": "stream",
          "name": "stderr",
          "text": [
            "N=22000 Gerando 2000 [20000,21999]: 100%|██████████| 2000/2000 [00:00<00:00, 165592.96it/s]\n"
          ]
        },
        {
          "output_type": "stream",
          "name": "stdout",
          "text": [
            "Teste Von Neuman - Cenário 2, Tentativa 11-> N=22000: Falha\n"
          ]
        },
        {
          "output_type": "stream",
          "name": "stderr",
          "text": [
            "N=24000 Gerando 2000 [22000,23999]: 100%|██████████| 2000/2000 [00:00<00:00, 179335.73it/s]\n"
          ]
        },
        {
          "output_type": "stream",
          "name": "stdout",
          "text": [
            "Teste Von Neuman - Cenário 2, Tentativa 12-> N=24000: Falha\n"
          ]
        },
        {
          "output_type": "stream",
          "name": "stderr",
          "text": [
            "N=26000 Gerando 2000 [24000,25999]: 100%|██████████| 2000/2000 [00:00<00:00, 213570.14it/s]\n"
          ]
        },
        {
          "output_type": "stream",
          "name": "stdout",
          "text": [
            "Teste Von Neuman - Cenário 2, Tentativa 13-> N=26000: Falha\n"
          ]
        },
        {
          "output_type": "stream",
          "name": "stderr",
          "text": [
            "N=28000 Gerando 2000 [26000,27999]: 100%|██████████| 2000/2000 [00:00<00:00, 153132.68it/s]\n"
          ]
        },
        {
          "output_type": "stream",
          "name": "stdout",
          "text": [
            "Teste Von Neuman - Cenário 2, Tentativa 14-> N=28000: Falha\n"
          ]
        },
        {
          "output_type": "stream",
          "name": "stderr",
          "text": [
            "N=30000 Gerando 2000 [28000,29999]: 100%|██████████| 2000/2000 [00:00<00:00, 179619.89it/s]\n"
          ]
        },
        {
          "output_type": "stream",
          "name": "stdout",
          "text": [
            "\n",
            "Teste Von Neuman - Cenário 2, Tentativa 15-> N=30000: Sucesso\n",
            "\n",
            "Teste Von Neuman - Cenário 3, Tentativa 1-> N=2000: Sucesso\n",
            "\n",
            "Teste Von Neuman - Cenário 4, Tentativa 1-> N=2000: Sucesso\n"
          ]
        }
      ],
      "source": [
        "for i, cenario in enumerate(nbm_cenarios):\n",
        "    tentativa = 1\n",
        "    while von_neuman(cenario) == False:\n",
        "        print(f\"Teste Von Neuman - Cenário {i + 1}, Tentativa {tentativa}-> N={cenario.fila.n}: Falha\")\n",
        "        cenario.incrementar(100)\n",
        "        tentativa += 1\n",
        "    print(f\"\\nTeste Von Neuman - Cenário {i + 1}, Tentativa {tentativa}-> N={cenario.fila.n}: Sucesso\")\n"
      ]
    },
    {
      "cell_type": "markdown",
      "metadata": {
        "id": "cVUQN6vMJKY2"
      },
      "source": [
        "### Estimar o tempo médio de espera na fila e o respectivo intervalo de confiança de 95%"
      ]
    },
    {
      "cell_type": "code",
      "execution_count": null,
      "metadata": {
        "colab": {
          "base_uri": "https://localhost:8080/"
        },
        "id": "p9876xynJJNJ",
        "outputId": "ce69bb58-0da0-4f1a-e019-8eafe99f8fe1"
      },
      "outputs": [
        {
          "output_type": "stream",
          "name": "stdout",
          "text": [
            "\n",
            "Cenário 1\n",
            "\n",
            "\n",
            "Cenário 1: Media=0.22318367351372434, H=0.0028351940803417047\n",
            "\n",
            "\n",
            "Cenário 2\n",
            "\n",
            "\n",
            "Cenário 2: Media=0.3706383734663303, H=0.005604983752579502\n",
            "\n",
            "\n",
            "Cenário 3\n",
            "\n",
            "\n",
            "Cenário 3: Media=0.6559131885225999, H=0.026338534091549123\n",
            "\n",
            "\n",
            "Cenário 4\n",
            "\n",
            "\n",
            "Cenário 4: Media=1.8704222473331407, H=0.060610603022678115\n",
            "\n"
          ]
        }
      ],
      "source": [
        "resultados = []\n",
        "for i, cenario in enumerate(nbm_cenarios):\n",
        "    print(f'\\nCenário {i + 1}\\n')\n",
        "    media, H = cenario.metricas()\n",
        "    precisao_relativa = H / media\n",
        "    while precisao_relativa > 0.05:\n",
        "        cenario.incrementar(100)\n",
        "        media, H = cenario.metricas()\n",
        "        precisao_relativa = H / media\n",
        "    print(f'\\nCenário {i + 1}: Media={media}, H={H}\\n')\n",
        "    resultados.append((media, H))\n"
      ]
    },
    {
      "cell_type": "markdown",
      "metadata": {
        "id": "aAS-0Cw7krob"
      },
      "source": [
        "### Plotar Gráfico"
      ]
    },
    {
      "cell_type": "code",
      "execution_count": null,
      "metadata": {
        "colab": {
          "base_uri": "https://localhost:8080/",
          "height": 299
        },
        "id": "a0UJ1L1yktdl",
        "outputId": "7abdceef-b27a-4731-fc40-f7bf1b3bd9db"
      },
      "outputs": [
        {
          "output_type": "display_data",
          "data": {
            "text/plain": [
              "<Figure size 432x288 with 1 Axes>"
            ],
            "image/png": "[encoded data removed]"
          },
          "metadata": {
            "needs_background": "light"
          }
        }
      ],
      "source": [
        "valores_esperados = [c.fila.valor_esperado for c in nbm_cenarios]\n",
        "plot_graph(resultados, valores_esperados, \"Parte 1: NBM\")"
      ]
    },
    {
      "cell_type": "markdown",
      "metadata": {
        "id": "s8SELBC3FXTE"
      },
      "source": [
        "## Atividade 4 – Parte 2\n",
        "- Executar uma simulação de horizonte infinito da fila M/M/1.\n",
        "- Eliminar o transiente usando a heurística MSER-5Y.\n",
        "- Usar o método Spaced Batch Means para estimar o tempo médio de\n",
        "espera na fila e o respectivo intervalo de confiança de 95%.\n",
        "- Valor de S: 0, 1, 2, 3, 4.\n",
        "- A regra de parada é a precisão relativa de 5%.\n",
        "  - Cenário I: λ=7 clientes por segundo; μ=10 clientes por segundo.\n",
        "  - Cenário II: λ=8 clientes por segundo; μ=10 clientes por segundo.\n",
        "  - Cenário III: λ=9 clientes por segundo; μ=10 clientes por segundo.\n",
        "  - Cenário IV: λ=9,5 clientes por segundo; μ=10 clientes por segundo.\n",
        "- Plotar um gráfico comparativo dos quatro cenários.\n",
        "- Plotar uma linha horizontal para o valor teórico esperado em cada cenário."
      ]
    },
    {
      "cell_type": "markdown",
      "metadata": {
        "id": "2s2-CTQ0tCae"
      },
      "source": [
        "### Gerar Cenários e Eliminar Transiente"
      ]
    },
    {
      "cell_type": "code",
      "execution_count": null,
      "metadata": {
        "colab": {
          "base_uri": "https://localhost:8080/"
        },
        "id": "RPTGskbstCae",
        "outputId": "ba5b917b-639e-423f-e803-2e0e654a11a3"
      },
      "outputs": [
        {
          "output_type": "stream",
          "name": "stderr",
          "text": [
            "N=1000 Gerando 1000 [0,999]: 100%|██████████| 1000/1000 [00:00<00:00, 267903.93it/s]\n",
            "N=1000 Gerando 1000 [0,999]: 100%|██████████| 1000/1000 [00:00<00:00, 275832.17it/s]\n",
            "N=1000 Gerando 1000 [0,999]: 100%|██████████| 1000/1000 [00:00<00:00, 271335.49it/s]\n",
            "N=1000 Gerando 1000 [0,999]: 100%|██████████| 1000/1000 [00:00<00:00, 150895.96it/s]\n"
          ]
        },
        {
          "output_type": "stream",
          "name": "stdout",
          "text": [
            "Cenário 1: Entrada 7 Servico 10\n"
          ]
        },
        {
          "output_type": "stream",
          "name": "stderr",
          "text": [
            "Calcular MSER-5Y(k, d): 100%|██████████| 100/100 [00:00<00:00, 4456.38it/s]\n",
            "Validar MSER5Y-Igualdade Interna: 100%|██████████| 99/99 [00:00<00:00, 2526.14it/s]\n",
            "Validar MSER5Y-Segunda Metade: 100%|██████████| 100/100 [00:00<00:00, 10756.83it/s]\n"
          ]
        },
        {
          "output_type": "stream",
          "name": "stdout",
          "text": [
            "MSER-5Y válido: ponto de truncagem=5\n",
            "\n",
            "Cenário 2: Entrada 8 Servico 10\n"
          ]
        },
        {
          "output_type": "stream",
          "name": "stderr",
          "text": [
            "Calcular MSER-5Y(k, d): 100%|██████████| 100/100 [00:00<00:00, 5005.85it/s]\n",
            "Validar MSER5Y-Igualdade Interna: 100%|██████████| 99/99 [00:00<00:00, 2357.33it/s]\n",
            "Validar MSER5Y-Segunda Metade: 100%|██████████| 100/100 [00:00<00:00, 6381.11it/s]\n"
          ]
        },
        {
          "output_type": "stream",
          "name": "stdout",
          "text": [
            "MSER-5Y válido: ponto de truncagem=5\n",
            "\n",
            "Cenário 3: Entrada 9 Servico 10\n"
          ]
        },
        {
          "output_type": "stream",
          "name": "stderr",
          "text": [
            "Calcular MSER-5Y(k, d): 100%|██████████| 100/100 [00:00<00:00, 3420.71it/s]\n",
            "Validar MSER5Y-Igualdade Interna: 100%|██████████| 99/99 [00:00<00:00, 1924.06it/s]\n",
            "Validar MSER5Y-Segunda Metade: 100%|██████████| 100/100 [00:00<00:00, 6558.52it/s]\n"
          ]
        },
        {
          "output_type": "stream",
          "name": "stdout",
          "text": [
            "MSER-5Y válido: ponto de truncagem=5\n",
            "\n",
            "Cenário 4: Entrada 9.5 Servico 10\n"
          ]
        },
        {
          "output_type": "stream",
          "name": "stderr",
          "text": [
            "Calcular MSER-5Y(k, d): 100%|██████████| 100/100 [00:00<00:00, 3853.08it/s]\n",
            "Validar MSER5Y-Igualdade Interna: 100%|██████████| 99/99 [00:00<00:00, 2194.15it/s]\n",
            "Validar MSER5Y-Segunda Metade: 100%|██████████| 100/100 [00:00<00:00, 10341.24it/s]\n"
          ]
        },
        {
          "output_type": "stream",
          "name": "stdout",
          "text": [
            "MSER-5Y válido: ponto de truncagem=5\n",
            "\n"
          ]
        }
      ],
      "source": [
        "N = 1000\n",
        "cenarios = [\n",
        "    Simulador_Fila(n=N, tx_entrada=7, tx_servico=10, gerador=va_exp),\n",
        "    Simulador_Fila(n=N, tx_entrada=8, tx_servico=10, gerador=va_exp),\n",
        "    Simulador_Fila(n=N, tx_entrada=9, tx_servico=10, gerador=va_exp),\n",
        "    Simulador_Fila(n=N, tx_entrada=9.5, tx_servico=10, gerador=va_exp),\n",
        "]\n",
        "for i, c in enumerate(cenarios):\n",
        "    print(f\"Cenário {i + 1}: Entrada {c.tx_entrada} Servico {c.tx_servico}\")\n",
        "    valido, ponto = mser_5y(fila=c, M=5)\n",
        "    while not valido:\n",
        "        if ponto == -1:\n",
        "            print(f\"MSER-5Y inválido: Valores iguais encontrados na primeira metade da série.\")\n",
        "        if ponto == -2:\n",
        "            print(f\"MSER-5Y inválido: Estatística menor na segunda metade da série.\")\n",
        "        tmp = c.n\n",
        "        c.incrementar(c.n)\n",
        "        print(f'Coletar mais {tmp} observações. Total (n) = {c.n}')\n",
        "        valido, ponto = mser_5y(fila=c, M=5)\n",
        "    print(f\"MSER-5Y válido: ponto de truncagem={ponto}\")\n",
        "    c.eliminar_transiente(ponto)\n",
        "    print()"
      ]
    },
    {
      "cell_type": "markdown",
      "metadata": {
        "id": "3Eu3NMputCae"
      },
      "source": [
        "### Definir Batch Means e Gerar Observações"
      ]
    },
    {
      "cell_type": "code",
      "execution_count": null,
      "metadata": {
        "colab": {
          "base_uri": "https://localhost:8080/"
        },
        "id": "bY_BfTuttCae",
        "outputId": "bc5f1e6d-8982-45e2-df83-3841074f616a"
      },
      "outputs": [
        {
          "output_type": "stream",
          "name": "stderr",
          "text": [
            "N=2000 Gerando 1005 [995,1999]: 100%|██████████| 1005/1005 [00:00<00:00, 230986.66it/s]\n",
            "N=2000 Gerando 1005 [995,1999]: 100%|██████████| 1005/1005 [00:00<00:00, 316676.10it/s]\n",
            "N=2000 Gerando 1005 [995,1999]: 100%|██████████| 1005/1005 [00:00<00:00, 268386.32it/s]\n",
            "N=2000 Gerando 1005 [995,1999]: 100%|██████████| 1005/1005 [00:00<00:00, 317750.30it/s]\n"
          ]
        }
      ],
      "source": [
        "M = 100  #Medias Inicial\n",
        "B = 20  #Batch Inicial\n",
        "\n",
        "# N = M*B -> Gerar observações até o necessário\n",
        "sbm_cenarios = [NBM(c, M, B) for c in cenarios]"
      ]
    },
    {
      "cell_type": "markdown",
      "metadata": {
        "id": "2LOjQbZItCae"
      },
      "source": [
        "### Testar Correlação"
      ]
    },
    {
      "cell_type": "code",
      "execution_count": null,
      "metadata": {
        "colab": {
          "base_uri": "https://localhost:8080/"
        },
        "id": "uykz7Ip2tCaf",
        "outputId": "97722c5d-c1d8-4408-81f6-ddff559e86f8"
      },
      "outputs": [
        {
          "output_type": "stream",
          "name": "stdout",
          "text": [
            "\n",
            "Teste Von Neuman - Cenário 1, Tentativa 1-> N=2000: Sucesso\n",
            "Teste Von Neuman - Cenário 2, Tentativa 1-> N=2000: Falha\n"
          ]
        },
        {
          "output_type": "stream",
          "name": "stderr",
          "text": [
            "N=4000 Gerando 2000 [2000,3999]: 100%|██████████| 2000/2000 [00:00<00:00, 316766.41it/s]"
          ]
        },
        {
          "output_type": "stream",
          "name": "stdout",
          "text": [
            "\n",
            "Teste Von Neuman - Cenário 2, Tentativa 2-> N=4000: Sucesso\n",
            "\n",
            "Teste Von Neuman - Cenário 3, Tentativa 1-> N=2000: Sucesso\n",
            "\n",
            "Teste Von Neuman - Cenário 4, Tentativa 1-> N=2000: Sucesso\n"
          ]
        },
        {
          "output_type": "stream",
          "name": "stderr",
          "text": [
            "\n"
          ]
        }
      ],
      "source": [
        "for i, cenario in enumerate(sbm_cenarios):\n",
        "    tentativa = 1\n",
        "    while von_neuman(cenario) == False:\n",
        "        print(f\"Teste Von Neuman - Cenário {i + 1}, Tentativa {tentativa}-> N={cenario.fila.n}: Falha\")\n",
        "        cenario.incrementar(100)\n",
        "        tentativa += 1\n",
        "    print(f\"\\nTeste Von Neuman - Cenário {i + 1}, Tentativa {tentativa}-> N={cenario.fila.n}: Sucesso\")\n"
      ]
    },
    {
      "cell_type": "markdown",
      "metadata": {
        "id": "E0mPNs9qtF-a"
      },
      "source": [
        "### Agrupamento de Blocos para SBM"
      ]
    },
    {
      "cell_type": "code",
      "execution_count": null,
      "metadata": {
        "colab": {
          "base_uri": "https://localhost:8080/"
        },
        "id": "pjW7xffh6Vsu",
        "outputId": "1f8d92e7-3da7-4afe-ef1a-0e8604573e26"
      },
      "outputs": [
        {
          "output_type": "stream",
          "name": "stdout",
          "text": [
            "\n",
            "Cenário 1\n",
            "\n"
          ]
        },
        {
          "output_type": "stream",
          "name": "stderr",
          "text": [
            "N=3802 Gerando 1802 [2000,3801]: 100%|██████████| 1802/1802 [00:00<00:00, 267819.56it/s]\n",
            "N=7406 Gerando 3604 [3802,7405]: 100%|██████████| 3604/3604 [00:00<00:00, 279796.24it/s]\n",
            "N=14614 Gerando 7208 [7406,14613]: 100%|██████████| 7208/7208 [00:00<00:00, 275547.71it/s]\n",
            "N=29030 Gerando 14416 [14614,29029]: 100%|██████████| 14416/14416 [00:00<00:00, 284526.85it/s]\n",
            "N=57862 Gerando 28832 [29030,57861]: 100%|██████████| 28832/28832 [00:00<00:00, 111325.66it/s]\n",
            "N=115526 Gerando 57664 [57862,115525]: 100%|██████████| 57664/57664 [00:00<00:00, 267360.08it/s]\n",
            "N=230854 Gerando 115328 [115526,230853]: 100%|██████████| 115328/115328 [00:00<00:00, 560841.44it/s]\n",
            "N=461510 Gerando 230656 [230854,461509]: 100%|██████████| 230656/230656 [00:01<00:00, 215354.61it/s]\n"
          ]
        },
        {
          "output_type": "stream",
          "name": "stdout",
          "text": [
            "\n",
            "Cenário 1: Media=0.0023580237321019332, H=8.280331663919914e-05\n",
            "\n",
            "\n",
            "Cenário 2\n",
            "\n"
          ]
        },
        {
          "output_type": "stream",
          "name": "stderr",
          "text": [
            "N=15204 Gerando 11204 [4000,15203]: 100%|██████████| 11204/11204 [00:00<00:00, 167675.18it/s]\n",
            "N=60020 Gerando 44816 [15204,60019]: 100%|██████████| 44816/44816 [00:00<00:00, 194738.31it/s]\n",
            "N=239284 Gerando 179264 [60020,239283]: 100%|██████████| 179264/179264 [00:00<00:00, 201052.88it/s]\n",
            "N=956340 Gerando 717056 [239284,956339]: 100%|██████████| 717056/717056 [00:03<00:00, 226688.56it/s]\n"
          ]
        },
        {
          "output_type": "stream",
          "name": "stdout",
          "text": [
            "\n",
            "Cenário 2: Media=0.0020133391915533195, H=6.851089319689712e-05\n",
            "\n",
            "\n",
            "Cenário 3\n",
            "\n"
          ]
        },
        {
          "output_type": "stream",
          "name": "stderr",
          "text": [
            "N=3802 Gerando 1802 [2000,3801]: 100%|██████████| 1802/1802 [00:00<00:00, 377755.69it/s]\n",
            "N=7406 Gerando 3604 [3802,7405]: 100%|██████████| 3604/3604 [00:00<00:00, 401462.61it/s]\n",
            "N=14614 Gerando 7208 [7406,14613]: 100%|██████████| 7208/7208 [00:00<00:00, 483736.17it/s]\n",
            "N=29030 Gerando 14416 [14614,29029]: 100%|██████████| 14416/14416 [00:00<00:00, 540368.61it/s]\n",
            "N=57862 Gerando 28832 [29030,57861]: 100%|██████████| 28832/28832 [00:00<00:00, 534165.11it/s]\n",
            "N=115526 Gerando 57664 [57862,115525]: 100%|██████████| 57664/57664 [00:00<00:00, 513357.87it/s]\n",
            "N=230854 Gerando 115328 [115526,230853]: 100%|██████████| 115328/115328 [00:00<00:00, 566641.94it/s]\n",
            "N=461510 Gerando 230656 [230854,461509]: 100%|██████████| 230656/230656 [00:00<00:00, 281258.47it/s]\n"
          ]
        },
        {
          "output_type": "stream",
          "name": "stdout",
          "text": [
            "\n",
            "Cenário 3: Media=0.009359573019596494, H=0.0003867586649260051\n",
            "\n",
            "\n",
            "Cenário 4\n",
            "\n"
          ]
        },
        {
          "output_type": "stream",
          "name": "stderr",
          "text": [
            "N=3802 Gerando 1802 [2000,3801]: 100%|██████████| 1802/1802 [00:00<00:00, 342710.43it/s]\n",
            "N=7406 Gerando 3604 [3802,7405]: 100%|██████████| 3604/3604 [00:00<00:00, 552757.95it/s]\n",
            "N=14614 Gerando 7208 [7406,14613]: 100%|██████████| 7208/7208 [00:00<00:00, 339760.21it/s]\n",
            "N=29030 Gerando 14416 [14614,29029]: 100%|██████████| 14416/14416 [00:00<00:00, 483662.65it/s]\n",
            "N=57862 Gerando 28832 [29030,57861]: 100%|██████████| 28832/28832 [00:00<00:00, 557340.98it/s]\n",
            "N=115526 Gerando 57664 [57862,115525]: 100%|██████████| 57664/57664 [00:00<00:00, 588738.73it/s]\n",
            "N=230854 Gerando 115328 [115526,230853]: 100%|██████████| 115328/115328 [00:00<00:00, 551074.07it/s]\n",
            "N=461510 Gerando 230656 [230854,461509]: 100%|██████████| 230656/230656 [00:00<00:00, 580230.76it/s]\n"
          ]
        },
        {
          "output_type": "stream",
          "name": "stdout",
          "text": [
            "\n",
            "Cenário 4: Media=0.01810345678063426, H=0.0007347520245625757\n",
            "\n"
          ]
        }
      ],
      "source": [
        "resultados = []\n",
        "for i, cenario in enumerate(obm_cenarios):\n",
        "    print(f'\\nCenário {i + 1}\\n')\n",
        "    cenario.agrupamento_obm()\n",
        "    media, H = cenario.metricas_obm()\n",
        "    precisao_relativa = H / media\n",
        "    while precisao_relativa > 0.05:\n",
        "        cenario.fila.redimensionar(int((cenario.B_linha * 0.02) * cenario.M))\n",
        "        cenario.agrupamento_obm()\n",
        "        media, H = cenario.metricas_obm()\n",
        "        precisao_relativa = H / media\n",
        "    print(f'\\nCenário {i + 1}: Media={media}, H={H}\\n')\n",
        "    resultados.append((media, H))"
      ]
    },
    {
      "cell_type": "markdown",
      "metadata": {
        "id": "jYZQzRNe7VJP"
      },
      "source": [
        "### Plotar Gráfico"
      ]
    },
    {
      "cell_type": "code",
      "execution_count": null,
      "metadata": {
        "colab": {
          "base_uri": "https://localhost:8080/",
          "height": 299
        },
        "id": "GEyTWX5d7W5u",
        "outputId": "e3ebfce6-7cc4-49d2-fcd4-488b1d602218"
      },
      "outputs": [
        {
          "output_type": "display_data",
          "data": {
            "text/plain": [
              "<Figure size 432x288 with 1 Axes>"
            ],
            "image/png": "[encoded data removed]"
          },
          "metadata": {
            "needs_background": "light"
          }
        }
      ],
      "source": [
        "valores_esperados = [c.fila.valor_esperado for c in obm_cenarios]\n",
        "plot_graph(resultados, valores_esperados, \"Parte 2: OBM 100%\")"
      ]
    },
    {
      "cell_type": "markdown",
      "metadata": {
        "id": "XroXRlp6FfIE"
      },
      "source": [
        "## Atividade 4 – Parte 3\n",
        "- Execute uma simulação de horizonte infinito da fila M/M/1.\n",
        "- Eliminar o transiente usando a heurística MSER-5Y.\n",
        "- Usar o método Overlapping Batch Means para estimar o tempo médio de\n",
        "espera na fila e o respectivo intervalo de confiança de 95%.\n",
        "- A regra de parada é a precisão relativa de 5%.\n",
        "  - Cenário I: λ=7 clientes por segundo; μ=10 clientes por segundo.\n",
        "  - Cenário II: λ=8 clientes por segundo; μ=10 clientes por segundo.\n",
        "  - Cenário III: λ=9 clientes por segundo; μ=10 clientes por segundo.\n",
        "  - Cenário IV: λ=9,5 clientes por segundo; μ=10 clientes por segundo.\n",
        "- Plotar um gráfico comparativo dos quatro cenários.\n",
        "- Plotar uma linha horizontal para o valor teórico esperado em cada cenário.\n",
        "- Repetir para diferentes graus de superposição (overlap): 10%, 25% e 50%."
      ]
    },
    {
      "cell_type": "markdown",
      "metadata": {
        "id": "oLc3VjzC7ln-"
      },
      "source": [
        "### 10%"
      ]
    },
    {
      "cell_type": "code",
      "execution_count": null,
      "metadata": {
        "colab": {
          "base_uri": "https://localhost:8080/"
        },
        "id": "szkbm-jw71EA",
        "outputId": "9fd7bd31-6a83-4b96-cd9b-7b8caa79248b"
      },
      "outputs": [
        {
          "output_type": "stream",
          "name": "stderr",
          "text": [
            "N=1000 Gerando 1000 [0,999]: 100%|██████████| 1000/1000 [00:00<00:00, 253938.61it/s]\n",
            "N=1000 Gerando 1000 [0,999]: 100%|██████████| 1000/1000 [00:00<00:00, 470846.88it/s]\n",
            "N=1000 Gerando 1000 [0,999]: 100%|██████████| 1000/1000 [00:00<00:00, 317894.80it/s]\n",
            "N=1000 Gerando 1000 [0,999]: 100%|██████████| 1000/1000 [00:00<00:00, 312634.47it/s]\n"
          ]
        },
        {
          "output_type": "stream",
          "name": "stdout",
          "text": [
            "Cenário 1: Entrada 7 Servico 10\n"
          ]
        },
        {
          "output_type": "stream",
          "name": "stderr",
          "text": [
            "Calcular MSER-5Y(k, d): 100%|██████████| 100/100 [00:00<00:00, 6844.38it/s]\n",
            "Validar MSER5Y-Igualdade Interna: 100%|██████████| 99/99 [00:00<00:00, 3645.75it/s]\n",
            "Validar MSER5Y-Segunda Metade: 100%|██████████| 100/100 [00:00<00:00, 15148.45it/s]\n"
          ]
        },
        {
          "output_type": "stream",
          "name": "stdout",
          "text": [
            "MSER-5Y válido: ponto de truncagem=5\n",
            "\n",
            "Cenário 2: Entrada 8 Servico 10\n"
          ]
        },
        {
          "output_type": "stream",
          "name": "stderr",
          "text": [
            "Calcular MSER-5Y(k, d): 100%|██████████| 100/100 [00:00<00:00, 6455.95it/s]\n",
            "Validar MSER5Y-Igualdade Interna: 100%|██████████| 99/99 [00:00<00:00, 4277.12it/s]\n",
            "Validar MSER5Y-Segunda Metade: 100%|██████████| 100/100 [00:00<00:00, 11796.66it/s]\n"
          ]
        },
        {
          "output_type": "stream",
          "name": "stdout",
          "text": [
            "MSER-5Y válido: ponto de truncagem=5\n",
            "\n",
            "Cenário 3: Entrada 9 Servico 10\n"
          ]
        },
        {
          "output_type": "stream",
          "name": "stderr",
          "text": [
            "Calcular MSER-5Y(k, d): 100%|██████████| 100/100 [00:00<00:00, 6574.87it/s]\n",
            "Validar MSER5Y-Igualdade Interna: 100%|██████████| 99/99 [00:00<00:00, 3530.92it/s]\n",
            "Validar MSER5Y-Segunda Metade: 100%|██████████| 100/100 [00:00<00:00, 16030.21it/s]\n"
          ]
        },
        {
          "output_type": "stream",
          "name": "stdout",
          "text": [
            "MSER-5Y válido: ponto de truncagem=5\n",
            "\n",
            "Cenário 4: Entrada 9.5 Servico 10\n"
          ]
        },
        {
          "output_type": "stream",
          "name": "stderr",
          "text": [
            "Calcular MSER-5Y(k, d): 100%|██████████| 100/100 [00:00<00:00, 8051.11it/s]\n",
            "Validar MSER5Y-Igualdade Interna: 100%|██████████| 99/99 [00:00<00:00, 3553.10it/s]\n",
            "Validar MSER5Y-Segunda Metade: 100%|██████████| 100/100 [00:00<00:00, 9771.24it/s]"
          ]
        },
        {
          "output_type": "stream",
          "name": "stdout",
          "text": [
            "MSER-5Y válido: ponto de truncagem=5\n",
            "\n"
          ]
        },
        {
          "output_type": "stream",
          "name": "stderr",
          "text": [
            "\n"
          ]
        }
      ],
      "source": [
        "N = 1000\n",
        "cenarios = [\n",
        "    Simulador_Fila(n=N, tx_entrada=7, tx_servico=10, gerador=va_exp),\n",
        "    Simulador_Fila(n=N, tx_entrada=8, tx_servico=10, gerador=va_exp),\n",
        "    Simulador_Fila(n=N, tx_entrada=9, tx_servico=10, gerador=va_exp),\n",
        "    Simulador_Fila(n=N, tx_entrada=9.5, tx_servico=10, gerador=va_exp),\n",
        "]\n",
        "for i, c in enumerate(cenarios):\n",
        "    print(f\"Cenário {i + 1}: Entrada {c.tx_entrada} Servico {c.tx_servico}\")\n",
        "    valido, ponto = mser_5y(fila=c, M=5)\n",
        "    while not valido:\n",
        "        if ponto == -1:\n",
        "            print(f\"MSER-5Y inválido: Valores iguais encontrados na primeira metade da série.\")\n",
        "        if ponto == -2:\n",
        "            print(f\"MSER-5Y inválido: Estatística menor na segunda metade da série.\")\n",
        "        tmp = c.n\n",
        "        c.incrementar(c.n)\n",
        "        print(f'Coletar mais {tmp} observações. Total (n) = {c.n}')\n",
        "        valido, ponto = mser_5y(fila=c, M=5)\n",
        "    print(f\"MSER-5Y válido: ponto de truncagem={ponto}\")\n",
        "    c.eliminar_transiente(ponto)\n",
        "    print()"
      ]
    },
    {
      "cell_type": "code",
      "execution_count": null,
      "metadata": {
        "colab": {
          "base_uri": "https://localhost:8080/"
        },
        "id": "gwzMWHJT71EA",
        "outputId": "ca1eec67-5526-4850-f429-60b28d7ae69d"
      },
      "outputs": [
        {
          "output_type": "stream",
          "name": "stderr",
          "text": [
            "N=2000 Gerando 1005 [995,1999]: 100%|██████████| 1005/1005 [00:00<00:00, 259849.31it/s]\n",
            "N=2000 Gerando 1005 [995,1999]: 100%|██████████| 1005/1005 [00:00<00:00, 359419.81it/s]\n",
            "N=2000 Gerando 1005 [995,1999]: 100%|██████████| 1005/1005 [00:00<00:00, 534662.04it/s]\n",
            "N=2000 Gerando 1005 [995,1999]: 100%|██████████| 1005/1005 [00:00<00:00, 345486.07it/s]\n"
          ]
        }
      ],
      "source": [
        "M = 100  #Medias Inicial\n",
        "B = 20  #Batch Inicial\n",
        "\n",
        "# N = M*B -> Gerar observações até o necessário\n",
        "obm_cenarios = [NBM(c, M, B) for c in cenarios]"
      ]
    },
    {
      "cell_type": "code",
      "execution_count": null,
      "metadata": {
        "colab": {
          "base_uri": "https://localhost:8080/"
        },
        "id": "Tmv8eaDf71EA",
        "outputId": "31dc3d98-4a94-47df-ac89-921b2a4ed2c9"
      },
      "outputs": [
        {
          "output_type": "stream",
          "name": "stdout",
          "text": [
            "Teste Von Neuman - Cenário 1, Tentativa 1-> N=2000: Falha\n"
          ]
        },
        {
          "output_type": "stream",
          "name": "stderr",
          "text": [
            "N=4000 Gerando 2000 [2000,3999]: 100%|██████████| 2000/2000 [00:00<00:00, 281515.81it/s]\n"
          ]
        },
        {
          "output_type": "stream",
          "name": "stdout",
          "text": [
            "Teste Von Neuman - Cenário 1, Tentativa 2-> N=4000: Falha\n"
          ]
        },
        {
          "output_type": "stream",
          "name": "stderr",
          "text": [
            "N=6000 Gerando 2000 [4000,5999]: 100%|██████████| 2000/2000 [00:00<00:00, 133008.94it/s]\n"
          ]
        },
        {
          "output_type": "stream",
          "name": "stdout",
          "text": [
            "Teste Von Neuman - Cenário 1, Tentativa 3-> N=6000: Falha\n"
          ]
        },
        {
          "output_type": "stream",
          "name": "stderr",
          "text": [
            "N=8000 Gerando 2000 [6000,7999]: 100%|██████████| 2000/2000 [00:00<00:00, 398300.56it/s]\n"
          ]
        },
        {
          "output_type": "stream",
          "name": "stdout",
          "text": [
            "Teste Von Neuman - Cenário 1, Tentativa 4-> N=8000: Falha\n"
          ]
        },
        {
          "output_type": "stream",
          "name": "stderr",
          "text": [
            "N=10000 Gerando 2000 [8000,9999]: 100%|██████████| 2000/2000 [00:00<00:00, 142663.40it/s]\n"
          ]
        },
        {
          "output_type": "stream",
          "name": "stdout",
          "text": [
            "Teste Von Neuman - Cenário 1, Tentativa 5-> N=10000: Falha\n"
          ]
        },
        {
          "output_type": "stream",
          "name": "stderr",
          "text": [
            "N=12000 Gerando 2000 [10000,11999]: 100%|██████████| 2000/2000 [00:00<00:00, 186712.25it/s]\n"
          ]
        },
        {
          "output_type": "stream",
          "name": "stdout",
          "text": [
            "Teste Von Neuman - Cenário 1, Tentativa 6-> N=12000: Falha\n"
          ]
        },
        {
          "output_type": "stream",
          "name": "stderr",
          "text": [
            "N=14000 Gerando 2000 [12000,13999]: 100%|██████████| 2000/2000 [00:00<00:00, 177172.96it/s]\n"
          ]
        },
        {
          "output_type": "stream",
          "name": "stdout",
          "text": [
            "Teste Von Neuman - Cenário 1, Tentativa 7-> N=14000: Falha\n"
          ]
        },
        {
          "output_type": "stream",
          "name": "stderr",
          "text": [
            "N=16000 Gerando 2000 [14000,15999]: 100%|██████████| 2000/2000 [00:00<00:00, 192575.94it/s]\n"
          ]
        },
        {
          "output_type": "stream",
          "name": "stdout",
          "text": [
            "Teste Von Neuman - Cenário 1, Tentativa 8-> N=16000: Falha\n"
          ]
        },
        {
          "output_type": "stream",
          "name": "stderr",
          "text": [
            "N=18000 Gerando 2000 [16000,17999]: 100%|██████████| 2000/2000 [00:00<00:00, 280705.66it/s]\n"
          ]
        },
        {
          "output_type": "stream",
          "name": "stdout",
          "text": [
            "Teste Von Neuman - Cenário 1, Tentativa 9-> N=18000: Falha\n"
          ]
        },
        {
          "output_type": "stream",
          "name": "stderr",
          "text": [
            "N=20000 Gerando 2000 [18000,19999]: 100%|██████████| 2000/2000 [00:00<00:00, 236358.74it/s]\n"
          ]
        },
        {
          "output_type": "stream",
          "name": "stdout",
          "text": [
            "Teste Von Neuman - Cenário 1, Tentativa 10-> N=20000: Falha\n"
          ]
        },
        {
          "output_type": "stream",
          "name": "stderr",
          "text": [
            "N=22000 Gerando 2000 [20000,21999]: 100%|██████████| 2000/2000 [00:00<00:00, 236952.94it/s]\n"
          ]
        },
        {
          "output_type": "stream",
          "name": "stdout",
          "text": [
            "Teste Von Neuman - Cenário 1, Tentativa 11-> N=22000: Falha\n"
          ]
        },
        {
          "output_type": "stream",
          "name": "stderr",
          "text": [
            "N=24000 Gerando 2000 [22000,23999]: 100%|██████████| 2000/2000 [00:00<00:00, 276322.81it/s]\n"
          ]
        },
        {
          "output_type": "stream",
          "name": "stdout",
          "text": [
            "Teste Von Neuman - Cenário 1, Tentativa 12-> N=24000: Falha\n"
          ]
        },
        {
          "output_type": "stream",
          "name": "stderr",
          "text": [
            "N=26000 Gerando 2000 [24000,25999]: 100%|██████████| 2000/2000 [00:00<00:00, 280555.45it/s]\n"
          ]
        },
        {
          "output_type": "stream",
          "name": "stdout",
          "text": [
            "Teste Von Neuman - Cenário 1, Tentativa 13-> N=26000: Falha\n"
          ]
        },
        {
          "output_type": "stream",
          "name": "stderr",
          "text": [
            "N=28000 Gerando 2000 [26000,27999]: 100%|██████████| 2000/2000 [00:00<00:00, 283054.66it/s]\n"
          ]
        },
        {
          "output_type": "stream",
          "name": "stdout",
          "text": [
            "Teste Von Neuman - Cenário 1, Tentativa 14-> N=28000: Falha\n"
          ]
        },
        {
          "output_type": "stream",
          "name": "stderr",
          "text": [
            "N=30000 Gerando 2000 [28000,29999]: 100%|██████████| 2000/2000 [00:00<00:00, 282787.49it/s]\n"
          ]
        },
        {
          "output_type": "stream",
          "name": "stdout",
          "text": [
            "Teste Von Neuman - Cenário 1, Tentativa 15-> N=30000: Falha\n"
          ]
        },
        {
          "output_type": "stream",
          "name": "stderr",
          "text": [
            "N=32000 Gerando 2000 [30000,31999]: 100%|██████████| 2000/2000 [00:00<00:00, 290152.81it/s]\n"
          ]
        },
        {
          "output_type": "stream",
          "name": "stdout",
          "text": [
            "Teste Von Neuman - Cenário 1, Tentativa 16-> N=32000: Falha\n"
          ]
        },
        {
          "output_type": "stream",
          "name": "stderr",
          "text": [
            "N=34000 Gerando 2000 [32000,33999]: 100%|██████████| 2000/2000 [00:00<00:00, 272110.03it/s]\n"
          ]
        },
        {
          "output_type": "stream",
          "name": "stdout",
          "text": [
            "Teste Von Neuman - Cenário 1, Tentativa 17-> N=34000: Falha\n"
          ]
        },
        {
          "output_type": "stream",
          "name": "stderr",
          "text": [
            "N=36000 Gerando 2000 [34000,35999]: 100%|██████████| 2000/2000 [00:00<00:00, 272516.67it/s]\n"
          ]
        },
        {
          "output_type": "stream",
          "name": "stdout",
          "text": [
            "Teste Von Neuman - Cenário 1, Tentativa 18-> N=36000: Falha\n"
          ]
        },
        {
          "output_type": "stream",
          "name": "stderr",
          "text": [
            "N=38000 Gerando 2000 [36000,37999]: 100%|██████████| 2000/2000 [00:00<00:00, 211278.66it/s]\n"
          ]
        },
        {
          "output_type": "stream",
          "name": "stdout",
          "text": [
            "Teste Von Neuman - Cenário 1, Tentativa 19-> N=38000: Falha\n"
          ]
        },
        {
          "output_type": "stream",
          "name": "stderr",
          "text": [
            "N=40000 Gerando 2000 [38000,39999]: 100%|██████████| 2000/2000 [00:00<00:00, 291453.27it/s]\n"
          ]
        },
        {
          "output_type": "stream",
          "name": "stdout",
          "text": [
            "Teste Von Neuman - Cenário 1, Tentativa 20-> N=40000: Falha\n"
          ]
        },
        {
          "output_type": "stream",
          "name": "stderr",
          "text": [
            "N=42000 Gerando 2000 [40000,41999]: 100%|██████████| 2000/2000 [00:00<00:00, 294688.68it/s]\n"
          ]
        },
        {
          "output_type": "stream",
          "name": "stdout",
          "text": [
            "Teste Von Neuman - Cenário 1, Tentativa 21-> N=42000: Falha\n"
          ]
        },
        {
          "output_type": "stream",
          "name": "stderr",
          "text": [
            "N=44000 Gerando 2000 [42000,43999]: 100%|██████████| 2000/2000 [00:00<00:00, 282368.65it/s]\n"
          ]
        },
        {
          "output_type": "stream",
          "name": "stdout",
          "text": [
            "Teste Von Neuman - Cenário 1, Tentativa 22-> N=44000: Falha\n"
          ]
        },
        {
          "output_type": "stream",
          "name": "stderr",
          "text": [
            "N=46000 Gerando 2000 [44000,45999]: 100%|██████████| 2000/2000 [00:00<00:00, 260896.59it/s]\n"
          ]
        },
        {
          "output_type": "stream",
          "name": "stdout",
          "text": [
            "Teste Von Neuman - Cenário 1, Tentativa 23-> N=46000: Falha\n"
          ]
        },
        {
          "output_type": "stream",
          "name": "stderr",
          "text": [
            "N=48000 Gerando 2000 [46000,47999]: 100%|██████████| 2000/2000 [00:00<00:00, 224360.32it/s]\n"
          ]
        },
        {
          "output_type": "stream",
          "name": "stdout",
          "text": [
            "Teste Von Neuman - Cenário 1, Tentativa 24-> N=48000: Falha\n"
          ]
        },
        {
          "output_type": "stream",
          "name": "stderr",
          "text": [
            "N=50000 Gerando 2000 [48000,49999]: 100%|██████████| 2000/2000 [00:00<00:00, 266864.16it/s]\n"
          ]
        },
        {
          "output_type": "stream",
          "name": "stdout",
          "text": [
            "Teste Von Neuman - Cenário 1, Tentativa 25-> N=50000: Falha\n"
          ]
        },
        {
          "output_type": "stream",
          "name": "stderr",
          "text": [
            "N=52000 Gerando 2000 [50000,51999]: 100%|██████████| 2000/2000 [00:00<00:00, 324372.92it/s]\n"
          ]
        },
        {
          "output_type": "stream",
          "name": "stdout",
          "text": [
            "Teste Von Neuman - Cenário 1, Tentativa 26-> N=52000: Falha\n"
          ]
        },
        {
          "output_type": "stream",
          "name": "stderr",
          "text": [
            "N=54000 Gerando 2000 [52000,53999]: 100%|██████████| 2000/2000 [00:00<00:00, 272738.17it/s]"
          ]
        },
        {
          "output_type": "stream",
          "name": "stdout",
          "text": [
            "Teste Von Neuman - Cenário 1, Tentativa 27-> N=54000: Falha"
          ]
        },
        {
          "output_type": "stream",
          "name": "stderr",
          "text": [
            "\n"
          ]
        },
        {
          "output_type": "stream",
          "name": "stdout",
          "text": [
            "\n"
          ]
        },
        {
          "output_type": "stream",
          "name": "stderr",
          "text": [
            "N=56000 Gerando 2000 [54000,55999]: 100%|██████████| 2000/2000 [00:00<00:00, 287320.45it/s]"
          ]
        },
        {
          "output_type": "stream",
          "name": "stdout",
          "text": [
            "Teste Von Neuman - Cenário 1, Tentativa 28-> N=56000: Falha"
          ]
        },
        {
          "output_type": "stream",
          "name": "stderr",
          "text": [
            "\n"
          ]
        },
        {
          "output_type": "stream",
          "name": "stdout",
          "text": [
            "\n"
          ]
        },
        {
          "output_type": "stream",
          "name": "stderr",
          "text": [
            "N=58000 Gerando 2000 [56000,57999]: 100%|██████████| 2000/2000 [00:00<00:00, 312552.93it/s]"
          ]
        },
        {
          "output_type": "stream",
          "name": "stdout",
          "text": [
            "Teste Von Neuman - Cenário 1, Tentativa 29-> N=58000: Falha"
          ]
        },
        {
          "output_type": "stream",
          "name": "stderr",
          "text": [
            "\n"
          ]
        },
        {
          "output_type": "stream",
          "name": "stdout",
          "text": [
            "\n"
          ]
        },
        {
          "output_type": "stream",
          "name": "stderr",
          "text": [
            "N=60000 Gerando 2000 [58000,59999]: 100%|██████████| 2000/2000 [00:00<00:00, 280668.09it/s]"
          ]
        },
        {
          "output_type": "stream",
          "name": "stdout",
          "text": [
            "Teste Von Neuman - Cenário 1, Tentativa 30-> N=60000: Falha"
          ]
        },
        {
          "output_type": "stream",
          "name": "stderr",
          "text": [
            "\n"
          ]
        },
        {
          "output_type": "stream",
          "name": "stdout",
          "text": [
            "\n"
          ]
        },
        {
          "output_type": "stream",
          "name": "stderr",
          "text": [
            "N=62000 Gerando 2000 [60000,61999]: 100%|██████████| 2000/2000 [00:00<00:00, 348523.33it/s]\n"
          ]
        },
        {
          "output_type": "stream",
          "name": "stdout",
          "text": [
            "Teste Von Neuman - Cenário 1, Tentativa 31-> N=62000: Falha\n"
          ]
        },
        {
          "output_type": "stream",
          "name": "stderr",
          "text": [
            "N=64000 Gerando 2000 [62000,63999]: 100%|██████████| 2000/2000 [00:00<00:00, 281704.88it/s]\n"
          ]
        },
        {
          "output_type": "stream",
          "name": "stdout",
          "text": [
            "Teste Von Neuman - Cenário 1, Tentativa 32-> N=64000: Falha\n"
          ]
        },
        {
          "output_type": "stream",
          "name": "stderr",
          "text": [
            "N=66000 Gerando 2000 [64000,65999]: 100%|██████████| 2000/2000 [00:00<00:00, 305429.02it/s]\n"
          ]
        },
        {
          "output_type": "stream",
          "name": "stdout",
          "text": [
            "Teste Von Neuman - Cenário 1, Tentativa 33-> N=66000: Falha\n"
          ]
        },
        {
          "output_type": "stream",
          "name": "stderr",
          "text": [
            "N=68000 Gerando 2000 [66000,67999]: 100%|██████████| 2000/2000 [00:00<00:00, 280677.49it/s]\n"
          ]
        },
        {
          "output_type": "stream",
          "name": "stdout",
          "text": [
            "Teste Von Neuman - Cenário 1, Tentativa 34-> N=68000: Falha\n"
          ]
        },
        {
          "output_type": "stream",
          "name": "stderr",
          "text": [
            "N=70000 Gerando 2000 [68000,69999]: 100%|██████████| 2000/2000 [00:00<00:00, 296910.35it/s]\n"
          ]
        },
        {
          "output_type": "stream",
          "name": "stdout",
          "text": [
            "Teste Von Neuman - Cenário 1, Tentativa 35-> N=70000: Falha\n"
          ]
        },
        {
          "output_type": "stream",
          "name": "stderr",
          "text": [
            "N=72000 Gerando 2000 [70000,71999]: 100%|██████████| 2000/2000 [00:00<00:00, 283792.01it/s]\n"
          ]
        },
        {
          "output_type": "stream",
          "name": "stdout",
          "text": [
            "Teste Von Neuman - Cenário 1, Tentativa 36-> N=72000: Falha\n"
          ]
        },
        {
          "output_type": "stream",
          "name": "stderr",
          "text": [
            "N=74000 Gerando 2000 [72000,73999]: 100%|██████████| 2000/2000 [00:00<00:00, 294130.72it/s]\n"
          ]
        },
        {
          "output_type": "stream",
          "name": "stdout",
          "text": [
            "Teste Von Neuman - Cenário 1, Tentativa 37-> N=74000: Falha\n"
          ]
        },
        {
          "output_type": "stream",
          "name": "stderr",
          "text": [
            "N=76000 Gerando 2000 [74000,75999]: 100%|██████████| 2000/2000 [00:00<00:00, 291666.08it/s]\n"
          ]
        },
        {
          "output_type": "stream",
          "name": "stdout",
          "text": [
            "Teste Von Neuman - Cenário 1, Tentativa 38-> N=76000: Falha\n"
          ]
        },
        {
          "output_type": "stream",
          "name": "stderr",
          "text": [
            "N=78000 Gerando 2000 [76000,77999]: 100%|██████████| 2000/2000 [00:00<00:00, 292980.16it/s]\n"
          ]
        },
        {
          "output_type": "stream",
          "name": "stdout",
          "text": [
            "Teste Von Neuman - Cenário 1, Tentativa 39-> N=78000: Falha\n"
          ]
        },
        {
          "output_type": "stream",
          "name": "stderr",
          "text": [
            "N=80000 Gerando 2000 [78000,79999]: 100%|██████████| 2000/2000 [00:00<00:00, 285910.29it/s]\n"
          ]
        },
        {
          "output_type": "stream",
          "name": "stdout",
          "text": [
            "Teste Von Neuman - Cenário 1, Tentativa 40-> N=80000: Falha\n"
          ]
        },
        {
          "output_type": "stream",
          "name": "stderr",
          "text": [
            "N=82000 Gerando 2000 [80000,81999]: 100%|██████████| 2000/2000 [00:00<00:00, 287556.84it/s]\n"
          ]
        },
        {
          "output_type": "stream",
          "name": "stdout",
          "text": [
            "Teste Von Neuman - Cenário 1, Tentativa 41-> N=82000: Falha\n"
          ]
        },
        {
          "output_type": "stream",
          "name": "stderr",
          "text": [
            "N=84000 Gerando 2000 [82000,83999]: 100%|██████████| 2000/2000 [00:00<00:00, 283427.64it/s]\n"
          ]
        },
        {
          "output_type": "stream",
          "name": "stdout",
          "text": [
            "Teste Von Neuman - Cenário 1, Tentativa 42-> N=84000: Falha\n"
          ]
        },
        {
          "output_type": "stream",
          "name": "stderr",
          "text": [
            "N=86000 Gerando 2000 [84000,85999]: 100%|██████████| 2000/2000 [00:00<00:00, 286888.10it/s]\n"
          ]
        },
        {
          "output_type": "stream",
          "name": "stdout",
          "text": [
            "Teste Von Neuman - Cenário 1, Tentativa 43-> N=86000: Falha\n"
          ]
        },
        {
          "output_type": "stream",
          "name": "stderr",
          "text": [
            "N=88000 Gerando 2000 [86000,87999]: 100%|██████████| 2000/2000 [00:00<00:00, 419661.21it/s]\n"
          ]
        },
        {
          "output_type": "stream",
          "name": "stdout",
          "text": [
            "Teste Von Neuman - Cenário 1, Tentativa 44-> N=88000: Falha\n"
          ]
        },
        {
          "output_type": "stream",
          "name": "stderr",
          "text": [
            "N=90000 Gerando 2000 [88000,89999]: 100%|██████████| 2000/2000 [00:00<00:00, 193683.08it/s]\n"
          ]
        },
        {
          "output_type": "stream",
          "name": "stdout",
          "text": [
            "Teste Von Neuman - Cenário 1, Tentativa 45-> N=90000: Falha\n"
          ]
        },
        {
          "output_type": "stream",
          "name": "stderr",
          "text": [
            "N=92000 Gerando 2000 [90000,91999]: 100%|██████████| 2000/2000 [00:00<00:00, 253325.12it/s]\n"
          ]
        },
        {
          "output_type": "stream",
          "name": "stdout",
          "text": [
            "Teste Von Neuman - Cenário 1, Tentativa 46-> N=92000: Falha\n"
          ]
        },
        {
          "output_type": "stream",
          "name": "stderr",
          "text": [
            "N=94000 Gerando 2000 [92000,93999]: 100%|██████████| 2000/2000 [00:00<00:00, 316898.04it/s]\n"
          ]
        },
        {
          "output_type": "stream",
          "name": "stdout",
          "text": [
            "Teste Von Neuman - Cenário 1, Tentativa 47-> N=94000: Falha\n"
          ]
        },
        {
          "output_type": "stream",
          "name": "stderr",
          "text": [
            "N=96000 Gerando 2000 [94000,95999]: 100%|██████████| 2000/2000 [00:00<00:00, 229403.78it/s]\n"
          ]
        },
        {
          "output_type": "stream",
          "name": "stdout",
          "text": [
            "Teste Von Neuman - Cenário 1, Tentativa 48-> N=96000: Falha\n"
          ]
        },
        {
          "output_type": "stream",
          "name": "stderr",
          "text": [
            "N=98000 Gerando 2000 [96000,97999]: 100%|██████████| 2000/2000 [00:00<00:00, 180051.68it/s]\n"
          ]
        },
        {
          "output_type": "stream",
          "name": "stdout",
          "text": [
            "Teste Von Neuman - Cenário 1, Tentativa 49-> N=98000: Falha\n"
          ]
        },
        {
          "output_type": "stream",
          "name": "stderr",
          "text": [
            "N=100000 Gerando 2000 [98000,99999]: 100%|██████████| 2000/2000 [00:00<00:00, 252836.46it/s]\n"
          ]
        },
        {
          "output_type": "stream",
          "name": "stdout",
          "text": [
            "Teste Von Neuman - Cenário 1, Tentativa 50-> N=100000: Falha\n"
          ]
        },
        {
          "output_type": "stream",
          "name": "stderr",
          "text": [
            "N=102000 Gerando 2000 [100000,101999]: 100%|██████████| 2000/2000 [00:00<00:00, 276131.80it/s]\n"
          ]
        },
        {
          "output_type": "stream",
          "name": "stdout",
          "text": [
            "Teste Von Neuman - Cenário 1, Tentativa 51-> N=102000: Falha\n"
          ]
        },
        {
          "output_type": "stream",
          "name": "stderr",
          "text": [
            "N=104000 Gerando 2000 [102000,103999]: 100%|██████████| 2000/2000 [00:00<00:00, 282045.86it/s]\n"
          ]
        },
        {
          "output_type": "stream",
          "name": "stdout",
          "text": [
            "Teste Von Neuman - Cenário 1, Tentativa 52-> N=104000: Falha\n"
          ]
        },
        {
          "output_type": "stream",
          "name": "stderr",
          "text": [
            "N=106000 Gerando 2000 [104000,105999]: 100%|██████████| 2000/2000 [00:00<00:00, 280978.33it/s]\n"
          ]
        },
        {
          "output_type": "stream",
          "name": "stdout",
          "text": [
            "Teste Von Neuman - Cenário 1, Tentativa 53-> N=106000: Falha\n"
          ]
        },
        {
          "output_type": "stream",
          "name": "stderr",
          "text": [
            "N=108000 Gerando 2000 [106000,107999]: 100%|██████████| 2000/2000 [00:00<00:00, 243204.45it/s]\n"
          ]
        },
        {
          "output_type": "stream",
          "name": "stdout",
          "text": [
            "Teste Von Neuman - Cenário 1, Tentativa 54-> N=108000: Falha\n"
          ]
        },
        {
          "output_type": "stream",
          "name": "stderr",
          "text": [
            "N=110000 Gerando 2000 [108000,109999]: 100%|██████████| 2000/2000 [00:00<00:00, 288834.07it/s]\n"
          ]
        },
        {
          "output_type": "stream",
          "name": "stdout",
          "text": [
            "Teste Von Neuman - Cenário 1, Tentativa 55-> N=110000: Falha\n"
          ]
        },
        {
          "output_type": "stream",
          "name": "stderr",
          "text": [
            "N=112000 Gerando 2000 [110000,111999]: 100%|██████████| 2000/2000 [00:00<00:00, 287507.56it/s]\n"
          ]
        },
        {
          "output_type": "stream",
          "name": "stdout",
          "text": [
            "Teste Von Neuman - Cenário 1, Tentativa 56-> N=112000: Falha\n"
          ]
        },
        {
          "output_type": "stream",
          "name": "stderr",
          "text": [
            "N=114000 Gerando 2000 [112000,113999]: 100%|██████████| 2000/2000 [00:00<00:00, 287054.99it/s]\n"
          ]
        },
        {
          "output_type": "stream",
          "name": "stdout",
          "text": [
            "Teste Von Neuman - Cenário 1, Tentativa 57-> N=114000: Falha\n"
          ]
        },
        {
          "output_type": "stream",
          "name": "stderr",
          "text": [
            "N=116000 Gerando 2000 [114000,115999]: 100%|██████████| 2000/2000 [00:00<00:00, 363033.19it/s]\n"
          ]
        },
        {
          "output_type": "stream",
          "name": "stdout",
          "text": [
            "Teste Von Neuman - Cenário 1, Tentativa 58-> N=116000: Falha\n"
          ]
        },
        {
          "output_type": "stream",
          "name": "stderr",
          "text": [
            "N=118000 Gerando 2000 [116000,117999]: 100%|██████████| 2000/2000 [00:00<00:00, 324938.33it/s]\n"
          ]
        },
        {
          "output_type": "stream",
          "name": "stdout",
          "text": [
            "Teste Von Neuman - Cenário 1, Tentativa 59-> N=118000: Falha\n"
          ]
        },
        {
          "output_type": "stream",
          "name": "stderr",
          "text": [
            "N=120000 Gerando 2000 [118000,119999]: 100%|██████████| 2000/2000 [00:00<00:00, 407332.62it/s]\n"
          ]
        },
        {
          "output_type": "stream",
          "name": "stdout",
          "text": [
            "Teste Von Neuman - Cenário 1, Tentativa 60-> N=120000: Falha\n"
          ]
        },
        {
          "output_type": "stream",
          "name": "stderr",
          "text": [
            "N=122000 Gerando 2000 [120000,121999]: 100%|██████████| 2000/2000 [00:00<00:00, 284195.82it/s]\n"
          ]
        },
        {
          "output_type": "stream",
          "name": "stdout",
          "text": [
            "Teste Von Neuman - Cenário 1, Tentativa 61-> N=122000: Falha\n"
          ]
        },
        {
          "output_type": "stream",
          "name": "stderr",
          "text": [
            "N=124000 Gerando 2000 [122000,123999]: 100%|██████████| 2000/2000 [00:00<00:00, 402119.17it/s]\n"
          ]
        },
        {
          "output_type": "stream",
          "name": "stdout",
          "text": [
            "Teste Von Neuman - Cenário 1, Tentativa 62-> N=124000: Falha\n"
          ]
        },
        {
          "output_type": "stream",
          "name": "stderr",
          "text": [
            "N=126000 Gerando 2000 [124000,125999]: 100%|██████████| 2000/2000 [00:00<00:00, 258739.95it/s]\n"
          ]
        },
        {
          "output_type": "stream",
          "name": "stdout",
          "text": [
            "Teste Von Neuman - Cenário 1, Tentativa 63-> N=126000: Falha\n"
          ]
        },
        {
          "output_type": "stream",
          "name": "stderr",
          "text": [
            "N=128000 Gerando 2000 [126000,127999]: 100%|██████████| 2000/2000 [00:00<00:00, 265992.58it/s]\n"
          ]
        },
        {
          "output_type": "stream",
          "name": "stdout",
          "text": [
            "Teste Von Neuman - Cenário 1, Tentativa 64-> N=128000: Falha\n"
          ]
        },
        {
          "output_type": "stream",
          "name": "stderr",
          "text": [
            "N=130000 Gerando 2000 [128000,129999]: 100%|██████████| 2000/2000 [00:00<00:00, 369835.46it/s]\n"
          ]
        },
        {
          "output_type": "stream",
          "name": "stdout",
          "text": [
            "Teste Von Neuman - Cenário 1, Tentativa 65-> N=130000: Falha\n"
          ]
        },
        {
          "output_type": "stream",
          "name": "stderr",
          "text": [
            "N=132000 Gerando 2000 [130000,131999]: 100%|██████████| 2000/2000 [00:00<00:00, 416163.52it/s]\n"
          ]
        },
        {
          "output_type": "stream",
          "name": "stdout",
          "text": [
            "Teste Von Neuman - Cenário 1, Tentativa 66-> N=132000: Falha\n"
          ]
        },
        {
          "output_type": "stream",
          "name": "stderr",
          "text": [
            "N=134000 Gerando 2000 [132000,133999]: 100%|██████████| 2000/2000 [00:00<00:00, 385346.50it/s]\n"
          ]
        },
        {
          "output_type": "stream",
          "name": "stdout",
          "text": [
            "Teste Von Neuman - Cenário 1, Tentativa 67-> N=134000: Falha\n"
          ]
        },
        {
          "output_type": "stream",
          "name": "stderr",
          "text": [
            "N=136000 Gerando 2000 [134000,135999]: 100%|██████████| 2000/2000 [00:00<00:00, 410481.89it/s]\n"
          ]
        },
        {
          "output_type": "stream",
          "name": "stdout",
          "text": [
            "Teste Von Neuman - Cenário 1, Tentativa 68-> N=136000: Falha\n"
          ]
        },
        {
          "output_type": "stream",
          "name": "stderr",
          "text": [
            "N=138000 Gerando 2000 [136000,137999]: 100%|██████████| 2000/2000 [00:00<00:00, 283331.91it/s]\n"
          ]
        },
        {
          "output_type": "stream",
          "name": "stdout",
          "text": [
            "Teste Von Neuman - Cenário 1, Tentativa 69-> N=138000: Falha\n"
          ]
        },
        {
          "output_type": "stream",
          "name": "stderr",
          "text": [
            "N=140000 Gerando 2000 [138000,139999]: 100%|██████████| 2000/2000 [00:00<00:00, 286799.82it/s]\n"
          ]
        },
        {
          "output_type": "stream",
          "name": "stdout",
          "text": [
            "Teste Von Neuman - Cenário 1, Tentativa 70-> N=140000: Falha\n"
          ]
        },
        {
          "output_type": "stream",
          "name": "stderr",
          "text": [
            "N=142000 Gerando 2000 [140000,141999]: 100%|██████████| 2000/2000 [00:00<00:00, 398754.96it/s]\n"
          ]
        },
        {
          "output_type": "stream",
          "name": "stdout",
          "text": [
            "Teste Von Neuman - Cenário 1, Tentativa 71-> N=142000: Falha\n"
          ]
        },
        {
          "output_type": "stream",
          "name": "stderr",
          "text": [
            "N=144000 Gerando 2000 [142000,143999]: 100%|██████████| 2000/2000 [00:00<00:00, 501501.05it/s]\n"
          ]
        },
        {
          "output_type": "stream",
          "name": "stdout",
          "text": [
            "Teste Von Neuman - Cenário 1, Tentativa 72-> N=144000: Falha\n"
          ]
        },
        {
          "output_type": "stream",
          "name": "stderr",
          "text": [
            "N=146000 Gerando 2000 [144000,145999]: 100%|██████████| 2000/2000 [00:00<00:00, 244352.11it/s]\n"
          ]
        },
        {
          "output_type": "stream",
          "name": "stdout",
          "text": [
            "Teste Von Neuman - Cenário 1, Tentativa 73-> N=146000: Falha\n"
          ]
        },
        {
          "output_type": "stream",
          "name": "stderr",
          "text": [
            "N=148000 Gerando 2000 [146000,147999]: 100%|██████████| 2000/2000 [00:00<00:00, 265874.55it/s]\n"
          ]
        },
        {
          "output_type": "stream",
          "name": "stdout",
          "text": [
            "Teste Von Neuman - Cenário 1, Tentativa 74-> N=148000: Falha\n"
          ]
        },
        {
          "output_type": "stream",
          "name": "stderr",
          "text": [
            "N=150000 Gerando 2000 [148000,149999]: 100%|██████████| 2000/2000 [00:00<00:00, 289382.09it/s]\n"
          ]
        },
        {
          "output_type": "stream",
          "name": "stdout",
          "text": [
            "Teste Von Neuman - Cenário 1, Tentativa 75-> N=150000: Falha\n"
          ]
        },
        {
          "output_type": "stream",
          "name": "stderr",
          "text": [
            "N=152000 Gerando 2000 [150000,151999]: 100%|██████████| 2000/2000 [00:00<00:00, 280143.20it/s]\n"
          ]
        },
        {
          "output_type": "stream",
          "name": "stdout",
          "text": [
            "Teste Von Neuman - Cenário 1, Tentativa 76-> N=152000: Falha\n"
          ]
        },
        {
          "output_type": "stream",
          "name": "stderr",
          "text": [
            "N=154000 Gerando 2000 [152000,153999]: 100%|██████████| 2000/2000 [00:00<00:00, 288744.60it/s]\n"
          ]
        },
        {
          "output_type": "stream",
          "name": "stdout",
          "text": [
            "Teste Von Neuman - Cenário 1, Tentativa 77-> N=154000: Falha\n"
          ]
        },
        {
          "output_type": "stream",
          "name": "stderr",
          "text": [
            "N=156000 Gerando 2000 [154000,155999]: 100%|██████████| 2000/2000 [00:00<00:00, 276359.23it/s]\n"
          ]
        },
        {
          "output_type": "stream",
          "name": "stdout",
          "text": [
            "Teste Von Neuman - Cenário 1, Tentativa 78-> N=156000: Falha\n"
          ]
        },
        {
          "output_type": "stream",
          "name": "stderr",
          "text": [
            "N=158000 Gerando 2000 [156000,157999]: 100%|██████████| 2000/2000 [00:00<00:00, 269921.10it/s]\n"
          ]
        },
        {
          "output_type": "stream",
          "name": "stdout",
          "text": [
            "Teste Von Neuman - Cenário 1, Tentativa 79-> N=158000: Falha\n"
          ]
        },
        {
          "output_type": "stream",
          "name": "stderr",
          "text": [
            "N=160000 Gerando 2000 [158000,159999]: 100%|██████████| 2000/2000 [00:00<00:00, 293873.11it/s]\n"
          ]
        },
        {
          "output_type": "stream",
          "name": "stdout",
          "text": [
            "Teste Von Neuman - Cenário 1, Tentativa 80-> N=160000: Falha\n"
          ]
        },
        {
          "output_type": "stream",
          "name": "stderr",
          "text": [
            "N=162000 Gerando 2000 [160000,161999]: 100%|██████████| 2000/2000 [00:00<00:00, 255532.11it/s]\n"
          ]
        },
        {
          "output_type": "stream",
          "name": "stdout",
          "text": [
            "Teste Von Neuman - Cenário 1, Tentativa 81-> N=162000: Falha\n"
          ]
        },
        {
          "output_type": "stream",
          "name": "stderr",
          "text": [
            "N=164000 Gerando 2000 [162000,163999]: 100%|██████████| 2000/2000 [00:00<00:00, 278515.49it/s]\n"
          ]
        },
        {
          "output_type": "stream",
          "name": "stdout",
          "text": [
            "Teste Von Neuman - Cenário 1, Tentativa 82-> N=164000: Falha\n"
          ]
        },
        {
          "output_type": "stream",
          "name": "stderr",
          "text": [
            "N=166000 Gerando 2000 [164000,165999]: 100%|██████████| 2000/2000 [00:00<00:00, 215385.22it/s]\n"
          ]
        },
        {
          "output_type": "stream",
          "name": "stdout",
          "text": [
            "Teste Von Neuman - Cenário 1, Tentativa 83-> N=166000: Falha\n"
          ]
        },
        {
          "output_type": "stream",
          "name": "stderr",
          "text": [
            "N=168000 Gerando 2000 [166000,167999]: 100%|██████████| 2000/2000 [00:00<00:00, 292102.79it/s]\n"
          ]
        },
        {
          "output_type": "stream",
          "name": "stdout",
          "text": [
            "Teste Von Neuman - Cenário 1, Tentativa 84-> N=168000: Falha\n"
          ]
        },
        {
          "output_type": "stream",
          "name": "stderr",
          "text": [
            "N=170000 Gerando 2000 [168000,169999]: 100%|██████████| 2000/2000 [00:00<00:00, 291109.38it/s]\n"
          ]
        },
        {
          "output_type": "stream",
          "name": "stdout",
          "text": [
            "Teste Von Neuman - Cenário 1, Tentativa 85-> N=170000: Falha\n"
          ]
        },
        {
          "output_type": "stream",
          "name": "stderr",
          "text": [
            "N=172000 Gerando 2000 [170000,171999]: 100%|██████████| 2000/2000 [00:00<00:00, 289182.57it/s]\n"
          ]
        },
        {
          "output_type": "stream",
          "name": "stdout",
          "text": [
            "Teste Von Neuman - Cenário 1, Tentativa 86-> N=172000: Falha\n"
          ]
        },
        {
          "output_type": "stream",
          "name": "stderr",
          "text": [
            "N=174000 Gerando 2000 [172000,173999]: 100%|██████████| 2000/2000 [00:00<00:00, 292683.72it/s]\n"
          ]
        },
        {
          "output_type": "stream",
          "name": "stdout",
          "text": [
            "Teste Von Neuman - Cenário 1, Tentativa 87-> N=174000: Falha\n"
          ]
        },
        {
          "output_type": "stream",
          "name": "stderr",
          "text": [
            "N=176000 Gerando 2000 [174000,175999]: 100%|██████████| 2000/2000 [00:00<00:00, 289402.06it/s]\n"
          ]
        },
        {
          "output_type": "stream",
          "name": "stdout",
          "text": [
            "Teste Von Neuman - Cenário 1, Tentativa 88-> N=176000: Falha\n"
          ]
        },
        {
          "output_type": "stream",
          "name": "stderr",
          "text": [
            "N=178000 Gerando 2000 [176000,177999]: 100%|██████████| 2000/2000 [00:00<00:00, 397752.87it/s]\n"
          ]
        },
        {
          "output_type": "stream",
          "name": "stdout",
          "text": [
            "Teste Von Neuman - Cenário 1, Tentativa 89-> N=178000: Falha\n"
          ]
        },
        {
          "output_type": "stream",
          "name": "stderr",
          "text": [
            "N=180000 Gerando 2000 [178000,179999]: 100%|██████████| 2000/2000 [00:00<00:00, 159694.80it/s]\n"
          ]
        },
        {
          "output_type": "stream",
          "name": "stdout",
          "text": [
            "Teste Von Neuman - Cenário 1, Tentativa 90-> N=180000: Falha\n"
          ]
        },
        {
          "output_type": "stream",
          "name": "stderr",
          "text": [
            "N=182000 Gerando 2000 [180000,181999]: 100%|██████████| 2000/2000 [00:00<00:00, 267895.38it/s]\n"
          ]
        },
        {
          "output_type": "stream",
          "name": "stdout",
          "text": [
            "Teste Von Neuman - Cenário 1, Tentativa 91-> N=182000: Falha\n"
          ]
        },
        {
          "output_type": "stream",
          "name": "stderr",
          "text": [
            "N=184000 Gerando 2000 [182000,183999]: 100%|██████████| 2000/2000 [00:00<00:00, 381369.70it/s]\n"
          ]
        },
        {
          "output_type": "stream",
          "name": "stdout",
          "text": [
            "Teste Von Neuman - Cenário 1, Tentativa 92-> N=184000: Falha\n"
          ]
        },
        {
          "output_type": "stream",
          "name": "stderr",
          "text": [
            "N=186000 Gerando 2000 [184000,185999]: 100%|██████████| 2000/2000 [00:00<00:00, 222556.72it/s]\n"
          ]
        },
        {
          "output_type": "stream",
          "name": "stdout",
          "text": [
            "Teste Von Neuman - Cenário 1, Tentativa 93-> N=186000: Falha\n"
          ]
        },
        {
          "output_type": "stream",
          "name": "stderr",
          "text": [
            "N=188000 Gerando 2000 [186000,187999]: 100%|██████████| 2000/2000 [00:00<00:00, 309120.68it/s]\n"
          ]
        },
        {
          "output_type": "stream",
          "name": "stdout",
          "text": [
            "Teste Von Neuman - Cenário 1, Tentativa 94-> N=188000: Falha\n"
          ]
        },
        {
          "output_type": "stream",
          "name": "stderr",
          "text": [
            "N=190000 Gerando 2000 [188000,189999]: 100%|██████████| 2000/2000 [00:00<00:00, 293585.13it/s]"
          ]
        },
        {
          "output_type": "stream",
          "name": "stdout",
          "text": [
            "Teste Von Neuman - Cenário 1, Tentativa 95-> N=190000: Falha"
          ]
        },
        {
          "output_type": "stream",
          "name": "stderr",
          "text": [
            "\n"
          ]
        },
        {
          "output_type": "stream",
          "name": "stdout",
          "text": [
            "\n"
          ]
        },
        {
          "output_type": "stream",
          "name": "stderr",
          "text": [
            "N=192000 Gerando 2000 [190000,191999]: 100%|██████████| 2000/2000 [00:00<00:00, 289461.97it/s]\n"
          ]
        },
        {
          "output_type": "stream",
          "name": "stdout",
          "text": [
            "Teste Von Neuman - Cenário 1, Tentativa 96-> N=192000: Falha\n"
          ]
        },
        {
          "output_type": "stream",
          "name": "stderr",
          "text": [
            "N=194000 Gerando 2000 [192000,193999]: 100%|██████████| 2000/2000 [00:00<00:00, 262702.24it/s]\n"
          ]
        },
        {
          "output_type": "stream",
          "name": "stdout",
          "text": [
            "Teste Von Neuman - Cenário 1, Tentativa 97-> N=194000: Falha\n"
          ]
        },
        {
          "output_type": "stream",
          "name": "stderr",
          "text": [
            "N=196000 Gerando 2000 [194000,195999]: 100%|██████████| 2000/2000 [00:00<00:00, 329210.31it/s]\n"
          ]
        },
        {
          "output_type": "stream",
          "name": "stdout",
          "text": [
            "Teste Von Neuman - Cenário 1, Tentativa 98-> N=196000: Falha\n"
          ]
        },
        {
          "output_type": "stream",
          "name": "stderr",
          "text": [
            "N=198000 Gerando 2000 [196000,197999]: 100%|██████████| 2000/2000 [00:00<00:00, 345196.00it/s]\n"
          ]
        },
        {
          "output_type": "stream",
          "name": "stdout",
          "text": [
            "Teste Von Neuman - Cenário 1, Tentativa 99-> N=198000: Falha\n"
          ]
        },
        {
          "output_type": "stream",
          "name": "stderr",
          "text": [
            "N=200000 Gerando 2000 [198000,199999]: 100%|██████████| 2000/2000 [00:00<00:00, 322167.91it/s]\n"
          ]
        },
        {
          "output_type": "stream",
          "name": "stdout",
          "text": [
            "Teste Von Neuman - Cenário 1, Tentativa 100-> N=200000: Falha\n"
          ]
        },
        {
          "output_type": "stream",
          "name": "stderr",
          "text": [
            "N=202000 Gerando 2000 [200000,201999]: 100%|██████████| 2000/2000 [00:00<00:00, 465930.24it/s]\n"
          ]
        },
        {
          "output_type": "stream",
          "name": "stdout",
          "text": [
            "Teste Von Neuman - Cenário 1, Tentativa 101-> N=202000: Falha\n"
          ]
        },
        {
          "output_type": "stream",
          "name": "stderr",
          "text": [
            "N=204000 Gerando 2000 [202000,203999]: 100%|██████████| 2000/2000 [00:00<00:00, 293605.68it/s]\n"
          ]
        },
        {
          "output_type": "stream",
          "name": "stdout",
          "text": [
            "Teste Von Neuman - Cenário 1, Tentativa 102-> N=204000: Falha\n"
          ]
        },
        {
          "output_type": "stream",
          "name": "stderr",
          "text": [
            "N=206000 Gerando 2000 [204000,205999]: 100%|██████████| 2000/2000 [00:00<00:00, 226964.50it/s]\n"
          ]
        },
        {
          "output_type": "stream",
          "name": "stdout",
          "text": [
            "Teste Von Neuman - Cenário 1, Tentativa 103-> N=206000: Falha\n"
          ]
        },
        {
          "output_type": "stream",
          "name": "stderr",
          "text": [
            "N=208000 Gerando 2000 [206000,207999]: 100%|██████████| 2000/2000 [00:00<00:00, 223469.76it/s]\n"
          ]
        },
        {
          "output_type": "stream",
          "name": "stdout",
          "text": [
            "Teste Von Neuman - Cenário 1, Tentativa 104-> N=208000: Falha\n"
          ]
        },
        {
          "output_type": "stream",
          "name": "stderr",
          "text": [
            "N=210000 Gerando 2000 [208000,209999]: 100%|██████████| 2000/2000 [00:00<00:00, 236585.39it/s]\n"
          ]
        },
        {
          "output_type": "stream",
          "name": "stdout",
          "text": [
            "Teste Von Neuman - Cenário 1, Tentativa 105-> N=210000: Falha\n"
          ]
        },
        {
          "output_type": "stream",
          "name": "stderr",
          "text": [
            "N=212000 Gerando 2000 [210000,211999]: 100%|██████████| 2000/2000 [00:00<00:00, 310620.16it/s]\n"
          ]
        },
        {
          "output_type": "stream",
          "name": "stdout",
          "text": [
            "Teste Von Neuman - Cenário 1, Tentativa 106-> N=212000: Falha\n"
          ]
        },
        {
          "output_type": "stream",
          "name": "stderr",
          "text": [
            "N=214000 Gerando 2000 [212000,213999]: 100%|██████████| 2000/2000 [00:00<00:00, 263544.08it/s]\n"
          ]
        },
        {
          "output_type": "stream",
          "name": "stdout",
          "text": [
            "Teste Von Neuman - Cenário 1, Tentativa 107-> N=214000: Falha\n"
          ]
        },
        {
          "output_type": "stream",
          "name": "stderr",
          "text": [
            "N=216000 Gerando 2000 [214000,215999]: 100%|██████████| 2000/2000 [00:00<00:00, 296239.29it/s]\n"
          ]
        },
        {
          "output_type": "stream",
          "name": "stdout",
          "text": [
            "Teste Von Neuman - Cenário 1, Tentativa 108-> N=216000: Falha\n"
          ]
        },
        {
          "output_type": "stream",
          "name": "stderr",
          "text": [
            "N=218000 Gerando 2000 [216000,217999]: 100%|██████████| 2000/2000 [00:00<00:00, 253202.78it/s]\n"
          ]
        },
        {
          "output_type": "stream",
          "name": "stdout",
          "text": [
            "Teste Von Neuman - Cenário 1, Tentativa 109-> N=218000: Falha\n"
          ]
        },
        {
          "output_type": "stream",
          "name": "stderr",
          "text": [
            "N=220000 Gerando 2000 [218000,219999]: 100%|██████████| 2000/2000 [00:00<00:00, 221815.22it/s]\n"
          ]
        },
        {
          "output_type": "stream",
          "name": "stdout",
          "text": [
            "Teste Von Neuman - Cenário 1, Tentativa 110-> N=220000: Falha\n"
          ]
        },
        {
          "output_type": "stream",
          "name": "stderr",
          "text": [
            "N=222000 Gerando 2000 [220000,221999]: 100%|██████████| 2000/2000 [00:00<00:00, 263552.36it/s]\n"
          ]
        },
        {
          "output_type": "stream",
          "name": "stdout",
          "text": [
            "Teste Von Neuman - Cenário 1, Tentativa 111-> N=222000: Falha\n"
          ]
        },
        {
          "output_type": "stream",
          "name": "stderr",
          "text": [
            "N=224000 Gerando 2000 [222000,223999]: 100%|██████████| 2000/2000 [00:00<00:00, 245978.59it/s]\n"
          ]
        },
        {
          "output_type": "stream",
          "name": "stdout",
          "text": [
            "Teste Von Neuman - Cenário 1, Tentativa 112-> N=224000: Falha\n"
          ]
        },
        {
          "output_type": "stream",
          "name": "stderr",
          "text": [
            "N=226000 Gerando 2000 [224000,225999]: 100%|██████████| 2000/2000 [00:00<00:00, 350225.78it/s]\n"
          ]
        },
        {
          "output_type": "stream",
          "name": "stdout",
          "text": [
            "Teste Von Neuman - Cenário 1, Tentativa 113-> N=226000: Falha\n"
          ]
        },
        {
          "output_type": "stream",
          "name": "stderr",
          "text": [
            "N=228000 Gerando 2000 [226000,227999]: 100%|██████████| 2000/2000 [00:00<00:00, 302936.26it/s]\n"
          ]
        },
        {
          "output_type": "stream",
          "name": "stdout",
          "text": [
            "Teste Von Neuman - Cenário 1, Tentativa 114-> N=228000: Falha\n"
          ]
        },
        {
          "output_type": "stream",
          "name": "stderr",
          "text": [
            "N=230000 Gerando 2000 [228000,229999]: 100%|██████████| 2000/2000 [00:00<00:00, 344657.05it/s]\n"
          ]
        },
        {
          "output_type": "stream",
          "name": "stdout",
          "text": [
            "Teste Von Neuman - Cenário 1, Tentativa 115-> N=230000: Falha\n"
          ]
        },
        {
          "output_type": "stream",
          "name": "stderr",
          "text": [
            "N=232000 Gerando 2000 [230000,231999]: 100%|██████████| 2000/2000 [00:00<00:00, 240361.26it/s]\n"
          ]
        },
        {
          "output_type": "stream",
          "name": "stdout",
          "text": [
            "Teste Von Neuman - Cenário 1, Tentativa 116-> N=232000: Falha\n"
          ]
        },
        {
          "output_type": "stream",
          "name": "stderr",
          "text": [
            "N=234000 Gerando 2000 [232000,233999]: 100%|██████████| 2000/2000 [00:00<00:00, 199131.37it/s]\n"
          ]
        },
        {
          "output_type": "stream",
          "name": "stdout",
          "text": [
            "Teste Von Neuman - Cenário 1, Tentativa 117-> N=234000: Falha\n"
          ]
        },
        {
          "output_type": "stream",
          "name": "stderr",
          "text": [
            "N=236000 Gerando 2000 [234000,235999]: 100%|██████████| 2000/2000 [00:00<00:00, 229906.76it/s]\n"
          ]
        },
        {
          "output_type": "stream",
          "name": "stdout",
          "text": [
            "Teste Von Neuman - Cenário 1, Tentativa 118-> N=236000: Falha\n"
          ]
        },
        {
          "output_type": "stream",
          "name": "stderr",
          "text": [
            "N=238000 Gerando 2000 [236000,237999]: 100%|██████████| 2000/2000 [00:00<00:00, 221417.09it/s]\n"
          ]
        },
        {
          "output_type": "stream",
          "name": "stdout",
          "text": [
            "Teste Von Neuman - Cenário 1, Tentativa 119-> N=238000: Falha\n"
          ]
        },
        {
          "output_type": "stream",
          "name": "stderr",
          "text": [
            "N=240000 Gerando 2000 [238000,239999]: 100%|██████████| 2000/2000 [00:00<00:00, 185273.05it/s]\n"
          ]
        },
        {
          "output_type": "stream",
          "name": "stdout",
          "text": [
            "Teste Von Neuman - Cenário 1, Tentativa 120-> N=240000: Falha\n"
          ]
        },
        {
          "output_type": "stream",
          "name": "stderr",
          "text": [
            "N=242000 Gerando 2000 [240000,241999]: 100%|██████████| 2000/2000 [00:00<00:00, 231307.78it/s]\n"
          ]
        },
        {
          "output_type": "stream",
          "name": "stdout",
          "text": [
            "Teste Von Neuman - Cenário 1, Tentativa 121-> N=242000: Falha\n"
          ]
        },
        {
          "output_type": "stream",
          "name": "stderr",
          "text": [
            "N=244000 Gerando 2000 [242000,243999]: 100%|██████████| 2000/2000 [00:00<00:00, 456373.86it/s]\n"
          ]
        },
        {
          "output_type": "stream",
          "name": "stdout",
          "text": [
            "Teste Von Neuman - Cenário 1, Tentativa 122-> N=244000: Falha\n"
          ]
        },
        {
          "output_type": "stream",
          "name": "stderr",
          "text": [
            "N=246000 Gerando 2000 [244000,245999]: 100%|██████████| 2000/2000 [00:00<00:00, 273413.77it/s]\n"
          ]
        },
        {
          "output_type": "stream",
          "name": "stdout",
          "text": [
            "Teste Von Neuman - Cenário 1, Tentativa 123-> N=246000: Falha\n"
          ]
        },
        {
          "output_type": "stream",
          "name": "stderr",
          "text": [
            "N=248000 Gerando 2000 [246000,247999]: 100%|██████████| 2000/2000 [00:00<00:00, 479239.49it/s]\n"
          ]
        },
        {
          "output_type": "stream",
          "name": "stdout",
          "text": [
            "Teste Von Neuman - Cenário 1, Tentativa 124-> N=248000: Falha\n"
          ]
        },
        {
          "output_type": "stream",
          "name": "stderr",
          "text": [
            "N=250000 Gerando 2000 [248000,249999]: 100%|██████████| 2000/2000 [00:00<00:00, 391515.36it/s]\n"
          ]
        },
        {
          "output_type": "stream",
          "name": "stdout",
          "text": [
            "Teste Von Neuman - Cenário 1, Tentativa 125-> N=250000: Falha\n"
          ]
        },
        {
          "output_type": "stream",
          "name": "stderr",
          "text": [
            "N=252000 Gerando 2000 [250000,251999]: 100%|██████████| 2000/2000 [00:00<00:00, 244972.93it/s]\n"
          ]
        },
        {
          "output_type": "stream",
          "name": "stdout",
          "text": [
            "Teste Von Neuman - Cenário 1, Tentativa 126-> N=252000: Falha\n"
          ]
        },
        {
          "output_type": "stream",
          "name": "stderr",
          "text": [
            "N=254000 Gerando 2000 [252000,253999]: 100%|██████████| 2000/2000 [00:00<00:00, 285375.34it/s]\n"
          ]
        },
        {
          "output_type": "stream",
          "name": "stdout",
          "text": [
            "Teste Von Neuman - Cenário 1, Tentativa 127-> N=254000: Falha\n"
          ]
        },
        {
          "output_type": "stream",
          "name": "stderr",
          "text": [
            "N=256000 Gerando 2000 [254000,255999]: 100%|██████████| 2000/2000 [00:00<00:00, 288526.11it/s]\n"
          ]
        },
        {
          "output_type": "stream",
          "name": "stdout",
          "text": [
            "Teste Von Neuman - Cenário 1, Tentativa 128-> N=256000: Falha\n"
          ]
        },
        {
          "output_type": "stream",
          "name": "stderr",
          "text": [
            "N=258000 Gerando 2000 [256000,257999]: 100%|██████████| 2000/2000 [00:00<00:00, 212380.58it/s]\n"
          ]
        },
        {
          "output_type": "stream",
          "name": "stdout",
          "text": [
            "Teste Von Neuman - Cenário 1, Tentativa 129-> N=258000: Falha\n"
          ]
        },
        {
          "output_type": "stream",
          "name": "stderr",
          "text": [
            "N=260000 Gerando 2000 [258000,259999]: 100%|██████████| 2000/2000 [00:00<00:00, 244565.83it/s]\n"
          ]
        },
        {
          "output_type": "stream",
          "name": "stdout",
          "text": [
            "Teste Von Neuman - Cenário 1, Tentativa 130-> N=260000: Falha\n"
          ]
        },
        {
          "output_type": "stream",
          "name": "stderr",
          "text": [
            "N=262000 Gerando 2000 [260000,261999]: 100%|██████████| 2000/2000 [00:00<00:00, 217507.40it/s]\n"
          ]
        },
        {
          "output_type": "stream",
          "name": "stdout",
          "text": [
            "Teste Von Neuman - Cenário 1, Tentativa 131-> N=262000: Falha\n"
          ]
        },
        {
          "output_type": "stream",
          "name": "stderr",
          "text": [
            "N=264000 Gerando 2000 [262000,263999]: 100%|██████████| 2000/2000 [00:00<00:00, 260216.77it/s]\n"
          ]
        },
        {
          "output_type": "stream",
          "name": "stdout",
          "text": [
            "Teste Von Neuman - Cenário 1, Tentativa 132-> N=264000: Falha\n"
          ]
        },
        {
          "output_type": "stream",
          "name": "stderr",
          "text": [
            "N=266000 Gerando 2000 [264000,265999]: 100%|██████████| 2000/2000 [00:00<00:00, 223160.63it/s]\n"
          ]
        },
        {
          "output_type": "stream",
          "name": "stdout",
          "text": [
            "Teste Von Neuman - Cenário 1, Tentativa 133-> N=266000: Falha\n"
          ]
        },
        {
          "output_type": "stream",
          "name": "stderr",
          "text": [
            "N=268000 Gerando 2000 [266000,267999]: 100%|██████████| 2000/2000 [00:00<00:00, 269634.79it/s]\n"
          ]
        },
        {
          "output_type": "stream",
          "name": "stdout",
          "text": [
            "Teste Von Neuman - Cenário 1, Tentativa 134-> N=268000: Falha\n"
          ]
        },
        {
          "output_type": "stream",
          "name": "stderr",
          "text": [
            "N=270000 Gerando 2000 [268000,269999]: 100%|██████████| 2000/2000 [00:00<00:00, 208978.55it/s]"
          ]
        },
        {
          "output_type": "stream",
          "name": "stdout",
          "text": [
            "Teste Von Neuman - Cenário 1, Tentativa 135-> N=270000: Falha"
          ]
        },
        {
          "output_type": "stream",
          "name": "stderr",
          "text": [
            "\n"
          ]
        },
        {
          "output_type": "stream",
          "name": "stdout",
          "text": [
            "\n"
          ]
        },
        {
          "output_type": "stream",
          "name": "stderr",
          "text": [
            "N=272000 Gerando 2000 [270000,271999]: 100%|██████████| 2000/2000 [00:00<00:00, 215884.09it/s]\n"
          ]
        },
        {
          "output_type": "stream",
          "name": "stdout",
          "text": [
            "Teste Von Neuman - Cenário 1, Tentativa 136-> N=272000: Falha\n"
          ]
        },
        {
          "output_type": "stream",
          "name": "stderr",
          "text": [
            "N=274000 Gerando 2000 [272000,273999]: 100%|██████████| 2000/2000 [00:00<00:00, 225609.38it/s]\n"
          ]
        },
        {
          "output_type": "stream",
          "name": "stdout",
          "text": [
            "Teste Von Neuman - Cenário 1, Tentativa 137-> N=274000: Falha\n"
          ]
        },
        {
          "output_type": "stream",
          "name": "stderr",
          "text": [
            "N=276000 Gerando 2000 [274000,275999]: 100%|██████████| 2000/2000 [00:00<00:00, 217451.02it/s]\n"
          ]
        },
        {
          "output_type": "stream",
          "name": "stdout",
          "text": [
            "Teste Von Neuman - Cenário 1, Tentativa 138-> N=276000: Falha\n"
          ]
        },
        {
          "output_type": "stream",
          "name": "stderr",
          "text": [
            "N=278000 Gerando 2000 [276000,277999]: 100%|██████████| 2000/2000 [00:00<00:00, 212822.41it/s]\n"
          ]
        },
        {
          "output_type": "stream",
          "name": "stdout",
          "text": [
            "Teste Von Neuman - Cenário 1, Tentativa 139-> N=278000: Falha\n"
          ]
        },
        {
          "output_type": "stream",
          "name": "stderr",
          "text": [
            "N=280000 Gerando 2000 [278000,279999]: 100%|██████████| 2000/2000 [00:00<00:00, 203173.03it/s]\n"
          ]
        },
        {
          "output_type": "stream",
          "name": "stdout",
          "text": [
            "Teste Von Neuman - Cenário 1, Tentativa 140-> N=280000: Falha\n"
          ]
        },
        {
          "output_type": "stream",
          "name": "stderr",
          "text": [
            "N=282000 Gerando 2000 [280000,281999]: 100%|██████████| 2000/2000 [00:00<00:00, 210372.61it/s]\n"
          ]
        },
        {
          "output_type": "stream",
          "name": "stdout",
          "text": [
            "Teste Von Neuman - Cenário 1, Tentativa 141-> N=282000: Falha\n"
          ]
        },
        {
          "output_type": "stream",
          "name": "stderr",
          "text": [
            "N=284000 Gerando 2000 [282000,283999]: 100%|██████████| 2000/2000 [00:00<00:00, 278941.51it/s]\n"
          ]
        },
        {
          "output_type": "stream",
          "name": "stdout",
          "text": [
            "Teste Von Neuman - Cenário 1, Tentativa 142-> N=284000: Falha\n"
          ]
        },
        {
          "output_type": "stream",
          "name": "stderr",
          "text": [
            "N=286000 Gerando 2000 [284000,285999]: 100%|██████████| 2000/2000 [00:00<00:00, 292143.48it/s]\n"
          ]
        },
        {
          "output_type": "stream",
          "name": "stdout",
          "text": [
            "Teste Von Neuman - Cenário 1, Tentativa 143-> N=286000: Falha\n"
          ]
        },
        {
          "output_type": "stream",
          "name": "stderr",
          "text": [
            "N=288000 Gerando 2000 [286000,287999]: 100%|██████████| 2000/2000 [00:00<00:00, 260669.59it/s]\n"
          ]
        },
        {
          "output_type": "stream",
          "name": "stdout",
          "text": [
            "Teste Von Neuman - Cenário 1, Tentativa 144-> N=288000: Falha\n"
          ]
        },
        {
          "output_type": "stream",
          "name": "stderr",
          "text": [
            "N=290000 Gerando 2000 [288000,289999]: 100%|██████████| 2000/2000 [00:00<00:00, 277998.61it/s]\n"
          ]
        },
        {
          "output_type": "stream",
          "name": "stdout",
          "text": [
            "Teste Von Neuman - Cenário 1, Tentativa 145-> N=290000: Falha\n"
          ]
        },
        {
          "output_type": "stream",
          "name": "stderr",
          "text": [
            "N=292000 Gerando 2000 [290000,291999]: 100%|██████████| 2000/2000 [00:00<00:00, 268969.09it/s]\n"
          ]
        },
        {
          "output_type": "stream",
          "name": "stdout",
          "text": [
            "Teste Von Neuman - Cenário 1, Tentativa 146-> N=292000: Falha\n"
          ]
        },
        {
          "output_type": "stream",
          "name": "stderr",
          "text": [
            "N=294000 Gerando 2000 [292000,293999]: 100%|██████████| 2000/2000 [00:00<00:00, 255081.43it/s]\n"
          ]
        },
        {
          "output_type": "stream",
          "name": "stdout",
          "text": [
            "Teste Von Neuman - Cenário 1, Tentativa 147-> N=294000: Falha\n"
          ]
        },
        {
          "output_type": "stream",
          "name": "stderr",
          "text": [
            "N=296000 Gerando 2000 [294000,295999]: 100%|██████████| 2000/2000 [00:00<00:00, 282825.62it/s]\n"
          ]
        },
        {
          "output_type": "stream",
          "name": "stdout",
          "text": [
            "Teste Von Neuman - Cenário 1, Tentativa 148-> N=296000: Falha\n"
          ]
        },
        {
          "output_type": "stream",
          "name": "stderr",
          "text": [
            "N=298000 Gerando 2000 [296000,297999]: 100%|██████████| 2000/2000 [00:00<00:00, 259299.81it/s]\n"
          ]
        },
        {
          "output_type": "stream",
          "name": "stdout",
          "text": [
            "Teste Von Neuman - Cenário 1, Tentativa 149-> N=298000: Falha\n"
          ]
        },
        {
          "output_type": "stream",
          "name": "stderr",
          "text": [
            "N=300000 Gerando 2000 [298000,299999]: 100%|██████████| 2000/2000 [00:00<00:00, 283226.69it/s]\n"
          ]
        },
        {
          "output_type": "stream",
          "name": "stdout",
          "text": [
            "Teste Von Neuman - Cenário 1, Tentativa 150-> N=300000: Falha\n"
          ]
        },
        {
          "output_type": "stream",
          "name": "stderr",
          "text": [
            "N=302000 Gerando 2000 [300000,301999]: 100%|██████████| 2000/2000 [00:00<00:00, 269038.10it/s]\n"
          ]
        },
        {
          "output_type": "stream",
          "name": "stdout",
          "text": [
            "Teste Von Neuman - Cenário 1, Tentativa 151-> N=302000: Falha\n"
          ]
        },
        {
          "output_type": "stream",
          "name": "stderr",
          "text": [
            "N=304000 Gerando 2000 [302000,303999]: 100%|██████████| 2000/2000 [00:00<00:00, 267732.92it/s]\n"
          ]
        },
        {
          "output_type": "stream",
          "name": "stdout",
          "text": [
            "Teste Von Neuman - Cenário 1, Tentativa 152-> N=304000: Falha\n"
          ]
        },
        {
          "output_type": "stream",
          "name": "stderr",
          "text": [
            "N=306000 Gerando 2000 [304000,305999]: 100%|██████████| 2000/2000 [00:00<00:00, 267647.50it/s]\n"
          ]
        },
        {
          "output_type": "stream",
          "name": "stdout",
          "text": [
            "Teste Von Neuman - Cenário 1, Tentativa 153-> N=306000: Falha\n"
          ]
        },
        {
          "output_type": "stream",
          "name": "stderr",
          "text": [
            "N=308000 Gerando 2000 [306000,307999]: 100%|██████████| 2000/2000 [00:00<00:00, 253218.06it/s]\n"
          ]
        },
        {
          "output_type": "stream",
          "name": "stdout",
          "text": [
            "Teste Von Neuman - Cenário 1, Tentativa 154-> N=308000: Falha\n"
          ]
        },
        {
          "output_type": "stream",
          "name": "stderr",
          "text": [
            "N=310000 Gerando 2000 [308000,309999]: 100%|██████████| 2000/2000 [00:00<00:00, 240340.60it/s]\n"
          ]
        },
        {
          "output_type": "stream",
          "name": "stdout",
          "text": [
            "Teste Von Neuman - Cenário 1, Tentativa 155-> N=310000: Falha\n"
          ]
        },
        {
          "output_type": "stream",
          "name": "stderr",
          "text": [
            "N=312000 Gerando 2000 [310000,311999]: 100%|██████████| 2000/2000 [00:00<00:00, 193812.86it/s]\n"
          ]
        },
        {
          "output_type": "stream",
          "name": "stdout",
          "text": [
            "Teste Von Neuman - Cenário 1, Tentativa 156-> N=312000: Falha\n"
          ]
        },
        {
          "output_type": "stream",
          "name": "stderr",
          "text": [
            "N=314000 Gerando 2000 [312000,313999]: 100%|██████████| 2000/2000 [00:00<00:00, 290343.62it/s]\n"
          ]
        },
        {
          "output_type": "stream",
          "name": "stdout",
          "text": [
            "Teste Von Neuman - Cenário 1, Tentativa 157-> N=314000: Falha\n"
          ]
        },
        {
          "output_type": "stream",
          "name": "stderr",
          "text": [
            "N=316000 Gerando 2000 [314000,315999]: 100%|██████████| 2000/2000 [00:00<00:00, 194401.24it/s]\n"
          ]
        },
        {
          "output_type": "stream",
          "name": "stdout",
          "text": [
            "Teste Von Neuman - Cenário 1, Tentativa 158-> N=316000: Falha\n"
          ]
        },
        {
          "output_type": "stream",
          "name": "stderr",
          "text": [
            "N=318000 Gerando 2000 [316000,317999]: 100%|██████████| 2000/2000 [00:00<00:00, 275370.38it/s]\n"
          ]
        },
        {
          "output_type": "stream",
          "name": "stdout",
          "text": [
            "Teste Von Neuman - Cenário 1, Tentativa 159-> N=318000: Falha\n"
          ]
        },
        {
          "output_type": "stream",
          "name": "stderr",
          "text": [
            "N=320000 Gerando 2000 [318000,319999]: 100%|██████████| 2000/2000 [00:00<00:00, 291099.28it/s]\n"
          ]
        },
        {
          "output_type": "stream",
          "name": "stdout",
          "text": [
            "Teste Von Neuman - Cenário 1, Tentativa 160-> N=320000: Falha\n"
          ]
        },
        {
          "output_type": "stream",
          "name": "stderr",
          "text": [
            "N=322000 Gerando 2000 [320000,321999]: 100%|██████████| 2000/2000 [00:00<00:00, 286105.32it/s]\n"
          ]
        },
        {
          "output_type": "stream",
          "name": "stdout",
          "text": [
            "Teste Von Neuman - Cenário 1, Tentativa 161-> N=322000: Falha\n"
          ]
        },
        {
          "output_type": "stream",
          "name": "stderr",
          "text": [
            "N=324000 Gerando 2000 [322000,323999]: 100%|██████████| 2000/2000 [00:00<00:00, 288387.24it/s]\n"
          ]
        },
        {
          "output_type": "stream",
          "name": "stdout",
          "text": [
            "Teste Von Neuman - Cenário 1, Tentativa 162-> N=324000: Falha\n"
          ]
        },
        {
          "output_type": "stream",
          "name": "stderr",
          "text": [
            "N=326000 Gerando 2000 [324000,325999]: 100%|██████████| 2000/2000 [00:00<00:00, 275877.53it/s]\n"
          ]
        },
        {
          "output_type": "stream",
          "name": "stdout",
          "text": [
            "Teste Von Neuman - Cenário 1, Tentativa 163-> N=326000: Falha\n"
          ]
        },
        {
          "output_type": "stream",
          "name": "stderr",
          "text": [
            "N=328000 Gerando 2000 [326000,327999]: 100%|██████████| 2000/2000 [00:00<00:00, 199809.64it/s]\n"
          ]
        },
        {
          "output_type": "stream",
          "name": "stdout",
          "text": [
            "Teste Von Neuman - Cenário 1, Tentativa 164-> N=328000: Falha\n"
          ]
        },
        {
          "output_type": "stream",
          "name": "stderr",
          "text": [
            "N=330000 Gerando 2000 [328000,329999]: 100%|██████████| 2000/2000 [00:00<00:00, 280508.54it/s]\n"
          ]
        },
        {
          "output_type": "stream",
          "name": "stdout",
          "text": [
            "Teste Von Neuman - Cenário 1, Tentativa 165-> N=330000: Falha\n"
          ]
        },
        {
          "output_type": "stream",
          "name": "stderr",
          "text": [
            "N=332000 Gerando 2000 [330000,331999]: 100%|██████████| 2000/2000 [00:00<00:00, 250900.52it/s]\n"
          ]
        },
        {
          "output_type": "stream",
          "name": "stdout",
          "text": [
            "Teste Von Neuman - Cenário 1, Tentativa 166-> N=332000: Falha\n"
          ]
        },
        {
          "output_type": "stream",
          "name": "stderr",
          "text": [
            "N=334000 Gerando 2000 [332000,333999]: 100%|██████████| 2000/2000 [00:00<00:00, 282720.77it/s]\n"
          ]
        },
        {
          "output_type": "stream",
          "name": "stdout",
          "text": [
            "Teste Von Neuman - Cenário 1, Tentativa 167-> N=334000: Falha\n"
          ]
        },
        {
          "output_type": "stream",
          "name": "stderr",
          "text": [
            "N=336000 Gerando 2000 [334000,335999]: 100%|██████████| 2000/2000 [00:00<00:00, 288387.24it/s]\n"
          ]
        },
        {
          "output_type": "stream",
          "name": "stdout",
          "text": [
            "Teste Von Neuman - Cenário 1, Tentativa 168-> N=336000: Falha\n"
          ]
        },
        {
          "output_type": "stream",
          "name": "stderr",
          "text": [
            "N=338000 Gerando 2000 [336000,337999]: 100%|██████████| 2000/2000 [00:00<00:00, 260823.58it/s]\n"
          ]
        },
        {
          "output_type": "stream",
          "name": "stdout",
          "text": [
            "Teste Von Neuman - Cenário 1, Tentativa 169-> N=338000: Falha\n"
          ]
        },
        {
          "output_type": "stream",
          "name": "stderr",
          "text": [
            "N=340000 Gerando 2000 [338000,339999]: 100%|██████████| 2000/2000 [00:00<00:00, 277199.39it/s]\n"
          ]
        },
        {
          "output_type": "stream",
          "name": "stdout",
          "text": [
            "Teste Von Neuman - Cenário 1, Tentativa 170-> N=340000: Falha\n"
          ]
        },
        {
          "output_type": "stream",
          "name": "stderr",
          "text": [
            "N=342000 Gerando 2000 [340000,341999]: 100%|██████████| 2000/2000 [00:00<00:00, 294110.09it/s]\n"
          ]
        },
        {
          "output_type": "stream",
          "name": "stdout",
          "text": [
            "Teste Von Neuman - Cenário 1, Tentativa 171-> N=342000: Falha\n"
          ]
        },
        {
          "output_type": "stream",
          "name": "stderr",
          "text": [
            "N=344000 Gerando 2000 [342000,343999]: 100%|██████████| 2000/2000 [00:00<00:00, 265135.05it/s]\n"
          ]
        },
        {
          "output_type": "stream",
          "name": "stdout",
          "text": [
            "Teste Von Neuman - Cenário 1, Tentativa 172-> N=344000: Falha\n"
          ]
        },
        {
          "output_type": "stream",
          "name": "stderr",
          "text": [
            "N=346000 Gerando 2000 [344000,345999]: 100%|██████████| 2000/2000 [00:00<00:00, 294512.80it/s]\n"
          ]
        },
        {
          "output_type": "stream",
          "name": "stdout",
          "text": [
            "Teste Von Neuman - Cenário 1, Tentativa 173-> N=346000: Falha\n"
          ]
        },
        {
          "output_type": "stream",
          "name": "stderr",
          "text": [
            "N=348000 Gerando 2000 [346000,347999]: 100%|██████████| 2000/2000 [00:00<00:00, 292092.62it/s]\n"
          ]
        },
        {
          "output_type": "stream",
          "name": "stdout",
          "text": [
            "Teste Von Neuman - Cenário 1, Tentativa 174-> N=348000: Falha\n"
          ]
        },
        {
          "output_type": "stream",
          "name": "stderr",
          "text": [
            "N=350000 Gerando 2000 [348000,349999]: 100%|██████████| 2000/2000 [00:00<00:00, 204420.70it/s]\n"
          ]
        },
        {
          "output_type": "stream",
          "name": "stdout",
          "text": [
            "Teste Von Neuman - Cenário 1, Tentativa 175-> N=350000: Falha\n"
          ]
        },
        {
          "output_type": "stream",
          "name": "stderr",
          "text": [
            "N=352000 Gerando 2000 [350000,351999]: 100%|██████████| 2000/2000 [00:00<00:00, 198087.47it/s]\n"
          ]
        },
        {
          "output_type": "stream",
          "name": "stdout",
          "text": [
            "Teste Von Neuman - Cenário 1, Tentativa 176-> N=352000: Falha\n"
          ]
        },
        {
          "output_type": "stream",
          "name": "stderr",
          "text": [
            "N=354000 Gerando 2000 [352000,353999]: 100%|██████████| 2000/2000 [00:00<00:00, 230241.20it/s]\n"
          ]
        },
        {
          "output_type": "stream",
          "name": "stdout",
          "text": [
            "Teste Von Neuman - Cenário 1, Tentativa 177-> N=354000: Falha\n"
          ]
        },
        {
          "output_type": "stream",
          "name": "stderr",
          "text": [
            "N=356000 Gerando 2000 [354000,355999]: 100%|██████████| 2000/2000 [00:00<00:00, 284890.75it/s]\n"
          ]
        },
        {
          "output_type": "stream",
          "name": "stdout",
          "text": [
            "Teste Von Neuman - Cenário 1, Tentativa 178-> N=356000: Falha\n"
          ]
        },
        {
          "output_type": "stream",
          "name": "stderr",
          "text": [
            "N=358000 Gerando 2000 [356000,357999]: 100%|██████████| 2000/2000 [00:00<00:00, 277437.76it/s]\n"
          ]
        },
        {
          "output_type": "stream",
          "name": "stdout",
          "text": [
            "Teste Von Neuman - Cenário 1, Tentativa 179-> N=358000: Falha\n"
          ]
        },
        {
          "output_type": "stream",
          "name": "stderr",
          "text": [
            "N=360000 Gerando 2000 [358000,359999]: 100%|██████████| 2000/2000 [00:00<00:00, 285666.88it/s]\n"
          ]
        },
        {
          "output_type": "stream",
          "name": "stdout",
          "text": [
            "Teste Von Neuman - Cenário 1, Tentativa 180-> N=360000: Falha\n"
          ]
        },
        {
          "output_type": "stream",
          "name": "stderr",
          "text": [
            "N=362000 Gerando 2000 [360000,361999]: 100%|██████████| 2000/2000 [00:00<00:00, 254007.81it/s]\n"
          ]
        },
        {
          "output_type": "stream",
          "name": "stdout",
          "text": [
            "Teste Von Neuman - Cenário 1, Tentativa 181-> N=362000: Falha\n"
          ]
        },
        {
          "output_type": "stream",
          "name": "stderr",
          "text": [
            "N=364000 Gerando 2000 [362000,363999]: 100%|██████████| 2000/2000 [00:00<00:00, 288883.81it/s]\n"
          ]
        },
        {
          "output_type": "stream",
          "name": "stdout",
          "text": [
            "Teste Von Neuman - Cenário 1, Tentativa 182-> N=364000: Falha\n"
          ]
        },
        {
          "output_type": "stream",
          "name": "stderr",
          "text": [
            "N=366000 Gerando 2000 [364000,365999]: 100%|██████████| 2000/2000 [00:00<00:00, 240202.96it/s]\n"
          ]
        },
        {
          "output_type": "stream",
          "name": "stdout",
          "text": [
            "Teste Von Neuman - Cenário 1, Tentativa 183-> N=366000: Falha\n"
          ]
        },
        {
          "output_type": "stream",
          "name": "stderr",
          "text": [
            "N=368000 Gerando 2000 [366000,367999]: 100%|██████████| 2000/2000 [00:00<00:00, 263072.98it/s]\n"
          ]
        },
        {
          "output_type": "stream",
          "name": "stdout",
          "text": [
            "Teste Von Neuman - Cenário 1, Tentativa 184-> N=368000: Falha\n"
          ]
        },
        {
          "output_type": "stream",
          "name": "stderr",
          "text": [
            "N=370000 Gerando 2000 [368000,369999]: 100%|██████████| 2000/2000 [00:00<00:00, 289912.15it/s]\n"
          ]
        },
        {
          "output_type": "stream",
          "name": "stdout",
          "text": [
            "Teste Von Neuman - Cenário 1, Tentativa 185-> N=370000: Falha\n"
          ]
        },
        {
          "output_type": "stream",
          "name": "stderr",
          "text": [
            "N=372000 Gerando 2000 [370000,371999]: 100%|██████████| 2000/2000 [00:00<00:00, 275696.19it/s]\n"
          ]
        },
        {
          "output_type": "stream",
          "name": "stdout",
          "text": [
            "Teste Von Neuman - Cenário 1, Tentativa 186-> N=372000: Falha\n"
          ]
        },
        {
          "output_type": "stream",
          "name": "stderr",
          "text": [
            "N=374000 Gerando 2000 [372000,373999]: 100%|██████████| 2000/2000 [00:00<00:00, 267178.65it/s]\n"
          ]
        },
        {
          "output_type": "stream",
          "name": "stdout",
          "text": [
            "Teste Von Neuman - Cenário 1, Tentativa 187-> N=374000: Falha\n"
          ]
        },
        {
          "output_type": "stream",
          "name": "stderr",
          "text": [
            "N=376000 Gerando 2000 [374000,375999]: 100%|██████████| 2000/2000 [00:00<00:00, 280283.60it/s]\n"
          ]
        },
        {
          "output_type": "stream",
          "name": "stdout",
          "text": [
            "Teste Von Neuman - Cenário 1, Tentativa 188-> N=376000: Falha\n"
          ]
        },
        {
          "output_type": "stream",
          "name": "stderr",
          "text": [
            "N=378000 Gerando 2000 [376000,377999]: 100%|██████████| 2000/2000 [00:00<00:00, 172130.50it/s]\n"
          ]
        },
        {
          "output_type": "stream",
          "name": "stdout",
          "text": [
            "Teste Von Neuman - Cenário 1, Tentativa 189-> N=378000: Falha\n"
          ]
        },
        {
          "output_type": "stream",
          "name": "stderr",
          "text": [
            "N=380000 Gerando 2000 [378000,379999]: 100%|██████████| 2000/2000 [00:00<00:00, 287931.90it/s]\n"
          ]
        },
        {
          "output_type": "stream",
          "name": "stdout",
          "text": [
            "Teste Von Neuman - Cenário 1, Tentativa 190-> N=380000: Falha\n"
          ]
        },
        {
          "output_type": "stream",
          "name": "stderr",
          "text": [
            "N=382000 Gerando 2000 [380000,381999]: 100%|██████████| 2000/2000 [00:00<00:00, 195702.87it/s]\n"
          ]
        },
        {
          "output_type": "stream",
          "name": "stdout",
          "text": [
            "Teste Von Neuman - Cenário 1, Tentativa 191-> N=382000: Falha\n"
          ]
        },
        {
          "output_type": "stream",
          "name": "stderr",
          "text": [
            "N=384000 Gerando 2000 [382000,383999]: 100%|██████████| 2000/2000 [00:00<00:00, 471588.04it/s]\n"
          ]
        },
        {
          "output_type": "stream",
          "name": "stdout",
          "text": [
            "Teste Von Neuman - Cenário 1, Tentativa 192-> N=384000: Falha\n"
          ]
        },
        {
          "output_type": "stream",
          "name": "stderr",
          "text": [
            "N=386000 Gerando 2000 [384000,385999]: 100%|██████████| 2000/2000 [00:00<00:00, 233185.30it/s]\n"
          ]
        },
        {
          "output_type": "stream",
          "name": "stdout",
          "text": [
            "Teste Von Neuman - Cenário 1, Tentativa 193-> N=386000: Falha\n"
          ]
        },
        {
          "output_type": "stream",
          "name": "stderr",
          "text": [
            "N=388000 Gerando 2000 [386000,387999]: 100%|██████████| 2000/2000 [00:00<00:00, 278811.71it/s]\n"
          ]
        },
        {
          "output_type": "stream",
          "name": "stdout",
          "text": [
            "Teste Von Neuman - Cenário 1, Tentativa 194-> N=388000: Falha\n"
          ]
        },
        {
          "output_type": "stream",
          "name": "stderr",
          "text": [
            "N=390000 Gerando 2000 [388000,389999]: 100%|██████████| 2000/2000 [00:00<00:00, 313862.69it/s]\n"
          ]
        },
        {
          "output_type": "stream",
          "name": "stdout",
          "text": [
            "Teste Von Neuman - Cenário 1, Tentativa 195-> N=390000: Falha\n"
          ]
        },
        {
          "output_type": "stream",
          "name": "stderr",
          "text": [
            "N=392000 Gerando 2000 [390000,391999]: 100%|██████████| 2000/2000 [00:00<00:00, 170178.48it/s]\n"
          ]
        },
        {
          "output_type": "stream",
          "name": "stdout",
          "text": [
            "Teste Von Neuman - Cenário 1, Tentativa 196-> N=392000: Falha\n"
          ]
        },
        {
          "output_type": "stream",
          "name": "stderr",
          "text": [
            "N=394000 Gerando 2000 [392000,393999]: 100%|██████████| 2000/2000 [00:00<00:00, 233848.35it/s]\n"
          ]
        },
        {
          "output_type": "stream",
          "name": "stdout",
          "text": [
            "Teste Von Neuman - Cenário 1, Tentativa 197-> N=394000: Falha\n"
          ]
        },
        {
          "output_type": "stream",
          "name": "stderr",
          "text": [
            "N=396000 Gerando 2000 [394000,395999]: 100%|██████████| 2000/2000 [00:00<00:00, 553046.41it/s]\n"
          ]
        },
        {
          "output_type": "stream",
          "name": "stdout",
          "text": [
            "Teste Von Neuman - Cenário 1, Tentativa 198-> N=396000: Falha\n"
          ]
        },
        {
          "output_type": "stream",
          "name": "stderr",
          "text": [
            "N=398000 Gerando 2000 [396000,397999]: 100%|██████████| 2000/2000 [00:00<00:00, 276714.76it/s]\n"
          ]
        },
        {
          "output_type": "stream",
          "name": "stdout",
          "text": [
            "Teste Von Neuman - Cenário 1, Tentativa 199-> N=398000: Falha\n"
          ]
        },
        {
          "output_type": "stream",
          "name": "stderr",
          "text": [
            "N=400000 Gerando 2000 [398000,399999]: 100%|██████████| 2000/2000 [00:00<00:00, 272215.99it/s]\n"
          ]
        },
        {
          "output_type": "stream",
          "name": "stdout",
          "text": [
            "Teste Von Neuman - Cenário 1, Tentativa 200-> N=400000: Falha\n"
          ]
        },
        {
          "output_type": "stream",
          "name": "stderr",
          "text": [
            "N=402000 Gerando 2000 [400000,401999]: 100%|██████████| 2000/2000 [00:00<00:00, 441645.15it/s]\n"
          ]
        },
        {
          "output_type": "stream",
          "name": "stdout",
          "text": [
            "Teste Von Neuman - Cenário 1, Tentativa 201-> N=402000: Falha\n"
          ]
        },
        {
          "output_type": "stream",
          "name": "stderr",
          "text": [
            "N=404000 Gerando 2000 [402000,403999]: 100%|██████████| 2000/2000 [00:00<00:00, 238740.02it/s]\n"
          ]
        },
        {
          "output_type": "stream",
          "name": "stdout",
          "text": [
            "Teste Von Neuman - Cenário 1, Tentativa 202-> N=404000: Falha\n"
          ]
        },
        {
          "output_type": "stream",
          "name": "stderr",
          "text": [
            "N=406000 Gerando 2000 [404000,405999]: 100%|██████████| 2000/2000 [00:00<00:00, 290514.56it/s]\n"
          ]
        },
        {
          "output_type": "stream",
          "name": "stdout",
          "text": [
            "Teste Von Neuman - Cenário 1, Tentativa 203-> N=406000: Falha\n"
          ]
        },
        {
          "output_type": "stream",
          "name": "stderr",
          "text": [
            "N=408000 Gerando 2000 [406000,407999]: 100%|██████████| 2000/2000 [00:00<00:00, 180734.43it/s]\n"
          ]
        },
        {
          "output_type": "stream",
          "name": "stdout",
          "text": [
            "Teste Von Neuman - Cenário 1, Tentativa 204-> N=408000: Falha\n"
          ]
        },
        {
          "output_type": "stream",
          "name": "stderr",
          "text": [
            "N=410000 Gerando 2000 [408000,409999]: 100%|██████████| 2000/2000 [00:00<00:00, 286183.41it/s]\n"
          ]
        },
        {
          "output_type": "stream",
          "name": "stdout",
          "text": [
            "Teste Von Neuman - Cenário 1, Tentativa 205-> N=410000: Falha\n"
          ]
        },
        {
          "output_type": "stream",
          "name": "stderr",
          "text": [
            "N=412000 Gerando 2000 [410000,411999]: 100%|██████████| 2000/2000 [00:00<00:00, 305373.43it/s]\n"
          ]
        },
        {
          "output_type": "stream",
          "name": "stdout",
          "text": [
            "Teste Von Neuman - Cenário 1, Tentativa 206-> N=412000: Falha\n"
          ]
        },
        {
          "output_type": "stream",
          "name": "stderr",
          "text": [
            "N=414000 Gerando 2000 [412000,413999]: 100%|██████████| 2000/2000 [00:00<00:00, 514102.35it/s]\n"
          ]
        },
        {
          "output_type": "stream",
          "name": "stdout",
          "text": [
            "Teste Von Neuman - Cenário 1, Tentativa 207-> N=414000: Falha\n"
          ]
        },
        {
          "output_type": "stream",
          "name": "stderr",
          "text": [
            "N=416000 Gerando 2000 [414000,415999]: 100%|██████████| 2000/2000 [00:00<00:00, 258317.67it/s]"
          ]
        },
        {
          "output_type": "stream",
          "name": "stdout",
          "text": [
            "Teste Von Neuman - Cenário 1, Tentativa 208-> N=416000: Falha"
          ]
        },
        {
          "output_type": "stream",
          "name": "stderr",
          "text": [
            "\n"
          ]
        },
        {
          "output_type": "stream",
          "name": "stdout",
          "text": [
            "\n"
          ]
        },
        {
          "output_type": "stream",
          "name": "stderr",
          "text": [
            "N=418000 Gerando 2000 [416000,417999]: 100%|██████████| 2000/2000 [00:00<00:00, 266753.84it/s]\n"
          ]
        },
        {
          "output_type": "stream",
          "name": "stdout",
          "text": [
            "Teste Von Neuman - Cenário 1, Tentativa 209-> N=418000: Falha\n"
          ]
        },
        {
          "output_type": "stream",
          "name": "stderr",
          "text": [
            "N=420000 Gerando 2000 [418000,419999]: 100%|██████████| 2000/2000 [00:00<00:00, 267545.07it/s]\n"
          ]
        },
        {
          "output_type": "stream",
          "name": "stdout",
          "text": [
            "Teste Von Neuman - Cenário 1, Tentativa 210-> N=420000: Falha\n"
          ]
        },
        {
          "output_type": "stream",
          "name": "stderr",
          "text": [
            "N=422000 Gerando 2000 [420000,421999]: 100%|██████████| 2000/2000 [00:00<00:00, 309965.93it/s]\n"
          ]
        },
        {
          "output_type": "stream",
          "name": "stdout",
          "text": [
            "Teste Von Neuman - Cenário 1, Tentativa 211-> N=422000: Falha\n"
          ]
        },
        {
          "output_type": "stream",
          "name": "stderr",
          "text": [
            "N=424000 Gerando 2000 [422000,423999]: 100%|██████████| 2000/2000 [00:00<00:00, 134114.73it/s]\n"
          ]
        },
        {
          "output_type": "stream",
          "name": "stdout",
          "text": [
            "Teste Von Neuman - Cenário 1, Tentativa 212-> N=424000: Falha\n"
          ]
        },
        {
          "output_type": "stream",
          "name": "stderr",
          "text": [
            "N=426000 Gerando 2000 [424000,425999]: 100%|██████████| 2000/2000 [00:00<00:00, 262053.92it/s]\n"
          ]
        },
        {
          "output_type": "stream",
          "name": "stdout",
          "text": [
            "Teste Von Neuman - Cenário 1, Tentativa 213-> N=426000: Falha\n"
          ]
        },
        {
          "output_type": "stream",
          "name": "stderr",
          "text": [
            "N=428000 Gerando 2000 [426000,427999]: 100%|██████████| 2000/2000 [00:00<00:00, 293914.30it/s]\n"
          ]
        },
        {
          "output_type": "stream",
          "name": "stdout",
          "text": [
            "Teste Von Neuman - Cenário 1, Tentativa 214-> N=428000: Falha\n"
          ]
        },
        {
          "output_type": "stream",
          "name": "stderr",
          "text": [
            "N=430000 Gerando 2000 [428000,429999]: 100%|██████████| 2000/2000 [00:00<00:00, 331972.30it/s]\n"
          ]
        },
        {
          "output_type": "stream",
          "name": "stdout",
          "text": [
            "Teste Von Neuman - Cenário 1, Tentativa 215-> N=430000: Falha\n"
          ]
        },
        {
          "output_type": "stream",
          "name": "stderr",
          "text": [
            "N=432000 Gerando 2000 [430000,431999]: 100%|██████████| 2000/2000 [00:00<00:00, 377474.15it/s]\n"
          ]
        },
        {
          "output_type": "stream",
          "name": "stdout",
          "text": [
            "Teste Von Neuman - Cenário 1, Tentativa 216-> N=432000: Falha\n"
          ]
        },
        {
          "output_type": "stream",
          "name": "stderr",
          "text": [
            "N=434000 Gerando 2000 [432000,433999]: 100%|██████████| 2000/2000 [00:00<00:00, 264333.01it/s]\n"
          ]
        },
        {
          "output_type": "stream",
          "name": "stdout",
          "text": [
            "Teste Von Neuman - Cenário 1, Tentativa 217-> N=434000: Falha\n"
          ]
        },
        {
          "output_type": "stream",
          "name": "stderr",
          "text": [
            "N=436000 Gerando 2000 [434000,435999]: 100%|██████████| 2000/2000 [00:00<00:00, 527884.21it/s]\n"
          ]
        },
        {
          "output_type": "stream",
          "name": "stdout",
          "text": [
            "Teste Von Neuman - Cenário 1, Tentativa 218-> N=436000: Falha\n"
          ]
        },
        {
          "output_type": "stream",
          "name": "stderr",
          "text": [
            "N=438000 Gerando 2000 [436000,437999]: 100%|██████████| 2000/2000 [00:00<00:00, 208454.05it/s]\n"
          ]
        },
        {
          "output_type": "stream",
          "name": "stdout",
          "text": [
            "Teste Von Neuman - Cenário 1, Tentativa 219-> N=438000: Falha\n"
          ]
        },
        {
          "output_type": "stream",
          "name": "stderr",
          "text": [
            "N=440000 Gerando 2000 [438000,439999]: 100%|██████████| 2000/2000 [00:00<00:00, 278210.67it/s]\n"
          ]
        },
        {
          "output_type": "stream",
          "name": "stdout",
          "text": [
            "Teste Von Neuman - Cenário 1, Tentativa 220-> N=440000: Falha\n"
          ]
        },
        {
          "output_type": "stream",
          "name": "stderr",
          "text": [
            "N=442000 Gerando 2000 [440000,441999]: 100%|██████████| 2000/2000 [00:00<00:00, 269686.80it/s]\n"
          ]
        },
        {
          "output_type": "stream",
          "name": "stdout",
          "text": [
            "Teste Von Neuman - Cenário 1, Tentativa 221-> N=442000: Falha\n"
          ]
        },
        {
          "output_type": "stream",
          "name": "stderr",
          "text": [
            "N=444000 Gerando 2000 [442000,443999]: 100%|██████████| 2000/2000 [00:00<00:00, 260531.96it/s]\n"
          ]
        },
        {
          "output_type": "stream",
          "name": "stdout",
          "text": [
            "Teste Von Neuman - Cenário 1, Tentativa 222-> N=444000: Falha\n"
          ]
        },
        {
          "output_type": "stream",
          "name": "stderr",
          "text": [
            "N=446000 Gerando 2000 [444000,445999]: 100%|██████████| 2000/2000 [00:00<00:00, 234652.94it/s]\n"
          ]
        },
        {
          "output_type": "stream",
          "name": "stdout",
          "text": [
            "Teste Von Neuman - Cenário 1, Tentativa 223-> N=446000: Falha\n"
          ]
        },
        {
          "output_type": "stream",
          "name": "stderr",
          "text": [
            "N=448000 Gerando 2000 [446000,447999]: 100%|██████████| 2000/2000 [00:00<00:00, 314427.38it/s]\n"
          ]
        },
        {
          "output_type": "stream",
          "name": "stdout",
          "text": [
            "Teste Von Neuman - Cenário 1, Tentativa 224-> N=448000: Falha\n"
          ]
        },
        {
          "output_type": "stream",
          "name": "stderr",
          "text": [
            "N=450000 Gerando 2000 [448000,449999]: 100%|██████████| 2000/2000 [00:00<00:00, 260216.77it/s]\n"
          ]
        },
        {
          "output_type": "stream",
          "name": "stdout",
          "text": [
            "Teste Von Neuman - Cenário 1, Tentativa 225-> N=450000: Falha\n"
          ]
        },
        {
          "output_type": "stream",
          "name": "stderr",
          "text": [
            "N=452000 Gerando 2000 [450000,451999]: 100%|██████████| 2000/2000 [00:00<00:00, 279015.73it/s]\n"
          ]
        },
        {
          "output_type": "stream",
          "name": "stdout",
          "text": [
            "Teste Von Neuman - Cenário 1, Tentativa 226-> N=452000: Falha\n"
          ]
        },
        {
          "output_type": "stream",
          "name": "stderr",
          "text": [
            "N=454000 Gerando 2000 [452000,453999]: 100%|██████████| 2000/2000 [00:00<00:00, 223000.45it/s]\n"
          ]
        },
        {
          "output_type": "stream",
          "name": "stdout",
          "text": [
            "Teste Von Neuman - Cenário 1, Tentativa 227-> N=454000: Falha\n"
          ]
        },
        {
          "output_type": "stream",
          "name": "stderr",
          "text": [
            "N=456000 Gerando 2000 [454000,455999]: 100%|██████████| 2000/2000 [00:00<00:00, 248698.73it/s]\n"
          ]
        },
        {
          "output_type": "stream",
          "name": "stdout",
          "text": [
            "Teste Von Neuman - Cenário 1, Tentativa 228-> N=456000: Falha\n"
          ]
        },
        {
          "output_type": "stream",
          "name": "stderr",
          "text": [
            "N=458000 Gerando 2000 [456000,457999]: 100%|██████████| 2000/2000 [00:00<00:00, 239387.25it/s]\n"
          ]
        },
        {
          "output_type": "stream",
          "name": "stdout",
          "text": [
            "Teste Von Neuman - Cenário 1, Tentativa 229-> N=458000: Falha\n"
          ]
        },
        {
          "output_type": "stream",
          "name": "stderr",
          "text": [
            "N=460000 Gerando 2000 [458000,459999]: 100%|██████████| 2000/2000 [00:00<00:00, 262899.84it/s]\n"
          ]
        },
        {
          "output_type": "stream",
          "name": "stdout",
          "text": [
            "Teste Von Neuman - Cenário 1, Tentativa 230-> N=460000: Falha\n"
          ]
        },
        {
          "output_type": "stream",
          "name": "stderr",
          "text": [
            "N=462000 Gerando 2000 [460000,461999]: 100%|██████████| 2000/2000 [00:00<00:00, 287902.25it/s]\n"
          ]
        },
        {
          "output_type": "stream",
          "name": "stdout",
          "text": [
            "Teste Von Neuman - Cenário 1, Tentativa 231-> N=462000: Falha\n"
          ]
        },
        {
          "output_type": "stream",
          "name": "stderr",
          "text": [
            "N=464000 Gerando 2000 [462000,463999]: 100%|██████████| 2000/2000 [00:00<00:00, 285598.80it/s]\n"
          ]
        },
        {
          "output_type": "stream",
          "name": "stdout",
          "text": [
            "Teste Von Neuman - Cenário 1, Tentativa 232-> N=464000: Falha\n"
          ]
        },
        {
          "output_type": "stream",
          "name": "stderr",
          "text": [
            "N=466000 Gerando 2000 [464000,465999]: 100%|██████████| 2000/2000 [00:00<00:00, 375010.42it/s]\n"
          ]
        },
        {
          "output_type": "stream",
          "name": "stdout",
          "text": [
            "Teste Von Neuman - Cenário 1, Tentativa 233-> N=466000: Falha\n"
          ]
        },
        {
          "output_type": "stream",
          "name": "stderr",
          "text": [
            "N=468000 Gerando 2000 [466000,467999]: 100%|██████████| 2000/2000 [00:00<00:00, 299978.83it/s]\n"
          ]
        },
        {
          "output_type": "stream",
          "name": "stdout",
          "text": [
            "Teste Von Neuman - Cenário 1, Tentativa 234-> N=468000: Falha\n"
          ]
        },
        {
          "output_type": "stream",
          "name": "stderr",
          "text": [
            "N=470000 Gerando 2000 [468000,469999]: 100%|██████████| 2000/2000 [00:00<00:00, 267604.81it/s]\n"
          ]
        },
        {
          "output_type": "stream",
          "name": "stdout",
          "text": [
            "Teste Von Neuman - Cenário 1, Tentativa 235-> N=470000: Falha\n"
          ]
        },
        {
          "output_type": "stream",
          "name": "stderr",
          "text": [
            "N=472000 Gerando 2000 [470000,471999]: 100%|██████████| 2000/2000 [00:00<00:00, 331539.32it/s]\n"
          ]
        },
        {
          "output_type": "stream",
          "name": "stdout",
          "text": [
            "Teste Von Neuman - Cenário 1, Tentativa 236-> N=472000: Falha\n"
          ]
        },
        {
          "output_type": "stream",
          "name": "stderr",
          "text": [
            "N=474000 Gerando 2000 [472000,473999]: 100%|██████████| 2000/2000 [00:00<00:00, 217276.42it/s]\n"
          ]
        },
        {
          "output_type": "stream",
          "name": "stdout",
          "text": [
            "Teste Von Neuman - Cenário 1, Tentativa 237-> N=474000: Falha\n"
          ]
        },
        {
          "output_type": "stream",
          "name": "stderr",
          "text": [
            "N=476000 Gerando 2000 [474000,475999]: 100%|██████████| 2000/2000 [00:00<00:00, 232307.06it/s]\n"
          ]
        },
        {
          "output_type": "stream",
          "name": "stdout",
          "text": [
            "Teste Von Neuman - Cenário 1, Tentativa 238-> N=476000: Falha\n"
          ]
        },
        {
          "output_type": "stream",
          "name": "stderr",
          "text": [
            "N=478000 Gerando 2000 [476000,477999]: 100%|██████████| 2000/2000 [00:00<00:00, 216023.07it/s]\n"
          ]
        },
        {
          "output_type": "stream",
          "name": "stdout",
          "text": [
            "Teste Von Neuman - Cenário 1, Tentativa 239-> N=478000: Falha\n"
          ]
        },
        {
          "output_type": "stream",
          "name": "stderr",
          "text": [
            "N=480000 Gerando 2000 [478000,479999]: 100%|██████████| 2000/2000 [00:00<00:00, 250353.90it/s]\n"
          ]
        },
        {
          "output_type": "stream",
          "name": "stdout",
          "text": [
            "Teste Von Neuman - Cenário 1, Tentativa 240-> N=480000: Falha\n"
          ]
        },
        {
          "output_type": "stream",
          "name": "stderr",
          "text": [
            "N=482000 Gerando 2000 [480000,481999]: 100%|██████████| 2000/2000 [00:00<00:00, 257051.17it/s]\n"
          ]
        },
        {
          "output_type": "stream",
          "name": "stdout",
          "text": [
            "Teste Von Neuman - Cenário 1, Tentativa 241-> N=482000: Falha\n"
          ]
        },
        {
          "output_type": "stream",
          "name": "stderr",
          "text": [
            "N=484000 Gerando 2000 [482000,483999]: 100%|██████████| 2000/2000 [00:00<00:00, 301987.47it/s]\n"
          ]
        },
        {
          "output_type": "stream",
          "name": "stdout",
          "text": [
            "Teste Von Neuman - Cenário 1, Tentativa 242-> N=484000: Falha\n"
          ]
        },
        {
          "output_type": "stream",
          "name": "stderr",
          "text": [
            "N=486000 Gerando 2000 [484000,485999]: 100%|██████████| 2000/2000 [00:00<00:00, 257706.61it/s]\n"
          ]
        },
        {
          "output_type": "stream",
          "name": "stdout",
          "text": [
            "Teste Von Neuman - Cenário 1, Tentativa 243-> N=486000: Falha\n"
          ]
        },
        {
          "output_type": "stream",
          "name": "stderr",
          "text": [
            "N=488000 Gerando 2000 [486000,487999]: 100%|██████████| 2000/2000 [00:00<00:00, 231633.52it/s]\n"
          ]
        },
        {
          "output_type": "stream",
          "name": "stdout",
          "text": [
            "Teste Von Neuman - Cenário 1, Tentativa 244-> N=488000: Falha\n"
          ]
        },
        {
          "output_type": "stream",
          "name": "stderr",
          "text": [
            "N=490000 Gerando 2000 [488000,489999]: 100%|██████████| 2000/2000 [00:00<00:00, 203513.14it/s]\n"
          ]
        },
        {
          "output_type": "stream",
          "name": "stdout",
          "text": [
            "Teste Von Neuman - Cenário 1, Tentativa 245-> N=490000: Falha\n"
          ]
        },
        {
          "output_type": "stream",
          "name": "stderr",
          "text": [
            "N=492000 Gerando 2000 [490000,491999]: 100%|██████████| 2000/2000 [00:00<00:00, 548239.20it/s]\n"
          ]
        },
        {
          "output_type": "stream",
          "name": "stdout",
          "text": [
            "Teste Von Neuman - Cenário 1, Tentativa 246-> N=492000: Falha\n"
          ]
        },
        {
          "output_type": "stream",
          "name": "stderr",
          "text": [
            "N=494000 Gerando 2000 [492000,493999]: 100%|██████████| 2000/2000 [00:00<00:00, 301585.76it/s]\n"
          ]
        },
        {
          "output_type": "stream",
          "name": "stdout",
          "text": [
            "Teste Von Neuman - Cenário 1, Tentativa 247-> N=494000: Falha\n"
          ]
        },
        {
          "output_type": "stream",
          "name": "stderr",
          "text": [
            "N=496000 Gerando 2000 [494000,495999]: 100%|██████████| 2000/2000 [00:00<00:00, 260815.47it/s]\n"
          ]
        },
        {
          "output_type": "stream",
          "name": "stdout",
          "text": [
            "Teste Von Neuman - Cenário 1, Tentativa 248-> N=496000: Falha\n"
          ]
        },
        {
          "output_type": "stream",
          "name": "stderr",
          "text": [
            "N=498000 Gerando 2000 [496000,497999]: 100%|██████████| 2000/2000 [00:00<00:00, 205321.32it/s]\n"
          ]
        },
        {
          "output_type": "stream",
          "name": "stdout",
          "text": [
            "Teste Von Neuman - Cenário 1, Tentativa 249-> N=498000: Falha\n"
          ]
        },
        {
          "output_type": "stream",
          "name": "stderr",
          "text": [
            "N=500000 Gerando 2000 [498000,499999]: 100%|██████████| 2000/2000 [00:00<00:00, 286907.72it/s]\n"
          ]
        },
        {
          "output_type": "stream",
          "name": "stdout",
          "text": [
            "Teste Von Neuman - Cenário 1, Tentativa 250-> N=500000: Falha\n"
          ]
        },
        {
          "output_type": "stream",
          "name": "stderr",
          "text": [
            "N=502000 Gerando 2000 [500000,501999]: 100%|██████████| 2000/2000 [00:00<00:00, 293307.97it/s]\n"
          ]
        },
        {
          "output_type": "stream",
          "name": "stdout",
          "text": [
            "Teste Von Neuman - Cenário 1, Tentativa 251-> N=502000: Falha\n"
          ]
        },
        {
          "output_type": "stream",
          "name": "stderr",
          "text": [
            "N=504000 Gerando 2000 [502000,503999]: 100%|██████████| 2000/2000 [00:00<00:00, 343331.07it/s]\n"
          ]
        },
        {
          "output_type": "stream",
          "name": "stdout",
          "text": [
            "Teste Von Neuman - Cenário 1, Tentativa 252-> N=504000: Falha\n"
          ]
        },
        {
          "output_type": "stream",
          "name": "stderr",
          "text": [
            "N=506000 Gerando 2000 [504000,505999]: 100%|██████████| 2000/2000 [00:00<00:00, 285589.08it/s]\n"
          ]
        },
        {
          "output_type": "stream",
          "name": "stdout",
          "text": [
            "Teste Von Neuman - Cenário 1, Tentativa 253-> N=506000: Falha\n"
          ]
        },
        {
          "output_type": "stream",
          "name": "stderr",
          "text": [
            "N=508000 Gerando 2000 [506000,507999]: 100%|██████████| 2000/2000 [00:00<00:00, 279210.76it/s]\n"
          ]
        },
        {
          "output_type": "stream",
          "name": "stdout",
          "text": [
            "Teste Von Neuman - Cenário 1, Tentativa 254-> N=508000: Falha\n"
          ]
        },
        {
          "output_type": "stream",
          "name": "stderr",
          "text": [
            "N=510000 Gerando 2000 [508000,509999]: 100%|██████████| 2000/2000 [00:00<00:00, 258731.97it/s]\n"
          ]
        },
        {
          "output_type": "stream",
          "name": "stdout",
          "text": [
            "Teste Von Neuman - Cenário 1, Tentativa 255-> N=510000: Falha\n"
          ]
        },
        {
          "output_type": "stream",
          "name": "stderr",
          "text": [
            "N=512000 Gerando 2000 [510000,511999]: 100%|██████████| 2000/2000 [00:00<00:00, 258421.12it/s]\n"
          ]
        },
        {
          "output_type": "stream",
          "name": "stdout",
          "text": [
            "Teste Von Neuman - Cenário 1, Tentativa 256-> N=512000: Falha\n"
          ]
        },
        {
          "output_type": "stream",
          "name": "stderr",
          "text": [
            "N=514000 Gerando 2000 [512000,513999]: 100%|██████████| 2000/2000 [00:00<00:00, 450346.70it/s]\n"
          ]
        },
        {
          "output_type": "stream",
          "name": "stdout",
          "text": [
            "Teste Von Neuman - Cenário 1, Tentativa 257-> N=514000: Falha\n"
          ]
        },
        {
          "output_type": "stream",
          "name": "stderr",
          "text": [
            "N=516000 Gerando 2000 [514000,515999]: 100%|██████████| 2000/2000 [00:00<00:00, 297468.37it/s]\n"
          ]
        },
        {
          "output_type": "stream",
          "name": "stdout",
          "text": [
            "Teste Von Neuman - Cenário 1, Tentativa 258-> N=516000: Falha\n"
          ]
        },
        {
          "output_type": "stream",
          "name": "stderr",
          "text": [
            "N=518000 Gerando 2000 [516000,517999]: 100%|██████████| 2000/2000 [00:00<00:00, 309931.57it/s]\n"
          ]
        },
        {
          "output_type": "stream",
          "name": "stdout",
          "text": [
            "Teste Von Neuman - Cenário 1, Tentativa 259-> N=518000: Falha\n"
          ]
        },
        {
          "output_type": "stream",
          "name": "stderr",
          "text": [
            "N=520000 Gerando 2000 [518000,519999]: 100%|██████████| 2000/2000 [00:00<00:00, 188868.81it/s]\n"
          ]
        },
        {
          "output_type": "stream",
          "name": "stdout",
          "text": [
            "Teste Von Neuman - Cenário 1, Tentativa 260-> N=520000: Falha\n"
          ]
        },
        {
          "output_type": "stream",
          "name": "stderr",
          "text": [
            "N=522000 Gerando 2000 [520000,521999]: 100%|██████████| 2000/2000 [00:00<00:00, 407570.11it/s]\n"
          ]
        },
        {
          "output_type": "stream",
          "name": "stdout",
          "text": [
            "Teste Von Neuman - Cenário 1, Tentativa 261-> N=522000: Falha\n"
          ]
        },
        {
          "output_type": "stream",
          "name": "stderr",
          "text": [
            "N=524000 Gerando 2000 [522000,523999]: 100%|██████████| 2000/2000 [00:00<00:00, 378171.85it/s]\n"
          ]
        },
        {
          "output_type": "stream",
          "name": "stdout",
          "text": [
            "Teste Von Neuman - Cenário 1, Tentativa 262-> N=524000: Falha\n"
          ]
        },
        {
          "output_type": "stream",
          "name": "stderr",
          "text": [
            "N=526000 Gerando 2000 [524000,525999]: 100%|██████████| 2000/2000 [00:00<00:00, 246999.82it/s]\n"
          ]
        },
        {
          "output_type": "stream",
          "name": "stdout",
          "text": [
            "Teste Von Neuman - Cenário 1, Tentativa 263-> N=526000: Falha\n"
          ]
        },
        {
          "output_type": "stream",
          "name": "stderr",
          "text": [
            "N=528000 Gerando 2000 [526000,527999]: 100%|██████████| 2000/2000 [00:00<00:00, 252729.81it/s]\n"
          ]
        },
        {
          "output_type": "stream",
          "name": "stdout",
          "text": [
            "Teste Von Neuman - Cenário 1, Tentativa 264-> N=528000: Falha\n"
          ]
        },
        {
          "output_type": "stream",
          "name": "stderr",
          "text": [
            "N=530000 Gerando 2000 [528000,529999]: 100%|██████████| 2000/2000 [00:00<00:00, 449718.97it/s]\n"
          ]
        },
        {
          "output_type": "stream",
          "name": "stdout",
          "text": [
            "Teste Von Neuman - Cenário 1, Tentativa 265-> N=530000: Falha\n"
          ]
        },
        {
          "output_type": "stream",
          "name": "stderr",
          "text": [
            "N=532000 Gerando 2000 [530000,531999]: 100%|██████████| 2000/2000 [00:00<00:00, 270242.84it/s]\n"
          ]
        },
        {
          "output_type": "stream",
          "name": "stdout",
          "text": [
            "Teste Von Neuman - Cenário 1, Tentativa 266-> N=532000: Falha\n"
          ]
        },
        {
          "output_type": "stream",
          "name": "stderr",
          "text": [
            "N=534000 Gerando 2000 [532000,533999]: 100%|██████████| 2000/2000 [00:00<00:00, 288208.89it/s]\n"
          ]
        },
        {
          "output_type": "stream",
          "name": "stdout",
          "text": [
            "Teste Von Neuman - Cenário 1, Tentativa 267-> N=534000: Falha\n"
          ]
        },
        {
          "output_type": "stream",
          "name": "stderr",
          "text": [
            "N=536000 Gerando 2000 [534000,535999]: 100%|██████████| 2000/2000 [00:00<00:00, 223941.06it/s]\n"
          ]
        },
        {
          "output_type": "stream",
          "name": "stdout",
          "text": [
            "Teste Von Neuman - Cenário 1, Tentativa 268-> N=536000: Falha\n"
          ]
        },
        {
          "output_type": "stream",
          "name": "stderr",
          "text": [
            "N=538000 Gerando 2000 [536000,537999]: 100%|██████████| 2000/2000 [00:00<00:00, 214366.96it/s]\n"
          ]
        },
        {
          "output_type": "stream",
          "name": "stdout",
          "text": [
            "Teste Von Neuman - Cenário 1, Tentativa 269-> N=538000: Falha\n"
          ]
        },
        {
          "output_type": "stream",
          "name": "stderr",
          "text": [
            "N=540000 Gerando 2000 [538000,539999]: 100%|██████████| 2000/2000 [00:00<00:00, 281326.98it/s]\n"
          ]
        },
        {
          "output_type": "stream",
          "name": "stdout",
          "text": [
            "Teste Von Neuman - Cenário 1, Tentativa 270-> N=540000: Falha\n"
          ]
        },
        {
          "output_type": "stream",
          "name": "stderr",
          "text": [
            "N=542000 Gerando 2000 [540000,541999]: 100%|██████████| 2000/2000 [00:00<00:00, 284571.82it/s]\n"
          ]
        },
        {
          "output_type": "stream",
          "name": "stdout",
          "text": [
            "Teste Von Neuman - Cenário 1, Tentativa 271-> N=542000: Falha\n"
          ]
        },
        {
          "output_type": "stream",
          "name": "stderr",
          "text": [
            "N=544000 Gerando 2000 [542000,543999]: 100%|██████████| 2000/2000 [00:00<00:00, 293062.05it/s]\n"
          ]
        },
        {
          "output_type": "stream",
          "name": "stdout",
          "text": [
            "Teste Von Neuman - Cenário 1, Tentativa 272-> N=544000: Falha\n"
          ]
        },
        {
          "output_type": "stream",
          "name": "stderr",
          "text": [
            "N=546000 Gerando 2000 [544000,545999]: 100%|██████████| 2000/2000 [00:00<00:00, 258468.90it/s]\n"
          ]
        },
        {
          "output_type": "stream",
          "name": "stdout",
          "text": [
            "Teste Von Neuman - Cenário 1, Tentativa 273-> N=546000: Falha\n"
          ]
        },
        {
          "output_type": "stream",
          "name": "stderr",
          "text": [
            "N=548000 Gerando 2000 [546000,547999]: 100%|██████████| 2000/2000 [00:00<00:00, 241190.57it/s]\n"
          ]
        },
        {
          "output_type": "stream",
          "name": "stdout",
          "text": [
            "Teste Von Neuman - Cenário 1, Tentativa 274-> N=548000: Falha\n"
          ]
        },
        {
          "output_type": "stream",
          "name": "stderr",
          "text": [
            "N=550000 Gerando 2000 [548000,549999]: 100%|██████████| 2000/2000 [00:00<00:00, 280771.43it/s]\n"
          ]
        },
        {
          "output_type": "stream",
          "name": "stdout",
          "text": [
            "Teste Von Neuman - Cenário 1, Tentativa 275-> N=550000: Falha\n"
          ]
        },
        {
          "output_type": "stream",
          "name": "stderr",
          "text": [
            "N=552000 Gerando 2000 [550000,551999]: 100%|██████████| 2000/2000 [00:00<00:00, 284446.37it/s]\n"
          ]
        },
        {
          "output_type": "stream",
          "name": "stdout",
          "text": [
            "Teste Von Neuman - Cenário 1, Tentativa 276-> N=552000: Falha\n"
          ]
        },
        {
          "output_type": "stream",
          "name": "stderr",
          "text": [
            "N=554000 Gerando 2000 [552000,553999]: 100%|██████████| 2000/2000 [00:00<00:00, 277135.29it/s]\n"
          ]
        },
        {
          "output_type": "stream",
          "name": "stdout",
          "text": [
            "Teste Von Neuman - Cenário 1, Tentativa 277-> N=554000: Falha\n"
          ]
        },
        {
          "output_type": "stream",
          "name": "stderr",
          "text": [
            "N=556000 Gerando 2000 [554000,555999]: 100%|██████████| 2000/2000 [00:00<00:00, 277126.13it/s]\n"
          ]
        },
        {
          "output_type": "stream",
          "name": "stdout",
          "text": [
            "Teste Von Neuman - Cenário 1, Tentativa 278-> N=556000: Falha\n"
          ]
        },
        {
          "output_type": "stream",
          "name": "stderr",
          "text": [
            "N=558000 Gerando 2000 [556000,557999]: 100%|██████████| 2000/2000 [00:00<00:00, 293544.04it/s]\n"
          ]
        },
        {
          "output_type": "stream",
          "name": "stdout",
          "text": [
            "Teste Von Neuman - Cenário 1, Tentativa 279-> N=558000: Falha\n"
          ]
        },
        {
          "output_type": "stream",
          "name": "stderr",
          "text": [
            "N=560000 Gerando 2000 [558000,559999]: 100%|██████████| 2000/2000 [00:00<00:00, 322949.30it/s]\n"
          ]
        },
        {
          "output_type": "stream",
          "name": "stdout",
          "text": [
            "Teste Von Neuman - Cenário 1, Tentativa 280-> N=560000: Falha\n"
          ]
        },
        {
          "output_type": "stream",
          "name": "stderr",
          "text": [
            "N=562000 Gerando 2000 [560000,561999]: 100%|██████████| 2000/2000 [00:00<00:00, 189611.63it/s]\n"
          ]
        },
        {
          "output_type": "stream",
          "name": "stdout",
          "text": [
            "Teste Von Neuman - Cenário 1, Tentativa 281-> N=562000: Falha\n"
          ]
        },
        {
          "output_type": "stream",
          "name": "stderr",
          "text": [
            "N=564000 Gerando 2000 [562000,563999]: 100%|██████████| 2000/2000 [00:00<00:00, 223083.48it/s]\n"
          ]
        },
        {
          "output_type": "stream",
          "name": "stdout",
          "text": [
            "Teste Von Neuman - Cenário 1, Tentativa 282-> N=564000: Falha\n"
          ]
        },
        {
          "output_type": "stream",
          "name": "stderr",
          "text": [
            "N=566000 Gerando 2000 [564000,565999]: 100%|██████████| 2000/2000 [00:00<00:00, 544891.72it/s]\n"
          ]
        },
        {
          "output_type": "stream",
          "name": "stdout",
          "text": [
            "Teste Von Neuman - Cenário 1, Tentativa 283-> N=566000: Falha\n"
          ]
        },
        {
          "output_type": "stream",
          "name": "stderr",
          "text": [
            "N=568000 Gerando 2000 [566000,567999]: 100%|██████████| 2000/2000 [00:00<00:00, 292714.36it/s]\n"
          ]
        },
        {
          "output_type": "stream",
          "name": "stdout",
          "text": [
            "Teste Von Neuman - Cenário 1, Tentativa 284-> N=568000: Falha\n"
          ]
        },
        {
          "output_type": "stream",
          "name": "stderr",
          "text": [
            "N=570000 Gerando 2000 [568000,569999]: 100%|██████████| 2000/2000 [00:00<00:00, 387357.22it/s]\n"
          ]
        },
        {
          "output_type": "stream",
          "name": "stdout",
          "text": [
            "Teste Von Neuman - Cenário 1, Tentativa 285-> N=570000: Falha\n"
          ]
        },
        {
          "output_type": "stream",
          "name": "stderr",
          "text": [
            "N=572000 Gerando 2000 [570000,571999]: 100%|██████████| 2000/2000 [00:00<00:00, 280715.06it/s]\n"
          ]
        },
        {
          "output_type": "stream",
          "name": "stdout",
          "text": [
            "Teste Von Neuman - Cenário 1, Tentativa 286-> N=572000: Falha\n"
          ]
        },
        {
          "output_type": "stream",
          "name": "stderr",
          "text": [
            "N=574000 Gerando 2000 [572000,573999]: 100%|██████████| 2000/2000 [00:00<00:00, 283907.27it/s]\n"
          ]
        },
        {
          "output_type": "stream",
          "name": "stdout",
          "text": [
            "Teste Von Neuman - Cenário 1, Tentativa 287-> N=574000: Falha\n"
          ]
        },
        {
          "output_type": "stream",
          "name": "stderr",
          "text": [
            "N=576000 Gerando 2000 [574000,575999]: 100%|██████████| 2000/2000 [00:00<00:00, 177996.27it/s]\n"
          ]
        },
        {
          "output_type": "stream",
          "name": "stdout",
          "text": [
            "Teste Von Neuman - Cenário 1, Tentativa 288-> N=576000: Falha\n"
          ]
        },
        {
          "output_type": "stream",
          "name": "stderr",
          "text": [
            "N=578000 Gerando 2000 [576000,577999]: 100%|██████████| 2000/2000 [00:00<00:00, 226260.50it/s]\n"
          ]
        },
        {
          "output_type": "stream",
          "name": "stdout",
          "text": [
            "Teste Von Neuman - Cenário 1, Tentativa 289-> N=578000: Falha\n"
          ]
        },
        {
          "output_type": "stream",
          "name": "stderr",
          "text": [
            "N=580000 Gerando 2000 [578000,579999]: 100%|██████████| 2000/2000 [00:00<00:00, 418175.87it/s]\n"
          ]
        },
        {
          "output_type": "stream",
          "name": "stdout",
          "text": [
            "Teste Von Neuman - Cenário 1, Tentativa 290-> N=580000: Falha\n"
          ]
        },
        {
          "output_type": "stream",
          "name": "stderr",
          "text": [
            "N=582000 Gerando 2000 [580000,581999]: 100%|██████████| 2000/2000 [00:00<00:00, 255734.65it/s]\n"
          ]
        },
        {
          "output_type": "stream",
          "name": "stdout",
          "text": [
            "Teste Von Neuman - Cenário 1, Tentativa 291-> N=582000: Falha\n"
          ]
        },
        {
          "output_type": "stream",
          "name": "stderr",
          "text": [
            "N=584000 Gerando 2000 [582000,583999]: 100%|██████████| 2000/2000 [00:00<00:00, 296312.54it/s]\n"
          ]
        },
        {
          "output_type": "stream",
          "name": "stdout",
          "text": [
            "Teste Von Neuman - Cenário 1, Tentativa 292-> N=584000: Falha\n"
          ]
        },
        {
          "output_type": "stream",
          "name": "stderr",
          "text": [
            "N=586000 Gerando 2000 [584000,585999]: 100%|██████████| 2000/2000 [00:00<00:00, 264691.66it/s]\n"
          ]
        },
        {
          "output_type": "stream",
          "name": "stdout",
          "text": [
            "Teste Von Neuman - Cenário 1, Tentativa 293-> N=586000: Falha\n"
          ]
        },
        {
          "output_type": "stream",
          "name": "stderr",
          "text": [
            "N=588000 Gerando 2000 [586000,587999]: 100%|██████████| 2000/2000 [00:00<00:00, 267707.29it/s]\n"
          ]
        },
        {
          "output_type": "stream",
          "name": "stdout",
          "text": [
            "Teste Von Neuman - Cenário 1, Tentativa 294-> N=588000: Falha\n"
          ]
        },
        {
          "output_type": "stream",
          "name": "stderr",
          "text": [
            "N=590000 Gerando 2000 [588000,589999]: 100%|██████████| 2000/2000 [00:00<00:00, 243776.93it/s]\n"
          ]
        },
        {
          "output_type": "stream",
          "name": "stdout",
          "text": [
            "Teste Von Neuman - Cenário 1, Tentativa 295-> N=590000: Falha\n"
          ]
        },
        {
          "output_type": "stream",
          "name": "stderr",
          "text": [
            "N=592000 Gerando 2000 [590000,591999]: 100%|██████████| 2000/2000 [00:00<00:00, 372976.21it/s]\n"
          ]
        },
        {
          "output_type": "stream",
          "name": "stdout",
          "text": [
            "Teste Von Neuman - Cenário 1, Tentativa 296-> N=592000: Falha\n"
          ]
        },
        {
          "output_type": "stream",
          "name": "stderr",
          "text": [
            "N=594000 Gerando 2000 [592000,593999]: 100%|██████████| 2000/2000 [00:00<00:00, 283121.54it/s]\n"
          ]
        },
        {
          "output_type": "stream",
          "name": "stdout",
          "text": [
            "Teste Von Neuman - Cenário 1, Tentativa 297-> N=594000: Falha\n"
          ]
        },
        {
          "output_type": "stream",
          "name": "stderr",
          "text": [
            "N=596000 Gerando 2000 [594000,595999]: 100%|██████████| 2000/2000 [00:00<00:00, 380142.66it/s]\n"
          ]
        },
        {
          "output_type": "stream",
          "name": "stdout",
          "text": [
            "Teste Von Neuman - Cenário 1, Tentativa 298-> N=596000: Falha\n"
          ]
        },
        {
          "output_type": "stream",
          "name": "stderr",
          "text": [
            "N=598000 Gerando 2000 [596000,597999]: 100%|██████████| 2000/2000 [00:00<00:00, 449670.76it/s]\n"
          ]
        },
        {
          "output_type": "stream",
          "name": "stdout",
          "text": [
            "Teste Von Neuman - Cenário 1, Tentativa 299-> N=598000: Falha\n"
          ]
        },
        {
          "output_type": "stream",
          "name": "stderr",
          "text": [
            "N=600000 Gerando 2000 [598000,599999]: 100%|██████████| 2000/2000 [00:00<00:00, 170323.61it/s]\n"
          ]
        },
        {
          "output_type": "stream",
          "name": "stdout",
          "text": [
            "Teste Von Neuman - Cenário 1, Tentativa 300-> N=600000: Falha\n"
          ]
        },
        {
          "output_type": "stream",
          "name": "stderr",
          "text": [
            "N=602000 Gerando 2000 [600000,601999]: 100%|██████████| 2000/2000 [00:00<00:00, 238177.40it/s]\n"
          ]
        },
        {
          "output_type": "stream",
          "name": "stdout",
          "text": [
            "Teste Von Neuman - Cenário 1, Tentativa 301-> N=602000: Falha\n"
          ]
        },
        {
          "output_type": "stream",
          "name": "stderr",
          "text": [
            "N=604000 Gerando 2000 [602000,603999]: 100%|██████████| 2000/2000 [00:00<00:00, 461724.35it/s]\n"
          ]
        },
        {
          "output_type": "stream",
          "name": "stdout",
          "text": [
            "Teste Von Neuman - Cenário 1, Tentativa 302-> N=604000: Falha\n"
          ]
        },
        {
          "output_type": "stream",
          "name": "stderr",
          "text": [
            "N=606000 Gerando 2000 [604000,605999]: 100%|██████████| 2000/2000 [00:00<00:00, 268469.82it/s]\n"
          ]
        },
        {
          "output_type": "stream",
          "name": "stdout",
          "text": [
            "Teste Von Neuman - Cenário 1, Tentativa 303-> N=606000: Falha\n"
          ]
        },
        {
          "output_type": "stream",
          "name": "stderr",
          "text": [
            "N=608000 Gerando 2000 [606000,607999]: 100%|██████████| 2000/2000 [00:00<00:00, 292459.23it/s]\n"
          ]
        },
        {
          "output_type": "stream",
          "name": "stdout",
          "text": [
            "Teste Von Neuman - Cenário 1, Tentativa 304-> N=608000: Falha\n"
          ]
        },
        {
          "output_type": "stream",
          "name": "stderr",
          "text": [
            "N=610000 Gerando 2000 [608000,609999]: 100%|██████████| 2000/2000 [00:00<00:00, 290373.78it/s]\n"
          ]
        },
        {
          "output_type": "stream",
          "name": "stdout",
          "text": [
            "Teste Von Neuman - Cenário 1, Tentativa 305-> N=610000: Falha\n"
          ]
        },
        {
          "output_type": "stream",
          "name": "stderr",
          "text": [
            "N=612000 Gerando 2000 [610000,611999]: 100%|██████████| 2000/2000 [00:00<00:00, 284571.82it/s]\n"
          ]
        },
        {
          "output_type": "stream",
          "name": "stdout",
          "text": [
            "Teste Von Neuman - Cenário 1, Tentativa 306-> N=612000: Falha\n"
          ]
        },
        {
          "output_type": "stream",
          "name": "stderr",
          "text": [
            "N=614000 Gerando 2000 [612000,613999]: 100%|██████████| 2000/2000 [00:00<00:00, 291655.93it/s]\n"
          ]
        },
        {
          "output_type": "stream",
          "name": "stdout",
          "text": [
            "Teste Von Neuman - Cenário 1, Tentativa 307-> N=614000: Falha\n"
          ]
        },
        {
          "output_type": "stream",
          "name": "stderr",
          "text": [
            "N=616000 Gerando 2000 [614000,615999]: 100%|██████████| 2000/2000 [00:00<00:00, 270364.78it/s]\n"
          ]
        },
        {
          "output_type": "stream",
          "name": "stdout",
          "text": [
            "Teste Von Neuman - Cenário 1, Tentativa 308-> N=616000: Falha\n"
          ]
        },
        {
          "output_type": "stream",
          "name": "stderr",
          "text": [
            "N=618000 Gerando 2000 [616000,617999]: 100%|██████████| 2000/2000 [00:00<00:00, 285851.84it/s]\n"
          ]
        },
        {
          "output_type": "stream",
          "name": "stdout",
          "text": [
            "Teste Von Neuman - Cenário 1, Tentativa 309-> N=618000: Falha\n"
          ]
        },
        {
          "output_type": "stream",
          "name": "stderr",
          "text": [
            "N=620000 Gerando 2000 [618000,619999]: 100%|██████████| 2000/2000 [00:00<00:00, 348682.68it/s]\n"
          ]
        },
        {
          "output_type": "stream",
          "name": "stdout",
          "text": [
            "Teste Von Neuman - Cenário 1, Tentativa 310-> N=620000: Falha\n"
          ]
        },
        {
          "output_type": "stream",
          "name": "stderr",
          "text": [
            "N=622000 Gerando 2000 [620000,621999]: 100%|██████████| 2000/2000 [00:00<00:00, 270731.26it/s]\n"
          ]
        },
        {
          "output_type": "stream",
          "name": "stdout",
          "text": [
            "Teste Von Neuman - Cenário 1, Tentativa 311-> N=622000: Falha\n"
          ]
        },
        {
          "output_type": "stream",
          "name": "stderr",
          "text": [
            "N=624000 Gerando 2000 [622000,623999]: 100%|██████████| 2000/2000 [00:00<00:00, 245345.50it/s]\n"
          ]
        },
        {
          "output_type": "stream",
          "name": "stdout",
          "text": [
            "Teste Von Neuman - Cenário 1, Tentativa 312-> N=624000: Falha\n"
          ]
        },
        {
          "output_type": "stream",
          "name": "stderr",
          "text": [
            "N=626000 Gerando 2000 [624000,625999]: 100%|██████████| 2000/2000 [00:00<00:00, 338810.45it/s]\n"
          ]
        },
        {
          "output_type": "stream",
          "name": "stdout",
          "text": [
            "Teste Von Neuman - Cenário 1, Tentativa 313-> N=626000: Falha\n"
          ]
        },
        {
          "output_type": "stream",
          "name": "stderr",
          "text": [
            "N=628000 Gerando 2000 [626000,627999]: 100%|██████████| 2000/2000 [00:00<00:00, 271731.01it/s]\n"
          ]
        },
        {
          "output_type": "stream",
          "name": "stdout",
          "text": [
            "Teste Von Neuman - Cenário 1, Tentativa 314-> N=628000: Falha\n"
          ]
        },
        {
          "output_type": "stream",
          "name": "stderr",
          "text": [
            "N=630000 Gerando 2000 [628000,629999]: 100%|██████████| 2000/2000 [00:00<00:00, 266262.75it/s]\n"
          ]
        },
        {
          "output_type": "stream",
          "name": "stdout",
          "text": [
            "Teste Von Neuman - Cenário 1, Tentativa 315-> N=630000: Falha\n"
          ]
        },
        {
          "output_type": "stream",
          "name": "stderr",
          "text": [
            "N=632000 Gerando 2000 [630000,631999]: 100%|██████████| 2000/2000 [00:00<00:00, 291767.52it/s]\n"
          ]
        },
        {
          "output_type": "stream",
          "name": "stdout",
          "text": [
            "Teste Von Neuman - Cenário 1, Tentativa 316-> N=632000: Falha\n"
          ]
        },
        {
          "output_type": "stream",
          "name": "stderr",
          "text": [
            "N=634000 Gerando 2000 [632000,633999]: 100%|██████████| 2000/2000 [00:00<00:00, 272322.04it/s]\n"
          ]
        },
        {
          "output_type": "stream",
          "name": "stdout",
          "text": [
            "Teste Von Neuman - Cenário 1, Tentativa 317-> N=634000: Falha\n"
          ]
        },
        {
          "output_type": "stream",
          "name": "stderr",
          "text": [
            "N=636000 Gerando 2000 [634000,635999]: 100%|██████████| 2000/2000 [00:00<00:00, 195698.31it/s]\n"
          ]
        },
        {
          "output_type": "stream",
          "name": "stdout",
          "text": [
            "Teste Von Neuman - Cenário 1, Tentativa 318-> N=636000: Falha\n"
          ]
        },
        {
          "output_type": "stream",
          "name": "stderr",
          "text": [
            "N=638000 Gerando 2000 [636000,637999]: 100%|██████████| 2000/2000 [00:00<00:00, 205976.72it/s]\n"
          ]
        },
        {
          "output_type": "stream",
          "name": "stdout",
          "text": [
            "Teste Von Neuman - Cenário 1, Tentativa 319-> N=638000: Falha\n"
          ]
        },
        {
          "output_type": "stream",
          "name": "stderr",
          "text": [
            "N=640000 Gerando 2000 [638000,639999]: 100%|██████████| 2000/2000 [00:00<00:00, 263734.65it/s]\n"
          ]
        },
        {
          "output_type": "stream",
          "name": "stdout",
          "text": [
            "Teste Von Neuman - Cenário 1, Tentativa 320-> N=640000: Falha\n"
          ]
        },
        {
          "output_type": "stream",
          "name": "stderr",
          "text": [
            "N=642000 Gerando 2000 [640000,641999]: 100%|██████████| 2000/2000 [00:00<00:00, 285627.98it/s]\n"
          ]
        },
        {
          "output_type": "stream",
          "name": "stdout",
          "text": [
            "Teste Von Neuman - Cenário 1, Tentativa 321-> N=642000: Falha\n"
          ]
        },
        {
          "output_type": "stream",
          "name": "stderr",
          "text": [
            "N=644000 Gerando 2000 [642000,643999]: 100%|██████████| 2000/2000 [00:00<00:00, 266093.83it/s]\n"
          ]
        },
        {
          "output_type": "stream",
          "name": "stdout",
          "text": [
            "Teste Von Neuman - Cenário 1, Tentativa 322-> N=644000: Falha\n"
          ]
        },
        {
          "output_type": "stream",
          "name": "stderr",
          "text": [
            "N=646000 Gerando 2000 [644000,645999]: 100%|██████████| 2000/2000 [00:00<00:00, 295207.21it/s]\n"
          ]
        },
        {
          "output_type": "stream",
          "name": "stdout",
          "text": [
            "Teste Von Neuman - Cenário 1, Tentativa 323-> N=646000: Falha\n"
          ]
        },
        {
          "output_type": "stream",
          "name": "stderr",
          "text": [
            "N=648000 Gerando 2000 [646000,647999]: 100%|██████████| 2000/2000 [00:00<00:00, 293184.96it/s]\n"
          ]
        },
        {
          "output_type": "stream",
          "name": "stdout",
          "text": [
            "Teste Von Neuman - Cenário 1, Tentativa 324-> N=648000: Falha\n"
          ]
        },
        {
          "output_type": "stream",
          "name": "stderr",
          "text": [
            "N=650000 Gerando 2000 [648000,649999]: 100%|██████████| 2000/2000 [00:00<00:00, 200770.86it/s]\n"
          ]
        },
        {
          "output_type": "stream",
          "name": "stdout",
          "text": [
            "Teste Von Neuman - Cenário 1, Tentativa 325-> N=650000: Falha\n"
          ]
        },
        {
          "output_type": "stream",
          "name": "stderr",
          "text": [
            "N=652000 Gerando 2000 [650000,651999]: 100%|██████████| 2000/2000 [00:00<00:00, 195179.23it/s]\n"
          ]
        },
        {
          "output_type": "stream",
          "name": "stdout",
          "text": [
            "Teste Von Neuman - Cenário 1, Tentativa 326-> N=652000: Falha\n"
          ]
        },
        {
          "output_type": "stream",
          "name": "stderr",
          "text": [
            "N=654000 Gerando 2000 [652000,653999]: 100%|██████████| 2000/2000 [00:00<00:00, 195611.60it/s]\n"
          ]
        },
        {
          "output_type": "stream",
          "name": "stdout",
          "text": [
            "Teste Von Neuman - Cenário 1, Tentativa 327-> N=654000: Falha\n"
          ]
        },
        {
          "output_type": "stream",
          "name": "stderr",
          "text": [
            "N=656000 Gerando 2000 [654000,655999]: 100%|██████████| 2000/2000 [00:00<00:00, 187572.29it/s]\n"
          ]
        },
        {
          "output_type": "stream",
          "name": "stdout",
          "text": [
            "Teste Von Neuman - Cenário 1, Tentativa 328-> N=656000: Falha\n"
          ]
        },
        {
          "output_type": "stream",
          "name": "stderr",
          "text": [
            "N=658000 Gerando 2000 [656000,657999]: 100%|██████████| 2000/2000 [00:00<00:00, 125887.03it/s]\n"
          ]
        },
        {
          "output_type": "stream",
          "name": "stdout",
          "text": [
            "Teste Von Neuman - Cenário 1, Tentativa 329-> N=658000: Falha\n"
          ]
        },
        {
          "output_type": "stream",
          "name": "stderr",
          "text": [
            "N=660000 Gerando 2000 [658000,659999]: 100%|██████████| 2000/2000 [00:00<00:00, 233933.13it/s]\n"
          ]
        },
        {
          "output_type": "stream",
          "name": "stdout",
          "text": [
            "Teste Von Neuman - Cenário 1, Tentativa 330-> N=660000: Falha\n"
          ]
        },
        {
          "output_type": "stream",
          "name": "stderr",
          "text": [
            "N=662000 Gerando 2000 [660000,661999]: 100%|██████████| 2000/2000 [00:00<00:00, 257500.94it/s]\n"
          ]
        },
        {
          "output_type": "stream",
          "name": "stdout",
          "text": [
            "Teste Von Neuman - Cenário 1, Tentativa 331-> N=662000: Falha\n"
          ]
        },
        {
          "output_type": "stream",
          "name": "stderr",
          "text": [
            "N=664000 Gerando 2000 [662000,663999]: 100%|██████████| 2000/2000 [00:00<00:00, 196647.94it/s]\n"
          ]
        },
        {
          "output_type": "stream",
          "name": "stdout",
          "text": [
            "Teste Von Neuman - Cenário 1, Tentativa 332-> N=664000: Falha\n"
          ]
        },
        {
          "output_type": "stream",
          "name": "stderr",
          "text": [
            "N=666000 Gerando 2000 [664000,665999]: 100%|██████████| 2000/2000 [00:00<00:00, 276432.08it/s]\n"
          ]
        },
        {
          "output_type": "stream",
          "name": "stdout",
          "text": [
            "Teste Von Neuman - Cenário 1, Tentativa 333-> N=666000: Falha\n"
          ]
        },
        {
          "output_type": "stream",
          "name": "stderr",
          "text": [
            "N=668000 Gerando 2000 [666000,667999]: 100%|██████████| 2000/2000 [00:00<00:00, 269444.26it/s]\n"
          ]
        },
        {
          "output_type": "stream",
          "name": "stdout",
          "text": [
            "Teste Von Neuman - Cenário 1, Tentativa 334-> N=668000: Falha\n"
          ]
        },
        {
          "output_type": "stream",
          "name": "stderr",
          "text": [
            "N=670000 Gerando 2000 [668000,669999]: 100%|██████████| 2000/2000 [00:00<00:00, 153104.73it/s]\n"
          ]
        },
        {
          "output_type": "stream",
          "name": "stdout",
          "text": [
            "Teste Von Neuman - Cenário 1, Tentativa 335-> N=670000: Falha\n"
          ]
        },
        {
          "output_type": "stream",
          "name": "stderr",
          "text": [
            "N=672000 Gerando 2000 [670000,671999]: 100%|██████████| 2000/2000 [00:00<00:00, 132416.86it/s]\n"
          ]
        },
        {
          "output_type": "stream",
          "name": "stdout",
          "text": [
            "Teste Von Neuman - Cenário 1, Tentativa 336-> N=672000: Falha\n"
          ]
        },
        {
          "output_type": "stream",
          "name": "stderr",
          "text": [
            "N=674000 Gerando 2000 [672000,673999]: 100%|██████████| 2000/2000 [00:00<00:00, 279872.15it/s]\n"
          ]
        },
        {
          "output_type": "stream",
          "name": "stdout",
          "text": [
            "Teste Von Neuman - Cenário 1, Tentativa 337-> N=674000: Falha\n"
          ]
        },
        {
          "output_type": "stream",
          "name": "stderr",
          "text": [
            "N=676000 Gerando 2000 [674000,675999]: 100%|██████████| 2000/2000 [00:00<00:00, 256846.54it/s]\n"
          ]
        },
        {
          "output_type": "stream",
          "name": "stdout",
          "text": [
            "Teste Von Neuman - Cenário 1, Tentativa 338-> N=676000: Falha\n"
          ]
        },
        {
          "output_type": "stream",
          "name": "stderr",
          "text": [
            "N=678000 Gerando 2000 [676000,677999]: 100%|██████████| 2000/2000 [00:00<00:00, 287113.94it/s]\n"
          ]
        },
        {
          "output_type": "stream",
          "name": "stdout",
          "text": [
            "Teste Von Neuman - Cenário 1, Tentativa 339-> N=678000: Falha\n"
          ]
        },
        {
          "output_type": "stream",
          "name": "stderr",
          "text": [
            "N=680000 Gerando 2000 [678000,679999]: 100%|██████████| 2000/2000 [00:00<00:00, 184575.95it/s]\n"
          ]
        },
        {
          "output_type": "stream",
          "name": "stdout",
          "text": [
            "Teste Von Neuman - Cenário 1, Tentativa 340-> N=680000: Falha\n"
          ]
        },
        {
          "output_type": "stream",
          "name": "stderr",
          "text": [
            "N=682000 Gerando 2000 [680000,681999]: 100%|██████████| 2000/2000 [00:00<00:00, 165517.81it/s]\n"
          ]
        },
        {
          "output_type": "stream",
          "name": "stdout",
          "text": [
            "Teste Von Neuman - Cenário 1, Tentativa 341-> N=682000: Falha\n"
          ]
        },
        {
          "output_type": "stream",
          "name": "stderr",
          "text": [
            "N=684000 Gerando 2000 [682000,683999]: 100%|██████████| 2000/2000 [00:00<00:00, 201532.96it/s]\n"
          ]
        },
        {
          "output_type": "stream",
          "name": "stdout",
          "text": [
            "Teste Von Neuman - Cenário 1, Tentativa 342-> N=684000: Falha\n"
          ]
        },
        {
          "output_type": "stream",
          "name": "stderr",
          "text": [
            "N=686000 Gerando 2000 [684000,685999]: 100%|██████████| 2000/2000 [00:00<00:00, 251872.33it/s]\n"
          ]
        },
        {
          "output_type": "stream",
          "name": "stdout",
          "text": [
            "Teste Von Neuman - Cenário 1, Tentativa 343-> N=686000: Falha\n"
          ]
        },
        {
          "output_type": "stream",
          "name": "stderr",
          "text": [
            "N=688000 Gerando 2000 [686000,687999]: 100%|██████████| 2000/2000 [00:00<00:00, 271423.28it/s]\n"
          ]
        },
        {
          "output_type": "stream",
          "name": "stdout",
          "text": [
            "Teste Von Neuman - Cenário 1, Tentativa 344-> N=688000: Falha\n"
          ]
        },
        {
          "output_type": "stream",
          "name": "stderr",
          "text": [
            "N=690000 Gerando 2000 [688000,689999]: 100%|██████████| 2000/2000 [00:00<00:00, 215656.54it/s]\n"
          ]
        },
        {
          "output_type": "stream",
          "name": "stdout",
          "text": [
            "Teste Von Neuman - Cenário 1, Tentativa 345-> N=690000: Falha\n"
          ]
        },
        {
          "output_type": "stream",
          "name": "stderr",
          "text": [
            "N=692000 Gerando 2000 [690000,691999]: 100%|██████████| 2000/2000 [00:00<00:00, 294812.96it/s]\n"
          ]
        },
        {
          "output_type": "stream",
          "name": "stdout",
          "text": [
            "Teste Von Neuman - Cenário 1, Tentativa 346-> N=692000: Falha\n"
          ]
        },
        {
          "output_type": "stream",
          "name": "stderr",
          "text": [
            "N=694000 Gerando 2000 [692000,693999]: 100%|██████████| 2000/2000 [00:00<00:00, 299112.43it/s]\n"
          ]
        },
        {
          "output_type": "stream",
          "name": "stdout",
          "text": [
            "Teste Von Neuman - Cenário 1, Tentativa 347-> N=694000: Falha\n"
          ]
        },
        {
          "output_type": "stream",
          "name": "stderr",
          "text": [
            "N=696000 Gerando 2000 [694000,695999]: 100%|██████████| 2000/2000 [00:00<00:00, 243727.35it/s]\n"
          ]
        },
        {
          "output_type": "stream",
          "name": "stdout",
          "text": [
            "Teste Von Neuman - Cenário 1, Tentativa 348-> N=696000: Falha\n"
          ]
        },
        {
          "output_type": "stream",
          "name": "stderr",
          "text": [
            "N=698000 Gerando 2000 [696000,697999]: 100%|██████████| 2000/2000 [00:00<00:00, 285462.74it/s]\n"
          ]
        },
        {
          "output_type": "stream",
          "name": "stdout",
          "text": [
            "Teste Von Neuman - Cenário 1, Tentativa 349-> N=698000: Falha\n"
          ]
        },
        {
          "output_type": "stream",
          "name": "stderr",
          "text": [
            "N=700000 Gerando 2000 [698000,699999]: 100%|██████████| 2000/2000 [00:00<00:00, 266855.67it/s]\n"
          ]
        },
        {
          "output_type": "stream",
          "name": "stdout",
          "text": [
            "Teste Von Neuman - Cenário 1, Tentativa 350-> N=700000: Falha\n"
          ]
        },
        {
          "output_type": "stream",
          "name": "stderr",
          "text": [
            "N=702000 Gerando 2000 [700000,701999]: 100%|██████████| 2000/2000 [00:00<00:00, 574956.00it/s]\n"
          ]
        },
        {
          "output_type": "stream",
          "name": "stdout",
          "text": [
            "Teste Von Neuman - Cenário 1, Tentativa 351-> N=702000: Falha\n"
          ]
        },
        {
          "output_type": "stream",
          "name": "stderr",
          "text": [
            "N=704000 Gerando 2000 [702000,703999]: 100%|██████████| 2000/2000 [00:00<00:00, 263626.90it/s]\n"
          ]
        },
        {
          "output_type": "stream",
          "name": "stdout",
          "text": [
            "Teste Von Neuman - Cenário 1, Tentativa 352-> N=704000: Falha\n"
          ]
        },
        {
          "output_type": "stream",
          "name": "stderr",
          "text": [
            "N=706000 Gerando 2000 [704000,705999]: 100%|██████████| 2000/2000 [00:00<00:00, 345153.39it/s]\n"
          ]
        },
        {
          "output_type": "stream",
          "name": "stdout",
          "text": [
            "Teste Von Neuman - Cenário 1, Tentativa 353-> N=706000: Falha\n"
          ]
        },
        {
          "output_type": "stream",
          "name": "stderr",
          "text": [
            "N=708000 Gerando 2000 [706000,707999]: 100%|██████████| 2000/2000 [00:00<00:00, 214745.62it/s]\n"
          ]
        },
        {
          "output_type": "stream",
          "name": "stdout",
          "text": [
            "Teste Von Neuman - Cenário 1, Tentativa 354-> N=708000: Falha\n"
          ]
        },
        {
          "output_type": "stream",
          "name": "stderr",
          "text": [
            "N=710000 Gerando 2000 [708000,709999]: 100%|██████████| 2000/2000 [00:00<00:00, 235271.57it/s]\n"
          ]
        },
        {
          "output_type": "stream",
          "name": "stdout",
          "text": [
            "Teste Von Neuman - Cenário 1, Tentativa 355-> N=710000: Falha\n"
          ]
        },
        {
          "output_type": "stream",
          "name": "stderr",
          "text": [
            "N=712000 Gerando 2000 [710000,711999]: 100%|██████████| 2000/2000 [00:00<00:00, 143279.89it/s]\n"
          ]
        },
        {
          "output_type": "stream",
          "name": "stdout",
          "text": [
            "Teste Von Neuman - Cenário 1, Tentativa 356-> N=712000: Falha\n"
          ]
        },
        {
          "output_type": "stream",
          "name": "stderr",
          "text": [
            "N=714000 Gerando 2000 [712000,713999]: 100%|██████████| 2000/2000 [00:00<00:00, 180148.35it/s]\n"
          ]
        },
        {
          "output_type": "stream",
          "name": "stdout",
          "text": [
            "Teste Von Neuman - Cenário 1, Tentativa 357-> N=714000: Falha\n"
          ]
        },
        {
          "output_type": "stream",
          "name": "stderr",
          "text": [
            "N=716000 Gerando 2000 [714000,715999]: 100%|██████████| 2000/2000 [00:00<00:00, 244124.56it/s]\n"
          ]
        },
        {
          "output_type": "stream",
          "name": "stdout",
          "text": [
            "Teste Von Neuman - Cenário 1, Tentativa 358-> N=716000: Falha\n"
          ]
        },
        {
          "output_type": "stream",
          "name": "stderr",
          "text": [
            "N=718000 Gerando 2000 [716000,717999]: 100%|██████████| 2000/2000 [00:00<00:00, 241844.20it/s]\n"
          ]
        },
        {
          "output_type": "stream",
          "name": "stdout",
          "text": [
            "Teste Von Neuman - Cenário 1, Tentativa 359-> N=718000: Falha\n"
          ]
        },
        {
          "output_type": "stream",
          "name": "stderr",
          "text": [
            "N=720000 Gerando 2000 [718000,719999]: 100%|██████████| 2000/2000 [00:00<00:00, 255680.09it/s]\n"
          ]
        },
        {
          "output_type": "stream",
          "name": "stdout",
          "text": [
            "Teste Von Neuman - Cenário 1, Tentativa 360-> N=720000: Falha\n"
          ]
        },
        {
          "output_type": "stream",
          "name": "stderr",
          "text": [
            "N=722000 Gerando 2000 [720000,721999]: 100%|██████████| 2000/2000 [00:00<00:00, 350855.66it/s]\n"
          ]
        },
        {
          "output_type": "stream",
          "name": "stdout",
          "text": [
            "Teste Von Neuman - Cenário 1, Tentativa 361-> N=722000: Falha\n"
          ]
        },
        {
          "output_type": "stream",
          "name": "stderr",
          "text": [
            "N=724000 Gerando 2000 [722000,723999]: 100%|██████████| 2000/2000 [00:00<00:00, 232069.27it/s]\n"
          ]
        },
        {
          "output_type": "stream",
          "name": "stdout",
          "text": [
            "Teste Von Neuman - Cenário 1, Tentativa 362-> N=724000: Falha\n"
          ]
        },
        {
          "output_type": "stream",
          "name": "stderr",
          "text": [
            "N=726000 Gerando 2000 [724000,725999]: 100%|██████████| 2000/2000 [00:00<00:00, 259612.78it/s]\n"
          ]
        },
        {
          "output_type": "stream",
          "name": "stdout",
          "text": [
            "Teste Von Neuman - Cenário 1, Tentativa 363-> N=726000: Falha\n"
          ]
        },
        {
          "output_type": "stream",
          "name": "stderr",
          "text": [
            "N=728000 Gerando 2000 [726000,727999]: 100%|██████████| 2000/2000 [00:00<00:00, 277934.13it/s]\n"
          ]
        },
        {
          "output_type": "stream",
          "name": "stdout",
          "text": [
            "Teste Von Neuman - Cenário 1, Tentativa 364-> N=728000: Falha\n"
          ]
        },
        {
          "output_type": "stream",
          "name": "stderr",
          "text": [
            "N=730000 Gerando 2000 [728000,729999]: 100%|██████████| 2000/2000 [00:00<00:00, 327168.80it/s]\n"
          ]
        },
        {
          "output_type": "stream",
          "name": "stdout",
          "text": [
            "Teste Von Neuman - Cenário 1, Tentativa 365-> N=730000: Falha\n"
          ]
        },
        {
          "output_type": "stream",
          "name": "stderr",
          "text": [
            "N=732000 Gerando 2000 [730000,731999]: 100%|██████████| 2000/2000 [00:00<00:00, 220973.82it/s]\n"
          ]
        },
        {
          "output_type": "stream",
          "name": "stdout",
          "text": [
            "Teste Von Neuman - Cenário 1, Tentativa 366-> N=732000: Falha\n"
          ]
        },
        {
          "output_type": "stream",
          "name": "stderr",
          "text": [
            "N=734000 Gerando 2000 [732000,733999]: 100%|██████████| 2000/2000 [00:00<00:00, 379901.63it/s]\n"
          ]
        },
        {
          "output_type": "stream",
          "name": "stdout",
          "text": [
            "Teste Von Neuman - Cenário 1, Tentativa 367-> N=734000: Falha\n"
          ]
        },
        {
          "output_type": "stream",
          "name": "stderr",
          "text": [
            "N=736000 Gerando 2000 [734000,735999]: 100%|██████████| 2000/2000 [00:00<00:00, 265386.69it/s]\n"
          ]
        },
        {
          "output_type": "stream",
          "name": "stdout",
          "text": [
            "Teste Von Neuman - Cenário 1, Tentativa 368-> N=736000: Falha\n"
          ]
        },
        {
          "output_type": "stream",
          "name": "stderr",
          "text": [
            "N=738000 Gerando 2000 [736000,737999]: 100%|██████████| 2000/2000 [00:00<00:00, 184134.34it/s]\n"
          ]
        },
        {
          "output_type": "stream",
          "name": "stdout",
          "text": [
            "Teste Von Neuman - Cenário 1, Tentativa 369-> N=738000: Falha\n"
          ]
        },
        {
          "output_type": "stream",
          "name": "stderr",
          "text": [
            "N=740000 Gerando 2000 [738000,739999]: 100%|██████████| 2000/2000 [00:00<00:00, 279806.80it/s]\n"
          ]
        },
        {
          "output_type": "stream",
          "name": "stdout",
          "text": [
            "Teste Von Neuman - Cenário 1, Tentativa 370-> N=740000: Falha\n"
          ]
        },
        {
          "output_type": "stream",
          "name": "stderr",
          "text": [
            "N=742000 Gerando 2000 [740000,741999]: 100%|██████████| 2000/2000 [00:00<00:00, 267502.41it/s]\n"
          ]
        },
        {
          "output_type": "stream",
          "name": "stdout",
          "text": [
            "\n",
            "Teste Von Neuman - Cenário 1, Tentativa 371-> N=742000: Sucesso\n",
            "Teste Von Neuman - Cenário 2, Tentativa 1-> N=2000: Falha\n"
          ]
        },
        {
          "output_type": "stream",
          "name": "stderr",
          "text": [
            "N=4000 Gerando 2000 [2000,3999]: 100%|██████████| 2000/2000 [00:00<00:00, 156221.17it/s]\n"
          ]
        },
        {
          "output_type": "stream",
          "name": "stdout",
          "text": [
            "Teste Von Neuman - Cenário 2, Tentativa 2-> N=4000: Falha\n"
          ]
        },
        {
          "output_type": "stream",
          "name": "stderr",
          "text": [
            "N=6000 Gerando 2000 [4000,5999]: 100%|██████████| 2000/2000 [00:00<00:00, 215484.81it/s]\n"
          ]
        },
        {
          "output_type": "stream",
          "name": "stdout",
          "text": [
            "Teste Von Neuman - Cenário 2, Tentativa 3-> N=6000: Falha\n"
          ]
        },
        {
          "output_type": "stream",
          "name": "stderr",
          "text": [
            "N=8000 Gerando 2000 [6000,7999]: 100%|██████████| 2000/2000 [00:00<00:00, 322106.06it/s]\n"
          ]
        },
        {
          "output_type": "stream",
          "name": "stdout",
          "text": [
            "Teste Von Neuman - Cenário 2, Tentativa 4-> N=8000: Falha\n"
          ]
        },
        {
          "output_type": "stream",
          "name": "stderr",
          "text": [
            "N=10000 Gerando 2000 [8000,9999]: 100%|██████████| 2000/2000 [00:00<00:00, 229648.71it/s]\n"
          ]
        },
        {
          "output_type": "stream",
          "name": "stdout",
          "text": [
            "Teste Von Neuman - Cenário 2, Tentativa 5-> N=10000: Falha\n"
          ]
        },
        {
          "output_type": "stream",
          "name": "stderr",
          "text": [
            "N=12000 Gerando 2000 [10000,11999]: 100%|██████████| 2000/2000 [00:00<00:00, 311277.15it/s]\n"
          ]
        },
        {
          "output_type": "stream",
          "name": "stdout",
          "text": [
            "Teste Von Neuman - Cenário 2, Tentativa 6-> N=12000: Falha\n"
          ]
        },
        {
          "output_type": "stream",
          "name": "stderr",
          "text": [
            "N=14000 Gerando 2000 [12000,13999]: 100%|██████████| 2000/2000 [00:00<00:00, 323272.88it/s]\n"
          ]
        },
        {
          "output_type": "stream",
          "name": "stdout",
          "text": [
            "Teste Von Neuman - Cenário 2, Tentativa 7-> N=14000: Falha\n"
          ]
        },
        {
          "output_type": "stream",
          "name": "stderr",
          "text": [
            "N=16000 Gerando 2000 [14000,15999]: 100%|██████████| 2000/2000 [00:00<00:00, 261368.06it/s]\n"
          ]
        },
        {
          "output_type": "stream",
          "name": "stdout",
          "text": [
            "Teste Von Neuman - Cenário 2, Tentativa 8-> N=16000: Falha\n"
          ]
        },
        {
          "output_type": "stream",
          "name": "stderr",
          "text": [
            "N=18000 Gerando 2000 [16000,17999]: 100%|██████████| 2000/2000 [00:00<00:00, 281176.11it/s]\n"
          ]
        },
        {
          "output_type": "stream",
          "name": "stdout",
          "text": [
            "Teste Von Neuman - Cenário 2, Tentativa 9-> N=18000: Falha\n"
          ]
        },
        {
          "output_type": "stream",
          "name": "stderr",
          "text": [
            "N=20000 Gerando 2000 [18000,19999]: 100%|██████████| 2000/2000 [00:00<00:00, 269686.80it/s]\n"
          ]
        },
        {
          "output_type": "stream",
          "name": "stdout",
          "text": [
            "Teste Von Neuman - Cenário 2, Tentativa 10-> N=20000: Falha\n"
          ]
        },
        {
          "output_type": "stream",
          "name": "stderr",
          "text": [
            "N=22000 Gerando 2000 [20000,21999]: 100%|██████████| 2000/2000 [00:00<00:00, 220219.68it/s]\n"
          ]
        },
        {
          "output_type": "stream",
          "name": "stdout",
          "text": [
            "Teste Von Neuman - Cenário 2, Tentativa 11-> N=22000: Falha\n"
          ]
        },
        {
          "output_type": "stream",
          "name": "stderr",
          "text": [
            "N=24000 Gerando 2000 [22000,23999]: 100%|██████████| 2000/2000 [00:00<00:00, 194432.78it/s]\n"
          ]
        },
        {
          "output_type": "stream",
          "name": "stdout",
          "text": [
            "\n",
            "Teste Von Neuman - Cenário 2, Tentativa 12-> N=24000: Sucesso\n",
            "Teste Von Neuman - Cenário 3, Tentativa 1-> N=2000: Falha\n"
          ]
        },
        {
          "output_type": "stream",
          "name": "stderr",
          "text": [
            "N=4000 Gerando 2000 [2000,3999]: 100%|██████████| 2000/2000 [00:00<00:00, 290826.79it/s]"
          ]
        },
        {
          "output_type": "stream",
          "name": "stdout",
          "text": [
            "\n",
            "Teste Von Neuman - Cenário 3, Tentativa 2-> N=4000: Sucesso\n",
            "\n",
            "Teste Von Neuman - Cenário 4, Tentativa 1-> N=2000: Sucesso\n"
          ]
        },
        {
          "output_type": "stream",
          "name": "stderr",
          "text": [
            "\n"
          ]
        }
      ],
      "source": [
        "for i, cenario in enumerate(obm_cenarios):\n",
        "    tentativa = 1\n",
        "    while von_neuman(cenario) == False:\n",
        "        print(f\"Teste Von Neuman - Cenário {i + 1}, Tentativa {tentativa}-> N={cenario.fila.n}: Falha\")\n",
        "        cenario.incrementar(100)\n",
        "        tentativa += 1\n",
        "    print(f\"\\nTeste Von Neuman - Cenário {i + 1}, Tentativa {tentativa}-> N={cenario.fila.n}: Sucesso\")\n"
      ]
    },
    {
      "cell_type": "code",
      "execution_count": null,
      "metadata": {
        "colab": {
          "base_uri": "https://localhost:8080/"
        },
        "id": "cB0UtqTL71EA",
        "outputId": "1751f6c9-e51a-477e-9c95-4117bb0fbe61"
      },
      "outputs": [
        {
          "output_type": "stream",
          "name": "stdout",
          "text": [
            "\n",
            "Cenário 1\n",
            "\n"
          ]
        },
        {
          "output_type": "stream",
          "name": "stderr",
          "text": [
            "N=46200 Gerando 4200 [42000,46199]: 100%|██████████| 4200/4200 [00:00<00:00, 254574.94it/s]\n",
            "N=50400 Gerando 4200 [46200,50399]: 100%|██████████| 4200/4200 [00:00<00:00, 256192.85it/s]\n",
            "N=54600 Gerando 4200 [50400,54599]: 100%|██████████| 4200/4200 [00:00<00:00, 287515.53it/s]\n",
            "N=58800 Gerando 4200 [54600,58799]: 100%|██████████| 4200/4200 [00:00<00:00, 267737.81it/s]\n",
            "N=65100 Gerando 6300 [58800,65099]: 100%|██████████| 6300/6300 [00:00<00:00, 306921.68it/s]\n",
            "N=71400 Gerando 6300 [65100,71399]: 100%|██████████| 6300/6300 [00:00<00:00, 320992.65it/s]\n",
            "N=77700 Gerando 6300 [71400,77699]: 100%|██████████| 6300/6300 [00:00<00:00, 311939.88it/s]\n",
            "N=86100 Gerando 8400 [77700,86099]: 100%|██████████| 8400/8400 [00:00<00:00, 324684.40it/s]\n",
            "N=94500 Gerando 8400 [86100,94499]: 100%|██████████| 8400/8400 [00:00<00:00, 315539.14it/s]\n",
            "N=102900 Gerando 8400 [94500,102899]: 100%|██████████| 8400/8400 [00:00<00:00, 293481.44it/s]\n",
            "N=113400 Gerando 10500 [102900,113399]: 100%|██████████| 10500/10500 [00:00<00:00, 323713.07it/s]\n",
            "N=123900 Gerando 10500 [113400,123899]: 100%|██████████| 10500/10500 [00:00<00:00, 309716.88it/s]\n"
          ]
        },
        {
          "output_type": "stream",
          "name": "stdout",
          "text": [
            "\n",
            "Cenário 1: Media=0.21537203346364772, H=0.010050954172583127\n",
            "\n",
            "\n",
            "Cenário 2\n",
            "\n"
          ]
        },
        {
          "output_type": "stream",
          "name": "stderr",
          "text": [
            "N=33000 Gerando 3000 [30000,32999]: 100%|██████████| 3000/3000 [00:00<00:00, 299322.33it/s]\n",
            "N=36000 Gerando 3000 [33000,35999]: 100%|██████████| 3000/3000 [00:00<00:00, 303883.69it/s]\n",
            "N=39000 Gerando 3000 [36000,38999]: 100%|██████████| 3000/3000 [00:00<00:00, 452508.79it/s]\n",
            "N=42000 Gerando 3000 [39000,41999]: 100%|██████████| 3000/3000 [00:00<00:00, 355208.67it/s]\n",
            "N=46500 Gerando 4500 [42000,46499]: 100%|██████████| 4500/4500 [00:00<00:00, 416487.22it/s]\n",
            "N=51000 Gerando 4500 [46500,50999]: 100%|██████████| 4500/4500 [00:00<00:00, 465241.14it/s]\n",
            "N=55500 Gerando 4500 [51000,55499]: 100%|██████████| 4500/4500 [00:00<00:00, 394564.09it/s]\n",
            "N=61500 Gerando 6000 [55500,61499]: 100%|██████████| 6000/6000 [00:00<00:00, 477720.23it/s]\n",
            "N=67500 Gerando 6000 [61500,67499]: 100%|██████████| 6000/6000 [00:00<00:00, 400207.12it/s]\n",
            "N=73500 Gerando 6000 [67500,73499]: 100%|██████████| 6000/6000 [00:00<00:00, 440979.60it/s]\n",
            "N=81000 Gerando 7500 [73500,80999]: 100%|██████████| 7500/7500 [00:00<00:00, 431364.83it/s]\n",
            "N=88500 Gerando 7500 [81000,88499]: 100%|██████████| 7500/7500 [00:00<00:00, 498270.00it/s]\n",
            "N=97500 Gerando 9000 [88500,97499]: 100%|██████████| 9000/9000 [00:00<00:00, 518106.70it/s]\n",
            "N=108000 Gerando 10500 [97500,107999]: 100%|██████████| 10500/10500 [00:00<00:00, 487385.92it/s]\n",
            "N=118500 Gerando 10500 [108000,118499]: 100%|██████████| 10500/10500 [00:00<00:00, 493630.05it/s]\n"
          ]
        },
        {
          "output_type": "stream",
          "name": "stdout",
          "text": [
            "\n",
            "Cenário 2: Media=0.39746446299682175, H=0.01947774553491857\n",
            "\n",
            "\n",
            "Cenário 3\n",
            "\n"
          ]
        },
        {
          "output_type": "stream",
          "name": "stderr",
          "text": [
            "N=2200 Gerando 200 [2000,2199]: 100%|██████████| 200/200 [00:00<00:00, 132104.06it/s]\n",
            "N=2400 Gerando 200 [2200,2399]: 100%|██████████| 200/200 [00:00<00:00, 224474.39it/s]\n",
            "N=2600 Gerando 200 [2400,2599]: 100%|██████████| 200/200 [00:00<00:00, 235304.57it/s]\n",
            "N=2800 Gerando 200 [2600,2799]: 100%|██████████| 200/200 [00:00<00:00, 254431.54it/s]\n",
            "N=3100 Gerando 300 [2800,3099]: 100%|██████████| 300/300 [00:00<00:00, 282635.04it/s]\n",
            "N=3400 Gerando 300 [3100,3399]: 100%|██████████| 300/300 [00:00<00:00, 236032.86it/s]\n",
            "N=3700 Gerando 300 [3400,3699]: 100%|██████████| 300/300 [00:00<00:00, 284616.87it/s]\n",
            "N=4100 Gerando 400 [3700,4099]: 100%|██████████| 400/400 [00:00<00:00, 317449.69it/s]\n",
            "N=4500 Gerando 400 [4100,4499]: 100%|██████████| 400/400 [00:00<00:00, 311902.14it/s]\n",
            "N=4900 Gerando 400 [4500,4899]: 100%|██████████| 400/400 [00:00<00:00, 306937.72it/s]\n",
            "N=5400 Gerando 500 [4900,5399]: 100%|██████████| 500/500 [00:00<00:00, 306870.35it/s]\n",
            "N=5900 Gerando 500 [5400,5899]: 100%|██████████| 500/500 [00:00<00:00, 302488.39it/s]\n",
            "N=6500 Gerando 600 [5900,6499]: 100%|██████████| 600/600 [00:00<00:00, 309048.56it/s]\n",
            "N=7200 Gerando 700 [6500,7199]: 100%|██████████| 700/700 [00:00<00:00, 302650.53it/s]\n",
            "N=7900 Gerando 700 [7200,7899]: 100%|██████████| 700/700 [00:00<00:00, 237965.05it/s]\n",
            "N=8700 Gerando 800 [7900,8699]: 100%|██████████| 800/800 [00:00<00:00, 245928.11it/s]\n",
            "N=9600 Gerando 900 [8700,9599]: 100%|██████████| 900/900 [00:00<00:00, 256462.64it/s]\n",
            "N=10600 Gerando 1000 [9600,10599]: 100%|██████████| 1000/1000 [00:00<00:00, 231256.77it/s]\n",
            "N=11700 Gerando 1100 [10600,11699]: 100%|██████████| 1100/1100 [00:00<00:00, 336818.10it/s]\n",
            "N=12900 Gerando 1200 [11700,12899]: 100%|██████████| 1200/1200 [00:00<00:00, 336576.49it/s]\n",
            "N=14300 Gerando 1400 [12900,14299]: 100%|██████████| 1400/1400 [00:00<00:00, 317595.63it/s]\n",
            "N=15800 Gerando 1500 [14300,15799]: 100%|██████████| 1500/1500 [00:00<00:00, 296808.79it/s]\n",
            "N=17500 Gerando 1700 [15800,17499]: 100%|██████████| 1700/1700 [00:00<00:00, 318644.89it/s]\n",
            "N=19400 Gerando 1900 [17500,19399]: 100%|██████████| 1900/1900 [00:00<00:00, 311271.68it/s]\n",
            "N=21500 Gerando 2100 [19400,21499]: 100%|██████████| 2100/2100 [00:00<00:00, 173096.95it/s]\n",
            "N=23800 Gerando 2300 [21500,23799]: 100%|██████████| 2300/2300 [00:00<00:00, 227430.02it/s]\n",
            "N=26400 Gerando 2600 [23800,26399]: 100%|██████████| 2600/2600 [00:00<00:00, 280757.70it/s]\n",
            "N=29300 Gerando 2900 [26400,29299]: 100%|██████████| 2900/2900 [00:00<00:00, 413949.14it/s]\n",
            "N=32500 Gerando 3200 [29300,32499]: 100%|██████████| 3200/3200 [00:00<00:00, 417162.08it/s]\n",
            "N=36100 Gerando 3600 [32500,36099]: 100%|██████████| 3600/3600 [00:00<00:00, 376011.51it/s]\n",
            "N=40100 Gerando 4000 [36100,40099]: 100%|██████████| 4000/4000 [00:00<00:00, 374182.39it/s]\n",
            "N=44500 Gerando 4400 [40100,44499]: 100%|██████████| 4400/4400 [00:00<00:00, 321117.39it/s]\n",
            "N=49400 Gerando 4900 [44500,49399]: 100%|██████████| 4900/4900 [00:00<00:00, 409290.03it/s]\n",
            "N=54800 Gerando 5400 [49400,54799]: 100%|██████████| 5400/5400 [00:00<00:00, 443798.21it/s]\n",
            "N=60800 Gerando 6000 [54800,60799]: 100%|██████████| 6000/6000 [00:00<00:00, 399965.42it/s]\n",
            "N=67500 Gerando 6700 [60800,67499]: 100%|██████████| 6700/6700 [00:00<00:00, 359671.28it/s]\n",
            "N=74900 Gerando 7400 [67500,74899]: 100%|██████████| 7400/7400 [00:00<00:00, 504918.57it/s]\n"
          ]
        },
        {
          "output_type": "stream",
          "name": "stdout",
          "text": [
            "\n",
            "Cenário 3: Media=0.6803689545439192, H=0.03344111576334026\n",
            "\n",
            "\n",
            "Cenário 4\n",
            "\n"
          ]
        },
        {
          "output_type": "stream",
          "name": "stderr",
          "text": [
            "N=2200 Gerando 200 [2000,2199]: 100%|██████████| 200/200 [00:00<00:00, 273690.31it/s]\n",
            "N=2400 Gerando 200 [2200,2399]: 100%|██████████| 200/200 [00:00<00:00, 265798.73it/s]\n",
            "N=2600 Gerando 200 [2400,2599]: 100%|██████████| 200/200 [00:00<00:00, 279527.09it/s]\n",
            "N=2800 Gerando 200 [2600,2799]: 100%|██████████| 200/200 [00:00<00:00, 235767.51it/s]\n",
            "N=3100 Gerando 300 [2800,3099]: 100%|██████████| 300/300 [00:00<00:00, 283654.46it/s]\n",
            "N=3400 Gerando 300 [3100,3399]: 100%|██████████| 300/300 [00:00<00:00, 278567.90it/s]\n",
            "N=3700 Gerando 300 [3400,3699]: 100%|██████████| 300/300 [00:00<00:00, 285845.34it/s]\n",
            "N=4100 Gerando 400 [3700,4099]: 100%|██████████| 400/400 [00:00<00:00, 287330.30it/s]\n",
            "N=4500 Gerando 400 [4100,4499]: 100%|██████████| 400/400 [00:00<00:00, 308802.06it/s]\n",
            "N=4900 Gerando 400 [4500,4899]: 100%|██████████| 400/400 [00:00<00:00, 286545.11it/s]\n",
            "N=5400 Gerando 500 [4900,5399]: 100%|██████████| 500/500 [00:00<00:00, 290383.83it/s]\n",
            "N=5900 Gerando 500 [5400,5899]: 100%|██████████| 500/500 [00:00<00:00, 211491.73it/s]\n",
            "N=6500 Gerando 600 [5900,6499]: 100%|██████████| 600/600 [00:00<00:00, 235392.61it/s]\n",
            "N=7200 Gerando 700 [6500,7199]: 100%|██████████| 700/700 [00:00<00:00, 239948.74it/s]\n",
            "N=7900 Gerando 700 [7200,7899]: 100%|██████████| 700/700 [00:00<00:00, 241150.95it/s]\n",
            "N=8700 Gerando 800 [7900,8699]: 100%|██████████| 800/800 [00:00<00:00, 228977.97it/s]\n",
            "N=9600 Gerando 900 [8700,9599]: 100%|██████████| 900/900 [00:00<00:00, 248756.09it/s]\n",
            "N=10600 Gerando 1000 [9600,10599]: 100%|██████████| 1000/1000 [00:00<00:00, 239223.41it/s]\n",
            "N=11700 Gerando 1100 [10600,11699]: 100%|██████████| 1100/1100 [00:00<00:00, 322864.55it/s]\n",
            "N=12900 Gerando 1200 [11700,12899]: 100%|██████████| 1200/1200 [00:00<00:00, 327829.40it/s]\n",
            "N=14300 Gerando 1400 [12900,14299]: 100%|██████████| 1400/1400 [00:00<00:00, 330539.01it/s]\n",
            "N=15800 Gerando 1500 [14300,15799]: 100%|██████████| 1500/1500 [00:00<00:00, 319120.26it/s]\n",
            "N=17500 Gerando 1700 [15800,17499]: 100%|██████████| 1700/1700 [00:00<00:00, 168892.81it/s]\n",
            "N=19400 Gerando 1900 [17500,19399]: 100%|██████████| 1900/1900 [00:00<00:00, 154534.27it/s]\n",
            "N=21500 Gerando 2100 [19400,21499]: 100%|██████████| 2100/2100 [00:00<00:00, 134572.49it/s]\n",
            "N=23800 Gerando 2300 [21500,23799]: 100%|██████████| 2300/2300 [00:00<00:00, 411346.55it/s]\n",
            "N=26400 Gerando 2600 [23800,26399]: 100%|██████████| 2600/2600 [00:00<00:00, 189415.01it/s]\n",
            "N=29300 Gerando 2900 [26400,29299]: 100%|██████████| 2900/2900 [00:00<00:00, 337228.13it/s]\n",
            "N=32500 Gerando 3200 [29300,32499]: 100%|██████████| 3200/3200 [00:00<00:00, 363615.43it/s]\n",
            "N=36100 Gerando 3600 [32500,36099]: 100%|██████████| 3600/3600 [00:00<00:00, 427444.99it/s]\n",
            "N=40100 Gerando 4000 [36100,40099]: 100%|██████████| 4000/4000 [00:00<00:00, 388190.75it/s]\n",
            "N=44500 Gerando 4400 [40100,44499]: 100%|██████████| 4400/4400 [00:00<00:00, 249303.46it/s]\n",
            "N=49400 Gerando 4900 [44500,49399]: 100%|██████████| 4900/4900 [00:00<00:00, 393025.50it/s]\n",
            "N=54800 Gerando 5400 [49400,54799]: 100%|██████████| 5400/5400 [00:00<00:00, 437294.70it/s]\n",
            "N=60800 Gerando 6000 [54800,60799]: 100%|██████████| 6000/6000 [00:00<00:00, 462615.56it/s]\n",
            "N=67500 Gerando 6700 [60800,67499]: 100%|██████████| 6700/6700 [00:00<00:00, 350353.28it/s]\n",
            "N=74900 Gerando 7400 [67500,74899]: 100%|██████████| 7400/7400 [00:00<00:00, 430369.94it/s]\n",
            "N=83200 Gerando 8300 [74900,83199]: 100%|██████████| 8300/8300 [00:00<00:00, 492129.14it/s]\n",
            "N=92400 Gerando 9200 [83200,92399]: 100%|██████████| 9200/9200 [00:00<00:00, 516070.14it/s]\n"
          ]
        },
        {
          "output_type": "stream",
          "name": "stdout",
          "text": [
            "\n",
            "Cenário 4: Media=1.9540190228827152, H=0.09573054737816147\n",
            "\n"
          ]
        }
      ],
      "source": [
        "resultados = []\n",
        "for i, cenario in enumerate(nbm_cenarios):\n",
        "    print(f'\\nCenário {i + 1}\\n')\n",
        "    cenario.agrupamento_obm(overlap=0.10)\n",
        "    media, H = cenario.metricas_obm()\n",
        "    precisao_relativa = H / media\n",
        "    while precisao_relativa > 0.05:\n",
        "        cenario.fila.redimensionar(cenario.B_linha * cenario.M)\n",
        "        cenario.agrupamento_obm(overlap=0.10)\n",
        "        media, H = cenario.metricas_obm()\n",
        "        precisao_relativa = H / media\n",
        "    print(f'\\nCenário {i + 1}: Media={media}, H={H}\\n')\n",
        "    resultados.append((media, H))"
      ]
    },
    {
      "cell_type": "code",
      "execution_count": null,
      "metadata": {
        "colab": {
          "base_uri": "https://localhost:8080/",
          "height": 299
        },
        "id": "FIcHw_O571EB",
        "outputId": "612c6371-0824-4f51-d2b1-23171c6d477d"
      },
      "outputs": [
        {
          "output_type": "display_data",
          "data": {
            "text/plain": [
              "<Figure size 432x288 with 1 Axes>"
            ],
            "image/png": "[encoded data removed]"
          },
          "metadata": {
            "needs_background": "light"
          }
        }
      ],
      "source": [
        "valores_esperados = [c.fila.valor_esperado for c in nbm_cenarios]\n",
        "plot_graph(resultados, valores_esperados, \"Parte 3: OBM 10%\")"
      ]
    },
    {
      "cell_type": "markdown",
      "metadata": {
        "id": "Yo437Sjx7qYT"
      },
      "source": [
        "### 25%"
      ]
    },
    {
      "cell_type": "code",
      "execution_count": null,
      "metadata": {
        "colab": {
          "base_uri": "https://localhost:8080/"
        },
        "id": "525GgsWXAbK1",
        "outputId": "6400d120-a88c-4e15-8b0d-9aab256df2dc"
      },
      "outputs": [
        {
          "output_type": "stream",
          "name": "stderr",
          "text": [
            "N=1000 Gerando 1000 [0,999]: 100%|██████████| 1000/1000 [00:00<00:00, 521420.19it/s]\n",
            "N=1000 Gerando 1000 [0,999]: 100%|██████████| 1000/1000 [00:00<00:00, 321575.10it/s]\n",
            "N=1000 Gerando 1000 [0,999]: 100%|██████████| 1000/1000 [00:00<00:00, 222167.70it/s]\n",
            "N=1000 Gerando 1000 [0,999]: 100%|██████████| 1000/1000 [00:00<00:00, 334154.24it/s]\n"
          ]
        },
        {
          "output_type": "stream",
          "name": "stdout",
          "text": [
            "Cenário 1: Entrada 7 Servico 10\n"
          ]
        },
        {
          "output_type": "stream",
          "name": "stderr",
          "text": [
            "Calcular MSER-5Y(k, d): 100%|██████████| 100/100 [00:00<00:00, 4317.30it/s]\n",
            "Validar MSER5Y-Igualdade Interna: 100%|██████████| 99/99 [00:00<00:00, 4061.74it/s]\n",
            "Validar MSER5Y-Segunda Metade: 100%|██████████| 100/100 [00:00<00:00, 15443.51it/s]\n"
          ]
        },
        {
          "output_type": "stream",
          "name": "stdout",
          "text": [
            "MSER-5Y válido: ponto de truncagem=5\n",
            "\n",
            "Cenário 2: Entrada 8 Servico 10\n"
          ]
        },
        {
          "output_type": "stream",
          "name": "stderr",
          "text": [
            "Calcular MSER-5Y(k, d): 100%|██████████| 100/100 [00:00<00:00, 5034.39it/s]\n",
            "Validar MSER5Y-Igualdade Interna: 100%|██████████| 99/99 [00:00<00:00, 2681.62it/s]\n",
            "Validar MSER5Y-Segunda Metade: 100%|██████████| 100/100 [00:00<00:00, 10599.44it/s]\n"
          ]
        },
        {
          "output_type": "stream",
          "name": "stdout",
          "text": [
            "MSER-5Y válido: ponto de truncagem=5\n",
            "\n",
            "Cenário 3: Entrada 9 Servico 10\n"
          ]
        },
        {
          "output_type": "stream",
          "name": "stderr",
          "text": [
            "Calcular MSER-5Y(k, d): 100%|██████████| 100/100 [00:00<00:00, 6382.37it/s]\n",
            "Validar MSER5Y-Igualdade Interna: 100%|██████████| 99/99 [00:00<00:00, 3140.52it/s]\n",
            "Validar MSER5Y-Segunda Metade: 100%|██████████| 100/100 [00:00<00:00, 11454.84it/s]\n"
          ]
        },
        {
          "output_type": "stream",
          "name": "stdout",
          "text": [
            "MSER-5Y válido: ponto de truncagem=5\n",
            "\n",
            "Cenário 4: Entrada 9.5 Servico 10\n"
          ]
        },
        {
          "output_type": "stream",
          "name": "stderr",
          "text": [
            "Calcular MSER-5Y(k, d): 100%|██████████| 100/100 [00:00<00:00, 6618.86it/s]\n",
            "Validar MSER5Y-Igualdade Interna: 100%|██████████| 99/99 [00:00<00:00, 2553.62it/s]\n",
            "Validar MSER5Y-Segunda Metade: 100%|██████████| 100/100 [00:00<00:00, 15280.91it/s]"
          ]
        },
        {
          "output_type": "stream",
          "name": "stdout",
          "text": [
            "MSER-5Y válido: ponto de truncagem=5\n",
            "\n"
          ]
        },
        {
          "output_type": "stream",
          "name": "stderr",
          "text": [
            "\n"
          ]
        }
      ],
      "source": [
        "N = 1000\n",
        "cenarios = [\n",
        "    Simulador_Fila(n=N, tx_entrada=7, tx_servico=10, gerador=va_exp),\n",
        "    Simulador_Fila(n=N, tx_entrada=8, tx_servico=10, gerador=va_exp),\n",
        "    Simulador_Fila(n=N, tx_entrada=9, tx_servico=10, gerador=va_exp),\n",
        "    Simulador_Fila(n=N, tx_entrada=9.5, tx_servico=10, gerador=va_exp),\n",
        "]\n",
        "for i, c in enumerate(cenarios):\n",
        "    print(f\"Cenário {i + 1}: Entrada {c.tx_entrada} Servico {c.tx_servico}\")\n",
        "    valido, ponto = mser_5y(fila=c, M=5)\n",
        "    while not valido:\n",
        "        if ponto == -1:\n",
        "            print(f\"MSER-5Y inválido: Valores iguais encontrados na primeira metade da série.\")\n",
        "        if ponto == -2:\n",
        "            print(f\"MSER-5Y inválido: Estatística menor na segunda metade da série.\")\n",
        "        tmp = c.n\n",
        "        c.incrementar(c.n)\n",
        "        print(f'Coletar mais {tmp} observações. Total (n) = {c.n}')\n",
        "        valido, ponto = mser_5y(fila=c, M=5)\n",
        "    print(f\"MSER-5Y válido: ponto de truncagem={ponto}\")\n",
        "    c.eliminar_transiente(ponto)\n",
        "    print()"
      ]
    },
    {
      "cell_type": "code",
      "execution_count": null,
      "metadata": {
        "colab": {
          "base_uri": "https://localhost:8080/"
        },
        "id": "iWQgITM_AbK6",
        "outputId": "92a225f5-b308-4cf3-ee53-5f42ed87d7f8"
      },
      "outputs": [
        {
          "output_type": "stream",
          "name": "stderr",
          "text": [
            "N=2000 Gerando 1005 [995,1999]: 100%|██████████| 1005/1005 [00:00<00:00, 197067.58it/s]\n",
            "N=2000 Gerando 1005 [995,1999]: 100%|██████████| 1005/1005 [00:00<00:00, 240666.60it/s]\n",
            "N=2000 Gerando 1005 [995,1999]: 100%|██████████| 1005/1005 [00:00<00:00, 235070.02it/s]\n",
            "N=2000 Gerando 1005 [995,1999]: 100%|██████████| 1005/1005 [00:00<00:00, 246593.86it/s]\n"
          ]
        }
      ],
      "source": [
        "M = 100  #Medias Inicial\n",
        "B = 20  #Batch Inicial\n",
        "\n",
        "# N = M*B -> Gerar observações até o necessário\n",
        "obm_cenarios = [NBM(c, M, B) for c in cenarios]"
      ]
    },
    {
      "cell_type": "code",
      "execution_count": null,
      "metadata": {
        "colab": {
          "base_uri": "https://localhost:8080/"
        },
        "id": "8mowaA4vAbK7",
        "outputId": "0ea803ac-a78a-441e-8fee-17041f88b19e"
      },
      "outputs": [
        {
          "output_type": "stream",
          "name": "stdout",
          "text": [
            "Teste Von Neuman - Cenário 1, Tentativa 1-> N=2000: Falha\n"
          ]
        },
        {
          "output_type": "stream",
          "name": "stderr",
          "text": [
            "N=4000 Gerando 2000 [2000,3999]: 100%|██████████| 2000/2000 [00:00<00:00, 152706.17it/s]\n"
          ]
        },
        {
          "output_type": "stream",
          "name": "stdout",
          "text": [
            "Teste Von Neuman - Cenário 1, Tentativa 2-> N=4000: Falha\n"
          ]
        },
        {
          "output_type": "stream",
          "name": "stderr",
          "text": [
            "N=6000 Gerando 2000 [4000,5999]: 100%|██████████| 2000/2000 [00:00<00:00, 166990.64it/s]\n"
          ]
        },
        {
          "output_type": "stream",
          "name": "stdout",
          "text": [
            "Teste Von Neuman - Cenário 1, Tentativa 3-> N=6000: Falha\n"
          ]
        },
        {
          "output_type": "stream",
          "name": "stderr",
          "text": [
            "N=8000 Gerando 2000 [6000,7999]: 100%|██████████| 2000/2000 [00:00<00:00, 146115.00it/s]\n"
          ]
        },
        {
          "output_type": "stream",
          "name": "stdout",
          "text": [
            "Teste Von Neuman - Cenário 1, Tentativa 4-> N=8000: Falha\n"
          ]
        },
        {
          "output_type": "stream",
          "name": "stderr",
          "text": [
            "N=10000 Gerando 2000 [8000,9999]: 100%|██████████| 2000/2000 [00:00<00:00, 311763.04it/s]\n"
          ]
        },
        {
          "output_type": "stream",
          "name": "stdout",
          "text": [
            "Teste Von Neuman - Cenário 1, Tentativa 5-> N=10000: Falha\n"
          ]
        },
        {
          "output_type": "stream",
          "name": "stderr",
          "text": [
            "N=12000 Gerando 2000 [10000,11999]: 100%|██████████| 2000/2000 [00:00<00:00, 432625.48it/s]\n"
          ]
        },
        {
          "output_type": "stream",
          "name": "stdout",
          "text": [
            "Teste Von Neuman - Cenário 1, Tentativa 6-> N=12000: Falha\n"
          ]
        },
        {
          "output_type": "stream",
          "name": "stderr",
          "text": [
            "N=14000 Gerando 2000 [12000,13999]: 100%|██████████| 2000/2000 [00:00<00:00, 154837.07it/s]\n"
          ]
        },
        {
          "output_type": "stream",
          "name": "stdout",
          "text": [
            "Teste Von Neuman - Cenário 1, Tentativa 7-> N=14000: Falha\n"
          ]
        },
        {
          "output_type": "stream",
          "name": "stderr",
          "text": [
            "N=16000 Gerando 2000 [14000,15999]: 100%|██████████| 2000/2000 [00:00<00:00, 287113.94it/s]\n"
          ]
        },
        {
          "output_type": "stream",
          "name": "stdout",
          "text": [
            "Teste Von Neuman - Cenário 1, Tentativa 8-> N=16000: Falha\n"
          ]
        },
        {
          "output_type": "stream",
          "name": "stderr",
          "text": [
            "N=18000 Gerando 2000 [16000,17999]: 100%|██████████| 2000/2000 [00:00<00:00, 407926.86it/s]\n"
          ]
        },
        {
          "output_type": "stream",
          "name": "stdout",
          "text": [
            "Teste Von Neuman - Cenário 1, Tentativa 9-> N=18000: Falha\n"
          ]
        },
        {
          "output_type": "stream",
          "name": "stderr",
          "text": [
            "N=20000 Gerando 2000 [18000,19999]: 100%|██████████| 2000/2000 [00:00<00:00, 241440.48it/s]\n"
          ]
        },
        {
          "output_type": "stream",
          "name": "stdout",
          "text": [
            "Teste Von Neuman - Cenário 1, Tentativa 10-> N=20000: Falha\n"
          ]
        },
        {
          "output_type": "stream",
          "name": "stderr",
          "text": [
            "N=22000 Gerando 2000 [20000,21999]: 100%|██████████| 2000/2000 [00:00<00:00, 238583.85it/s]\n"
          ]
        },
        {
          "output_type": "stream",
          "name": "stdout",
          "text": [
            "Teste Von Neuman - Cenário 1, Tentativa 11-> N=22000: Falha\n"
          ]
        },
        {
          "output_type": "stream",
          "name": "stderr",
          "text": [
            "N=24000 Gerando 2000 [22000,23999]: 100%|██████████| 2000/2000 [00:00<00:00, 276177.26it/s]\n"
          ]
        },
        {
          "output_type": "stream",
          "name": "stdout",
          "text": [
            "Teste Von Neuman - Cenário 1, Tentativa 12-> N=24000: Falha\n"
          ]
        },
        {
          "output_type": "stream",
          "name": "stderr",
          "text": [
            "N=26000 Gerando 2000 [24000,25999]: 100%|██████████| 2000/2000 [00:00<00:00, 237570.32it/s]\n"
          ]
        },
        {
          "output_type": "stream",
          "name": "stdout",
          "text": [
            "Teste Von Neuman - Cenário 1, Tentativa 13-> N=26000: Falha\n"
          ]
        },
        {
          "output_type": "stream",
          "name": "stderr",
          "text": [
            "N=28000 Gerando 2000 [26000,27999]: 100%|██████████| 2000/2000 [00:00<00:00, 259789.66it/s]\n"
          ]
        },
        {
          "output_type": "stream",
          "name": "stdout",
          "text": [
            "\n",
            "Teste Von Neuman - Cenário 1, Tentativa 14-> N=28000: Sucesso\n",
            "\n",
            "Teste Von Neuman - Cenário 2, Tentativa 1-> N=2000: Sucesso\n",
            "\n",
            "Teste Von Neuman - Cenário 3, Tentativa 1-> N=2000: Sucesso\n",
            "\n",
            "Teste Von Neuman - Cenário 4, Tentativa 1-> N=2000: Sucesso\n"
          ]
        }
      ],
      "source": [
        "for i, cenario in enumerate(obm_cenarios):\n",
        "    tentativa = 1\n",
        "    while von_neuman(cenario) == False:\n",
        "        print(f\"Teste Von Neuman - Cenário {i + 1}, Tentativa {tentativa}-> N={cenario.fila.n}: Falha\")\n",
        "        cenario.incrementar(100)\n",
        "        tentativa += 1\n",
        "    print(f\"\\nTeste Von Neuman - Cenário {i + 1}, Tentativa {tentativa}-> N={cenario.fila.n}: Sucesso\")\n"
      ]
    },
    {
      "cell_type": "code",
      "execution_count": null,
      "metadata": {
        "colab": {
          "base_uri": "https://localhost:8080/"
        },
        "id": "PAbwHDVUAbK7",
        "outputId": "ac4c8079-b0c6-4660-aceb-e059c4c126a4"
      },
      "outputs": [
        {
          "output_type": "stream",
          "name": "stdout",
          "text": [
            "\n",
            "Cenário 1\n",
            "\n",
            "\n",
            "Cenário 1: Media=0.22356998673498252, H=0.00820904693832632\n",
            "\n",
            "\n",
            "Cenário 2\n",
            "\n"
          ]
        },
        {
          "output_type": "stream",
          "name": "stderr",
          "text": [
            "N=157500 Gerando 39000 [118500,157499]: 100%|██████████| 39000/39000 [00:00<00:00, 493751.38it/s]\n",
            "N=208500 Gerando 51000 [157500,208499]: 100%|██████████| 51000/51000 [00:00<00:00, 569699.17it/s]\n",
            "N=277500 Gerando 69000 [208500,277499]: 100%|██████████| 69000/69000 [00:00<00:00, 538371.49it/s]\n"
          ]
        },
        {
          "output_type": "stream",
          "name": "stdout",
          "text": [
            "\n",
            "Cenário 2: Media=0.3803979526207127, H=0.016038531080930358\n",
            "\n",
            "\n",
            "Cenário 3\n",
            "\n"
          ]
        },
        {
          "output_type": "stream",
          "name": "stderr",
          "text": [
            "N=99800 Gerando 24900 [74900,99799]: 100%|██████████| 24900/24900 [00:00<00:00, 456452.55it/s]\n"
          ]
        },
        {
          "output_type": "stream",
          "name": "stdout",
          "text": [
            "\n",
            "Cenário 3: Media=0.8389037878357221, H=0.039681770062321986\n",
            "\n",
            "\n",
            "Cenário 4\n",
            "\n"
          ]
        },
        {
          "output_type": "stream",
          "name": "stderr",
          "text": [
            "N=123100 Gerando 30700 [92400,123099]: 100%|██████████| 30700/30700 [00:00<00:00, 561763.28it/s]"
          ]
        },
        {
          "output_type": "stream",
          "name": "stdout",
          "text": [
            "\n",
            "Cenário 4: Media=1.990784472299269, H=0.08790264820858523\n",
            "\n"
          ]
        },
        {
          "output_type": "stream",
          "name": "stderr",
          "text": [
            "\n"
          ]
        }
      ],
      "source": [
        "resultados = []\n",
        "for i, cenario in enumerate(nbm_cenarios):\n",
        "    print(f'\\nCenário {i + 1}\\n')\n",
        "    cenario.agrupamento_obm(overlap=0.25)\n",
        "    media, H = cenario.metricas_obm()\n",
        "    precisao_relativa = H / media\n",
        "    while precisao_relativa > 0.05:\n",
        "        cenario.fila.redimensionar(cenario.B_linha * cenario.M)\n",
        "        cenario.agrupamento_obm(overlap=0.25)\n",
        "        media, H = cenario.metricas_obm()\n",
        "        precisao_relativa = H / media\n",
        "    print(f'\\nCenário {i + 1}: Media={media}, H={H}\\n')\n",
        "    resultados.append((media, H))"
      ]
    },
    {
      "cell_type": "code",
      "execution_count": null,
      "metadata": {
        "colab": {
          "base_uri": "https://localhost:8080/",
          "height": 299
        },
        "id": "sgxnWnByAbK7",
        "outputId": "39556103-7c80-43bd-b107-477904ab83b3"
      },
      "outputs": [
        {
          "output_type": "display_data",
          "data": {
            "text/plain": [
              "<Figure size 432x288 with 1 Axes>"
            ],
            "image/png": "[encoded data removed]"
          },
          "metadata": {
            "needs_background": "light"
          }
        }
      ],
      "source": [
        "valores_esperados = [c.fila.valor_esperado for c in obm_cenarios]\n",
        "plot_graph(resultados, valores_esperados, \"Parte 3: OBM 25%\")"
      ]
    },
    {
      "cell_type": "markdown",
      "metadata": {
        "id": "neyhVltO7qRi"
      },
      "source": [
        "### 50%"
      ]
    },
    {
      "cell_type": "code",
      "execution_count": null,
      "metadata": {
        "colab": {
          "base_uri": "https://localhost:8080/"
        },
        "id": "GJuuf-bTAbsZ",
        "outputId": "fe16adfe-32b6-4f00-85ef-57fe5a2b78ee"
      },
      "outputs": [
        {
          "output_type": "stream",
          "name": "stderr",
          "text": [
            "N=1000 Gerando 1000 [0,999]: 100%|██████████| 1000/1000 [00:00<00:00, 261457.67it/s]\n",
            "N=1000 Gerando 1000 [0,999]: 100%|██████████| 1000/1000 [00:00<00:00, 280686.88it/s]\n",
            "N=1000 Gerando 1000 [0,999]: 100%|██████████| 1000/1000 [00:00<00:00, 282921.01it/s]\n",
            "N=1000 Gerando 1000 [0,999]: 100%|██████████| 1000/1000 [00:00<00:00, 585224.50it/s]\n"
          ]
        },
        {
          "output_type": "stream",
          "name": "stdout",
          "text": [
            "Cenário 1: Entrada 7 Servico 10\n"
          ]
        },
        {
          "output_type": "stream",
          "name": "stderr",
          "text": [
            "Calcular MSER-5Y(k, d): 100%|██████████| 100/100 [00:00<00:00, 5276.32it/s]\n",
            "Validar MSER5Y-Igualdade Interna: 100%|██████████| 99/99 [00:00<00:00, 3157.86it/s]\n",
            "Validar MSER5Y-Segunda Metade: 100%|██████████| 100/100 [00:00<00:00, 12868.33it/s]\n"
          ]
        },
        {
          "output_type": "stream",
          "name": "stdout",
          "text": [
            "MSER-5Y válido: ponto de truncagem=5\n",
            "\n",
            "Cenário 2: Entrada 8 Servico 10\n"
          ]
        },
        {
          "output_type": "stream",
          "name": "stderr",
          "text": [
            "Calcular MSER-5Y(k, d): 100%|██████████| 100/100 [00:00<00:00, 8238.34it/s]\n",
            "Validar MSER5Y-Igualdade Interna: 100%|██████████| 99/99 [00:00<00:00, 4017.53it/s]\n",
            "Validar MSER5Y-Segunda Metade: 100%|██████████| 100/100 [00:00<00:00, 18697.03it/s]\n"
          ]
        },
        {
          "output_type": "stream",
          "name": "stdout",
          "text": [
            "MSER-5Y válido: ponto de truncagem=5\n",
            "\n",
            "Cenário 3: Entrada 9 Servico 10\n"
          ]
        },
        {
          "output_type": "stream",
          "name": "stderr",
          "text": [
            "Calcular MSER-5Y(k, d): 100%|██████████| 100/100 [00:00<00:00, 4811.20it/s]\n",
            "Validar MSER5Y-Igualdade Interna: 100%|██████████| 99/99 [00:00<00:00, 3917.84it/s]\n",
            "Validar MSER5Y-Segunda Metade: 100%|██████████| 100/100 [00:00<00:00, 13291.20it/s]\n"
          ]
        },
        {
          "output_type": "stream",
          "name": "stdout",
          "text": [
            "MSER-5Y válido: ponto de truncagem=5\n",
            "\n",
            "Cenário 4: Entrada 9.5 Servico 10\n"
          ]
        },
        {
          "output_type": "stream",
          "name": "stderr",
          "text": [
            "Calcular MSER-5Y(k, d): 100%|██████████| 100/100 [00:00<00:00, 7095.52it/s]\n",
            "Validar MSER5Y-Igualdade Interna: 100%|██████████| 99/99 [00:00<00:00, 2890.21it/s]\n",
            "Validar MSER5Y-Segunda Metade: 100%|██████████| 100/100 [00:00<00:00, 10730.14it/s]"
          ]
        },
        {
          "output_type": "stream",
          "name": "stdout",
          "text": [
            "MSER-5Y válido: ponto de truncagem=35\n",
            "\n"
          ]
        },
        {
          "output_type": "stream",
          "name": "stderr",
          "text": [
            "\n"
          ]
        }
      ],
      "source": [
        "N = 1000\n",
        "cenarios = [\n",
        "    Simulador_Fila(n=N, tx_entrada=7, tx_servico=10, gerador=va_exp),\n",
        "    Simulador_Fila(n=N, tx_entrada=8, tx_servico=10, gerador=va_exp),\n",
        "    Simulador_Fila(n=N, tx_entrada=9, tx_servico=10, gerador=va_exp),\n",
        "    Simulador_Fila(n=N, tx_entrada=9.5, tx_servico=10, gerador=va_exp),\n",
        "]\n",
        "for i, c in enumerate(cenarios):\n",
        "    print(f\"Cenário {i + 1}: Entrada {c.tx_entrada} Servico {c.tx_servico}\")\n",
        "    valido, ponto = mser_5y(fila=c, M=5)\n",
        "    while not valido:\n",
        "        if ponto == -1:\n",
        "            print(f\"MSER-5Y inválido: Valores iguais encontrados na primeira metade da série.\")\n",
        "        if ponto == -2:\n",
        "            print(f\"MSER-5Y inválido: Estatística menor na segunda metade da série.\")\n",
        "        tmp = c.n\n",
        "        c.incrementar(c.n)\n",
        "        print(f'Coletar mais {tmp} observações. Total (n) = {c.n}')\n",
        "        valido, ponto = mser_5y(fila=c, M=5)\n",
        "    print(f\"MSER-5Y válido: ponto de truncagem={ponto}\")\n",
        "    c.eliminar_transiente(ponto)\n",
        "    print()"
      ]
    },
    {
      "cell_type": "code",
      "execution_count": null,
      "metadata": {
        "colab": {
          "base_uri": "https://localhost:8080/"
        },
        "id": "U5NeqBg3Absa",
        "outputId": "3a3f4c18-27ed-4413-abf5-dec47eaeff34"
      },
      "outputs": [
        {
          "output_type": "stream",
          "name": "stderr",
          "text": [
            "N=2000 Gerando 1005 [995,1999]: 100%|██████████| 1005/1005 [00:00<00:00, 236574.00it/s]\n",
            "N=2000 Gerando 1005 [995,1999]: 100%|██████████| 1005/1005 [00:00<00:00, 221344.02it/s]\n",
            "N=2000 Gerando 1005 [995,1999]: 100%|██████████| 1005/1005 [00:00<00:00, 299806.22it/s]\n",
            "N=2000 Gerando 1035 [965,1999]: 100%|██████████| 1035/1035 [00:00<00:00, 289832.06it/s]\n"
          ]
        }
      ],
      "source": [
        "M = 100  #Medias Inicial\n",
        "B = 20  #Batch Inicial\n",
        "\n",
        "# N = M*B -> Gerar observações até o necessário\n",
        "nbm_cenarios = [NBM(c, M, B) for c in cenarios]"
      ]
    },
    {
      "cell_type": "code",
      "execution_count": null,
      "metadata": {
        "colab": {
          "base_uri": "https://localhost:8080/"
        },
        "id": "SC23xC0ZAbsa",
        "outputId": "32d89b77-8cbd-4975-9a36-0bf3395fc09c"
      },
      "outputs": [
        {
          "output_type": "stream",
          "name": "stdout",
          "text": [
            "\n",
            "Teste Von Neuman - Cenário 1, Tentativa 1-> N=28000: Sucesso\n",
            "\n",
            "Teste Von Neuman - Cenário 2, Tentativa 1-> N=2000: Sucesso\n",
            "\n",
            "Teste Von Neuman - Cenário 3, Tentativa 1-> N=2000: Sucesso\n",
            "\n",
            "Teste Von Neuman - Cenário 4, Tentativa 1-> N=2000: Sucesso\n"
          ]
        }
      ],
      "source": [
        "for i, cenario in enumerate(obm_cenarios):\n",
        "    tentativa = 1\n",
        "    while von_neuman(cenario) == False:\n",
        "        print(f\"Teste Von Neuman - Cenário {i + 1}, Tentativa {tentativa}-> N={cenario.fila.n}: Falha\")\n",
        "        cenario.incrementar(100)\n",
        "        tentativa += 1\n",
        "    print(f\"\\nTeste Von Neuman - Cenário {i + 1}, Tentativa {tentativa}-> N={cenario.fila.n}: Sucesso\")\n"
      ]
    },
    {
      "cell_type": "code",
      "execution_count": null,
      "metadata": {
        "colab": {
          "base_uri": "https://localhost:8080/"
        },
        "id": "yxAQbsp-Absa",
        "outputId": "4dcea534-194f-4b7d-d812-b5c40df1276f"
      },
      "outputs": [
        {
          "output_type": "stream",
          "name": "stdout",
          "text": [
            "\n",
            "Cenário 1\n",
            "\n"
          ]
        },
        {
          "output_type": "stream",
          "name": "stderr",
          "text": [
            "N=3900 Gerando 1900 [2000,3899]: 100%|██████████| 1900/1900 [00:00<00:00, 240267.05it/s]\n",
            "N=7700 Gerando 3800 [3900,7699]: 100%|██████████| 3800/3800 [00:00<00:00, 270068.37it/s]\n",
            "N=15300 Gerando 7600 [7700,15299]: 100%|██████████| 7600/7600 [00:00<00:00, 380863.01it/s]\n",
            "N=30500 Gerando 15200 [15300,30499]: 100%|██████████| 15200/15200 [00:00<00:00, 488505.76it/s]\n"
          ]
        },
        {
          "output_type": "stream",
          "name": "stdout",
          "text": [
            "\n",
            "Cenário 1: Media=0.21999747405085113, H=0.010678788465360948\n",
            "\n",
            "\n",
            "Cenário 2\n",
            "\n"
          ]
        },
        {
          "output_type": "stream",
          "name": "stderr",
          "text": [
            "N=3900 Gerando 1900 [2000,3899]: 100%|██████████| 1900/1900 [00:00<00:00, 379105.54it/s]\n",
            "N=7700 Gerando 3800 [3900,7699]: 100%|██████████| 3800/3800 [00:00<00:00, 464147.33it/s]\n",
            "N=15300 Gerando 7600 [7700,15299]: 100%|██████████| 7600/7600 [00:00<00:00, 405257.07it/s]\n",
            "N=30500 Gerando 15200 [15300,30499]: 100%|██████████| 15200/15200 [00:00<00:00, 395961.85it/s]\n",
            "N=60900 Gerando 30400 [30500,60899]: 100%|██████████| 30400/30400 [00:00<00:00, 555747.61it/s]\n"
          ]
        },
        {
          "output_type": "stream",
          "name": "stdout",
          "text": [
            "\n",
            "Cenário 2: Media=0.37456788876974184, H=0.01730649094971828\n",
            "\n",
            "\n",
            "Cenário 3\n",
            "\n"
          ]
        },
        {
          "output_type": "stream",
          "name": "stderr",
          "text": [
            "N=3900 Gerando 1900 [2000,3899]: 100%|██████████| 1900/1900 [00:00<00:00, 198430.76it/s]\n",
            "N=7700 Gerando 3800 [3900,7699]: 100%|██████████| 3800/3800 [00:00<00:00, 347930.65it/s]\n",
            "N=15300 Gerando 7600 [7700,15299]: 100%|██████████| 7600/7600 [00:00<00:00, 418318.55it/s]\n",
            "N=30500 Gerando 15200 [15300,30499]: 100%|██████████| 15200/15200 [00:00<00:00, 517160.04it/s]\n",
            "N=60900 Gerando 30400 [30500,60899]: 100%|██████████| 30400/30400 [00:00<00:00, 541200.52it/s]\n",
            "N=121700 Gerando 60800 [60900,121699]: 100%|██████████| 60800/60800 [00:00<00:00, 526326.65it/s]\n"
          ]
        },
        {
          "output_type": "stream",
          "name": "stdout",
          "text": [
            "\n",
            "Cenário 3: Media=1.00074398587705, H=0.042176746350420485\n",
            "\n",
            "\n",
            "Cenário 4\n",
            "\n"
          ]
        },
        {
          "output_type": "stream",
          "name": "stderr",
          "text": [
            "N=3900 Gerando 1900 [2000,3899]: 100%|██████████| 1900/1900 [00:00<00:00, 502850.68it/s]\n",
            "N=7700 Gerando 3800 [3900,7699]: 100%|██████████| 3800/3800 [00:00<00:00, 210354.57it/s]\n",
            "N=15300 Gerando 7600 [7700,15299]: 100%|██████████| 7600/7600 [00:00<00:00, 461432.94it/s]\n",
            "N=30500 Gerando 15200 [15300,30499]: 100%|██████████| 15200/15200 [00:00<00:00, 462386.74it/s]\n",
            "N=60900 Gerando 30400 [30500,60899]: 100%|██████████| 30400/30400 [00:00<00:00, 563302.24it/s]\n",
            "N=121700 Gerando 60800 [60900,121699]: 100%|██████████| 60800/60800 [00:00<00:00, 492322.47it/s]\n",
            "N=243300 Gerando 121600 [121700,243299]: 100%|██████████| 121600/121600 [00:00<00:00, 555639.84it/s]"
          ]
        },
        {
          "output_type": "stream",
          "name": "stdout",
          "text": [
            "\n",
            "Cenário 4: Media=2.242083050633792, H=0.07836916012367813\n",
            "\n"
          ]
        },
        {
          "output_type": "stream",
          "name": "stderr",
          "text": [
            "\n"
          ]
        }
      ],
      "source": [
        "resultados = []\n",
        "for i, cenario in enumerate(nbm_cenarios):\n",
        "    print(f'\\nCenário {i + 1}\\n')\n",
        "    cenario.agrupamento_obm(overlap=0.50)\n",
        "    media, H = cenario.metricas_obm()\n",
        "    precisao_relativa = H / media\n",
        "    while precisao_relativa > 0.05:\n",
        "        cenario.fila.redimensionar(cenario.B_linha * cenario.M)\n",
        "        cenario.agrupamento_obm(overlap=0.50)\n",
        "        media, H = cenario.metricas_obm()\n",
        "        precisao_relativa = H / media\n",
        "    print(f'\\nCenário {i + 1}: Media={media}, H={H}\\n')\n",
        "    resultados.append((media, H))"
      ]
    },
    {
      "cell_type": "code",
      "execution_count": null,
      "metadata": {
        "colab": {
          "base_uri": "https://localhost:8080/",
          "height": 299
        },
        "id": "5DzkkOOkAbsb",
        "outputId": "5882c257-4afd-4152-c01e-cc280852c6a8"
      },
      "outputs": [
        {
          "output_type": "display_data",
          "data": {
            "text/plain": [
              "<Figure size 432x288 with 1 Axes>"
            ],
            "image/png": "[encoded data removed]"
          },
          "metadata": {
            "needs_background": "light"
          }
        }
      ],
      "source": [
        "valores_esperados = [c.fila.valor_esperado for c in obm_cenarios]\n",
        "plot_graph(resultados, valores_esperados, \"Parte 3: OBM 50%\")"
      ]
    },
    {
      "cell_type": "markdown",
      "source": [
        "# Considerações Finais\n",
        "\n",
        "Usando o Método NBM, o cenário C-3 não ficou próximo do valor esperado. Usando OBM o resultado para 25% de overlapping foi o melhor de todos, onde todos os resultados ficando em torno do valor da média esperada, além de ter um resultado mais rápido na execução do método.\n",
        "\n",
        "O OBM para 10 e 50% falharam em um cenário e dois cenários, respectivamente. Vale ressaltar que o cenário de 10% também ficou em torno da média esperada no cenário mais difícil (C4).\n",
        "\n",
        "Na parte 2, o uso do OBM com 100% overlapping não ficou bem implementado e os resultados não ficaram condizentes com o que deveria ser, refletindo no gráfico de resultados. A dificuldade foi alcançar o valor bom de precisão relativa que gerava loops muito grandes devido a grande quantidade de overlapping. Reduzir o tamanho do overlapping melhor infinitamente o resultado da implementação.\n",
        "\n",
        "Portanto, o melhor método nesse experimento foi o OBM 25% em todos cenários."
      ],
      "metadata": {
        "id": "-Evz1V9-MyFr"
      }
    },
    {
      "cell_type": "code",
      "source": [],
      "metadata": {
        "id": "33yMrnHtOJMS"
      },
      "execution_count": null,
      "outputs": []
    }
  ],
  "metadata": {
    "colab": {
      "provenance": [],
      "include_colab_link": true
    },
    "kernelspec": {
      "display_name": "Python 3",
      "language": "python",
      "name": "python3"
    },
    "language_info": {
      "codemirror_mode": {
        "name": "ipython",
        "version": 3
      },
      "file_extension": ".py",
      "mimetype": "text/x-python",
      "name": "python",
      "nbconvert_exporter": "python",
      "pygments_lexer": "ipython3",
      "version": "3.11.1"
    },
    "vscode": {
      "interpreter": {
        "hash": "5238573367df39f7286bb46f9ff5f08f63a01a80960060ce41e3c79b190280fa"
      }
    }
  },
  "nbformat": 4,
  "nbformat_minor": 0
}